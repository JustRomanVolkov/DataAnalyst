{
 "cells": [
  {
   "cell_type": "markdown",
   "source": [
    "# А вот и наш первый минипроект :)\n",
    "\n",
    "## Задачи\n",
    "1. Импортируйте библиотеку pandas как pd.\n",
    "2. Загрузите датасет bookings.csv с разделителем ;. Проверьте размер таблицы, типы переменных, а затем выведите первые 7 строк, чтобы посмотреть на данные.\n",
    "3. Приведите названия колонок к нижнему регистру и замените пробелы на знак нижнего подчеркивания.\n",
    "4. Пользователи из каких стран совершили наибольшее число успешных бронирований? Укажите топ-5.\n",
    "5. На сколько ночей в среднем бронируют отели разных типов?\n",
    "6. Иногда тип номера, полученного клиентом (assigned_room_type), отличается от изначально забронированного (reserved_room_type). Такое может произойти, например, по причине овербукинга. Сколько подобных наблюдений встретилось в датасете?\n",
    "7. Проанализируйте даты запланированного прибытия.\n",
    "– На какой месяц чаще всего успешно оформляли бронь в 2016? Изменился ли самый популярный месяц в 2017?\n",
    "– Сгруппируйте данные по годам и проверьте, на какой месяц бронирования отеля типа City Hotel отменялись чаще всего в каждый из периодов.\n",
    "8. Посмотрите на числовые характеристики трёх переменных: adults, children и babies. Какая из них имеет наибольшее среднее значение?\n",
    "9. Создайте колонку total_kids, объединив children и babies. Отели какого типа в среднем пользуются большей популярностью у клиентов с детьми?\n",
    "10. Создайте переменную has_kids, которая принимает значение True, если клиент при бронировании указал хотя бы одного ребенка (total_kids), и False – в противном случае. Посчитайте отношение количества ушедших пользователей к общему количеству клиентов, выраженное в процентах (churn rate). Укажите, среди какой группы показатель выше.\n",
    "\n",
    "\n",
    "### Описание данных\n",
    "Имеются следующие переменные:\n",
    "\n",
    "Hotel – тип отеля (City Hotel или Resort Hotel)\n",
    "Is canceled – бронирование было отменено (1) или нет (0); неотменённое считается успешным\n",
    "Lead time – количество дней, прошедших между датой бронирования и датой прибытия\n",
    "Arrival full date – полная дата прибытия\n",
    "Arrival date year – год прибытия\n",
    "Arrival date month – месяц прибытия\n",
    "Arrival date week number – номер недели прибытия\n",
    "Arrival date day of month – день прибытия\n",
    "Stays in weekend nights – количество выходных (суббота или воскресенье), которые гость забронировал для проживания в отеле\n",
    "Stays in week nights – количество дней (с понедельника по пятницу), которые гость забронировал для проживания в отеле\n",
    "Stays total nights – общее число забронированных ночей (сумма двух предыдущих колонок)\n",
    "Adults – число взрослых\n",
    "Children – число детей\n",
    "Babies – число младенцев\n",
    "Meal – выбранный тип питания\n",
    "Country – страна происхождения клиента\n",
    "Reserved room type – тип зарезервированного номера\n",
    "Assigned room type – тип полученного номера (может отличаться от забронированного)\n",
    "Customer type – тип бронирования\n",
    "Reservation status – значение последнего статуса брони: Canceled – было отменено клиентом; Check-Out – клиент зарегистрировался, но уже покинул отель; No-Show – клиент не зарегистрировался и сообщил администрации отеля причину\n",
    "Reservation status date – дата обновления статуса"
   ],
   "metadata": {
    "collapsed": false,
    "pycharm": {
     "name": "#%% md\n"
    }
   }
  },
  {
   "cell_type": "code",
   "execution_count": 119,
   "outputs": [],
   "source": [
    "import pandas as pd"
   ],
   "metadata": {
    "collapsed": false,
    "pycharm": {
     "name": "#%%\n"
    }
   }
  },
  {
   "cell_type": "code",
   "execution_count": 120,
   "outputs": [],
   "source": [
    "bookings = pd.read_csv('https://stepik.org/media/attachments/lesson/360344/bookings.csv', encoding='utf-8', sep=';')"
   ],
   "metadata": {
    "collapsed": false,
    "pycharm": {
     "name": "#%%\n"
    }
   }
  },
  {
   "cell_type": "code",
   "execution_count": 121,
   "outputs": [],
   "source": [
    "bookings_head = bookings.head(7)"
   ],
   "metadata": {
    "collapsed": false,
    "pycharm": {
     "name": "#%%\n"
    }
   }
  },
  {
   "cell_type": "code",
   "execution_count": 122,
   "outputs": [
    {
     "data": {
      "text/plain": "          Hotel  Is Canceled  Lead Time arrival full date  Arrival Date Year  \\\n0  Resort Hotel            0        342        2015-07-01               2015   \n1  Resort Hotel            0        737        2015-07-01               2015   \n2  Resort Hotel            0          7        2015-07-01               2015   \n3  Resort Hotel            0         13        2015-07-01               2015   \n4  Resort Hotel            0         14        2015-07-01               2015   \n5  Resort Hotel            0         14        2015-07-01               2015   \n6  Resort Hotel            0          0        2015-07-01               2015   \n\n  Arrival Date Month  Arrival Date Week Number  Arrival Date Day of Month  \\\n0               July                        27                          1   \n1               July                        27                          1   \n2               July                        27                          1   \n3               July                        27                          1   \n4               July                        27                          1   \n5               July                        27                          1   \n6               July                        27                          1   \n\n   Stays in Weekend nights  Stays in week nights  ...  Adults  Children  \\\n0                        0                     0  ...       2       0.0   \n1                        0                     0  ...       2       0.0   \n2                        0                     1  ...       1       0.0   \n3                        0                     1  ...       1       0.0   \n4                        0                     2  ...       2       0.0   \n5                        0                     2  ...       2       0.0   \n6                        0                     2  ...       2       0.0   \n\n   Babies  Meal Country Reserved Room Type Assigned room type customer type  \\\n0       0    BB     PRT                  C                  C     Transient   \n1       0    BB     PRT                  C                  C     Transient   \n2       0    BB     GBR                  A                  C     Transient   \n3       0    BB     GBR                  A                  A     Transient   \n4       0    BB     GBR                  A                  A     Transient   \n5       0    BB     GBR                  A                  A     Transient   \n6       0    BB     PRT                  C                  C     Transient   \n\n  Reservation Status Reservation status_date  \n0          Check-Out              2015-07-01  \n1          Check-Out              2015-07-01  \n2          Check-Out              2015-07-02  \n3          Check-Out              2015-07-02  \n4          Check-Out              2015-07-03  \n5          Check-Out              2015-07-03  \n6          Check-Out              2015-07-03  \n\n[7 rows x 21 columns]",
      "text/html": "<div>\n<style scoped>\n    .dataframe tbody tr th:only-of-type {\n        vertical-align: middle;\n    }\n\n    .dataframe tbody tr th {\n        vertical-align: top;\n    }\n\n    .dataframe thead th {\n        text-align: right;\n    }\n</style>\n<table border=\"1\" class=\"dataframe\">\n  <thead>\n    <tr style=\"text-align: right;\">\n      <th></th>\n      <th>Hotel</th>\n      <th>Is Canceled</th>\n      <th>Lead Time</th>\n      <th>arrival full date</th>\n      <th>Arrival Date Year</th>\n      <th>Arrival Date Month</th>\n      <th>Arrival Date Week Number</th>\n      <th>Arrival Date Day of Month</th>\n      <th>Stays in Weekend nights</th>\n      <th>Stays in week nights</th>\n      <th>...</th>\n      <th>Adults</th>\n      <th>Children</th>\n      <th>Babies</th>\n      <th>Meal</th>\n      <th>Country</th>\n      <th>Reserved Room Type</th>\n      <th>Assigned room type</th>\n      <th>customer type</th>\n      <th>Reservation Status</th>\n      <th>Reservation status_date</th>\n    </tr>\n  </thead>\n  <tbody>\n    <tr>\n      <th>0</th>\n      <td>Resort Hotel</td>\n      <td>0</td>\n      <td>342</td>\n      <td>2015-07-01</td>\n      <td>2015</td>\n      <td>July</td>\n      <td>27</td>\n      <td>1</td>\n      <td>0</td>\n      <td>0</td>\n      <td>...</td>\n      <td>2</td>\n      <td>0.0</td>\n      <td>0</td>\n      <td>BB</td>\n      <td>PRT</td>\n      <td>C</td>\n      <td>C</td>\n      <td>Transient</td>\n      <td>Check-Out</td>\n      <td>2015-07-01</td>\n    </tr>\n    <tr>\n      <th>1</th>\n      <td>Resort Hotel</td>\n      <td>0</td>\n      <td>737</td>\n      <td>2015-07-01</td>\n      <td>2015</td>\n      <td>July</td>\n      <td>27</td>\n      <td>1</td>\n      <td>0</td>\n      <td>0</td>\n      <td>...</td>\n      <td>2</td>\n      <td>0.0</td>\n      <td>0</td>\n      <td>BB</td>\n      <td>PRT</td>\n      <td>C</td>\n      <td>C</td>\n      <td>Transient</td>\n      <td>Check-Out</td>\n      <td>2015-07-01</td>\n    </tr>\n    <tr>\n      <th>2</th>\n      <td>Resort Hotel</td>\n      <td>0</td>\n      <td>7</td>\n      <td>2015-07-01</td>\n      <td>2015</td>\n      <td>July</td>\n      <td>27</td>\n      <td>1</td>\n      <td>0</td>\n      <td>1</td>\n      <td>...</td>\n      <td>1</td>\n      <td>0.0</td>\n      <td>0</td>\n      <td>BB</td>\n      <td>GBR</td>\n      <td>A</td>\n      <td>C</td>\n      <td>Transient</td>\n      <td>Check-Out</td>\n      <td>2015-07-02</td>\n    </tr>\n    <tr>\n      <th>3</th>\n      <td>Resort Hotel</td>\n      <td>0</td>\n      <td>13</td>\n      <td>2015-07-01</td>\n      <td>2015</td>\n      <td>July</td>\n      <td>27</td>\n      <td>1</td>\n      <td>0</td>\n      <td>1</td>\n      <td>...</td>\n      <td>1</td>\n      <td>0.0</td>\n      <td>0</td>\n      <td>BB</td>\n      <td>GBR</td>\n      <td>A</td>\n      <td>A</td>\n      <td>Transient</td>\n      <td>Check-Out</td>\n      <td>2015-07-02</td>\n    </tr>\n    <tr>\n      <th>4</th>\n      <td>Resort Hotel</td>\n      <td>0</td>\n      <td>14</td>\n      <td>2015-07-01</td>\n      <td>2015</td>\n      <td>July</td>\n      <td>27</td>\n      <td>1</td>\n      <td>0</td>\n      <td>2</td>\n      <td>...</td>\n      <td>2</td>\n      <td>0.0</td>\n      <td>0</td>\n      <td>BB</td>\n      <td>GBR</td>\n      <td>A</td>\n      <td>A</td>\n      <td>Transient</td>\n      <td>Check-Out</td>\n      <td>2015-07-03</td>\n    </tr>\n    <tr>\n      <th>5</th>\n      <td>Resort Hotel</td>\n      <td>0</td>\n      <td>14</td>\n      <td>2015-07-01</td>\n      <td>2015</td>\n      <td>July</td>\n      <td>27</td>\n      <td>1</td>\n      <td>0</td>\n      <td>2</td>\n      <td>...</td>\n      <td>2</td>\n      <td>0.0</td>\n      <td>0</td>\n      <td>BB</td>\n      <td>GBR</td>\n      <td>A</td>\n      <td>A</td>\n      <td>Transient</td>\n      <td>Check-Out</td>\n      <td>2015-07-03</td>\n    </tr>\n    <tr>\n      <th>6</th>\n      <td>Resort Hotel</td>\n      <td>0</td>\n      <td>0</td>\n      <td>2015-07-01</td>\n      <td>2015</td>\n      <td>July</td>\n      <td>27</td>\n      <td>1</td>\n      <td>0</td>\n      <td>2</td>\n      <td>...</td>\n      <td>2</td>\n      <td>0.0</td>\n      <td>0</td>\n      <td>BB</td>\n      <td>PRT</td>\n      <td>C</td>\n      <td>C</td>\n      <td>Transient</td>\n      <td>Check-Out</td>\n      <td>2015-07-03</td>\n    </tr>\n  </tbody>\n</table>\n<p>7 rows × 21 columns</p>\n</div>"
     },
     "execution_count": 122,
     "metadata": {},
     "output_type": "execute_result"
    }
   ],
   "source": [
    "bookings_head"
   ],
   "metadata": {
    "collapsed": false,
    "pycharm": {
     "name": "#%%\n"
    }
   }
  },
  {
   "cell_type": "markdown",
   "source": [
    "2. Посмотрите на размеры таблицы. Сколько всего в ней столбцов?"
   ],
   "metadata": {
    "collapsed": false,
    "pycharm": {
     "name": "#%% md\n"
    }
   }
  },
  {
   "cell_type": "code",
   "execution_count": 123,
   "outputs": [
    {
     "data": {
      "text/plain": "(119390, 21)"
     },
     "execution_count": 123,
     "metadata": {},
     "output_type": "execute_result"
    }
   ],
   "source": [
    "bookings.shape"
   ],
   "metadata": {
    "collapsed": false,
    "pycharm": {
     "name": "#%%\n"
    }
   }
  },
  {
   "cell_type": "markdown",
   "source": [
    "3. К какому типу относится большинство переменных?"
   ],
   "metadata": {
    "collapsed": false,
    "pycharm": {
     "name": "#%% md\n"
    }
   }
  },
  {
   "cell_type": "code",
   "execution_count": 124,
   "outputs": [
    {
     "data": {
      "text/plain": "object     10\nint64      10\nfloat64     1\nName: count, dtype: int64"
     },
     "execution_count": 124,
     "metadata": {},
     "output_type": "execute_result"
    }
   ],
   "source": [
    "bookings.dtypes.value_counts()"
   ],
   "metadata": {
    "collapsed": false,
    "pycharm": {
     "name": "#%%\n"
    }
   }
  },
  {
   "cell_type": "markdown",
   "source": [
    "4. Как вы уже могли заметить, при сборе датасета произошла небольшая ошибка, и названия колонок были записаны в неудобном для дальнейшей работы формате. Исправьте ситуацию: приведите названия столбцов к нижнему регистру и замените пробелы на знак нижнего подчёркивания. Например: Is Canceled -> is_canceled"
   ],
   "metadata": {
    "collapsed": false,
    "pycharm": {
     "name": "#%% md\n"
    }
   }
  },
  {
   "cell_type": "code",
   "execution_count": 125,
   "outputs": [],
   "source": [
    "bookings = bookings.rename(columns=lambda  x: x.lower().replace(' ', '_'))"
   ],
   "metadata": {
    "collapsed": false,
    "pycharm": {
     "name": "#%%\n"
    }
   }
  },
  {
   "cell_type": "code",
   "execution_count": 126,
   "outputs": [
    {
     "data": {
      "text/plain": "               hotel  is_canceled  lead_time arrival_full_date  \\\n0       Resort Hotel            0        342        2015-07-01   \n1       Resort Hotel            0        737        2015-07-01   \n2       Resort Hotel            0          7        2015-07-01   \n3       Resort Hotel            0         13        2015-07-01   \n4       Resort Hotel            0         14        2015-07-01   \n...              ...          ...        ...               ...   \n119385    City Hotel            0         23        2017-08-30   \n119386    City Hotel            0        102        2017-08-31   \n119387    City Hotel            0         34        2017-08-31   \n119388    City Hotel            0        109        2017-08-31   \n119389    City Hotel            0        205        2017-08-29   \n\n        arrival_date_year arrival_date_month  arrival_date_week_number  \\\n0                    2015               July                        27   \n1                    2015               July                        27   \n2                    2015               July                        27   \n3                    2015               July                        27   \n4                    2015               July                        27   \n...                   ...                ...                       ...   \n119385               2017             August                        35   \n119386               2017             August                        35   \n119387               2017             August                        35   \n119388               2017             August                        35   \n119389               2017             August                        35   \n\n        arrival_date_day_of_month  stays_in_weekend_nights  \\\n0                               1                        0   \n1                               1                        0   \n2                               1                        0   \n3                               1                        0   \n4                               1                        0   \n...                           ...                      ...   \n119385                         30                        2   \n119386                         31                        2   \n119387                         31                        2   \n119388                         31                        2   \n119389                         29                        2   \n\n        stays_in_week_nights  ...  adults  children  babies  meal country  \\\n0                          0  ...       2       0.0       0    BB     PRT   \n1                          0  ...       2       0.0       0    BB     PRT   \n2                          1  ...       1       0.0       0    BB     GBR   \n3                          1  ...       1       0.0       0    BB     GBR   \n4                          2  ...       2       0.0       0    BB     GBR   \n...                      ...  ...     ...       ...     ...   ...     ...   \n119385                     5  ...       2       0.0       0    BB     BEL   \n119386                     5  ...       3       0.0       0    BB     FRA   \n119387                     5  ...       2       0.0       0    BB     DEU   \n119388                     5  ...       2       0.0       0    BB     GBR   \n119389                     7  ...       2       0.0       0    HB     DEU   \n\n       reserved_room_type assigned_room_type customer_type reservation_status  \\\n0                       C                  C     Transient          Check-Out   \n1                       C                  C     Transient          Check-Out   \n2                       A                  C     Transient          Check-Out   \n3                       A                  A     Transient          Check-Out   \n4                       A                  A     Transient          Check-Out   \n...                   ...                ...           ...                ...   \n119385                  A                  A     Transient          Check-Out   \n119386                  E                  E     Transient          Check-Out   \n119387                  D                  D     Transient          Check-Out   \n119388                  A                  A     Transient          Check-Out   \n119389                  A                  A     Transient          Check-Out   \n\n       reservation_status_date  \n0                   2015-07-01  \n1                   2015-07-01  \n2                   2015-07-02  \n3                   2015-07-02  \n4                   2015-07-03  \n...                        ...  \n119385              2017-09-06  \n119386              2017-09-07  \n119387              2017-09-07  \n119388              2017-09-07  \n119389              2017-09-07  \n\n[119390 rows x 21 columns]",
      "text/html": "<div>\n<style scoped>\n    .dataframe tbody tr th:only-of-type {\n        vertical-align: middle;\n    }\n\n    .dataframe tbody tr th {\n        vertical-align: top;\n    }\n\n    .dataframe thead th {\n        text-align: right;\n    }\n</style>\n<table border=\"1\" class=\"dataframe\">\n  <thead>\n    <tr style=\"text-align: right;\">\n      <th></th>\n      <th>hotel</th>\n      <th>is_canceled</th>\n      <th>lead_time</th>\n      <th>arrival_full_date</th>\n      <th>arrival_date_year</th>\n      <th>arrival_date_month</th>\n      <th>arrival_date_week_number</th>\n      <th>arrival_date_day_of_month</th>\n      <th>stays_in_weekend_nights</th>\n      <th>stays_in_week_nights</th>\n      <th>...</th>\n      <th>adults</th>\n      <th>children</th>\n      <th>babies</th>\n      <th>meal</th>\n      <th>country</th>\n      <th>reserved_room_type</th>\n      <th>assigned_room_type</th>\n      <th>customer_type</th>\n      <th>reservation_status</th>\n      <th>reservation_status_date</th>\n    </tr>\n  </thead>\n  <tbody>\n    <tr>\n      <th>0</th>\n      <td>Resort Hotel</td>\n      <td>0</td>\n      <td>342</td>\n      <td>2015-07-01</td>\n      <td>2015</td>\n      <td>July</td>\n      <td>27</td>\n      <td>1</td>\n      <td>0</td>\n      <td>0</td>\n      <td>...</td>\n      <td>2</td>\n      <td>0.0</td>\n      <td>0</td>\n      <td>BB</td>\n      <td>PRT</td>\n      <td>C</td>\n      <td>C</td>\n      <td>Transient</td>\n      <td>Check-Out</td>\n      <td>2015-07-01</td>\n    </tr>\n    <tr>\n      <th>1</th>\n      <td>Resort Hotel</td>\n      <td>0</td>\n      <td>737</td>\n      <td>2015-07-01</td>\n      <td>2015</td>\n      <td>July</td>\n      <td>27</td>\n      <td>1</td>\n      <td>0</td>\n      <td>0</td>\n      <td>...</td>\n      <td>2</td>\n      <td>0.0</td>\n      <td>0</td>\n      <td>BB</td>\n      <td>PRT</td>\n      <td>C</td>\n      <td>C</td>\n      <td>Transient</td>\n      <td>Check-Out</td>\n      <td>2015-07-01</td>\n    </tr>\n    <tr>\n      <th>2</th>\n      <td>Resort Hotel</td>\n      <td>0</td>\n      <td>7</td>\n      <td>2015-07-01</td>\n      <td>2015</td>\n      <td>July</td>\n      <td>27</td>\n      <td>1</td>\n      <td>0</td>\n      <td>1</td>\n      <td>...</td>\n      <td>1</td>\n      <td>0.0</td>\n      <td>0</td>\n      <td>BB</td>\n      <td>GBR</td>\n      <td>A</td>\n      <td>C</td>\n      <td>Transient</td>\n      <td>Check-Out</td>\n      <td>2015-07-02</td>\n    </tr>\n    <tr>\n      <th>3</th>\n      <td>Resort Hotel</td>\n      <td>0</td>\n      <td>13</td>\n      <td>2015-07-01</td>\n      <td>2015</td>\n      <td>July</td>\n      <td>27</td>\n      <td>1</td>\n      <td>0</td>\n      <td>1</td>\n      <td>...</td>\n      <td>1</td>\n      <td>0.0</td>\n      <td>0</td>\n      <td>BB</td>\n      <td>GBR</td>\n      <td>A</td>\n      <td>A</td>\n      <td>Transient</td>\n      <td>Check-Out</td>\n      <td>2015-07-02</td>\n    </tr>\n    <tr>\n      <th>4</th>\n      <td>Resort Hotel</td>\n      <td>0</td>\n      <td>14</td>\n      <td>2015-07-01</td>\n      <td>2015</td>\n      <td>July</td>\n      <td>27</td>\n      <td>1</td>\n      <td>0</td>\n      <td>2</td>\n      <td>...</td>\n      <td>2</td>\n      <td>0.0</td>\n      <td>0</td>\n      <td>BB</td>\n      <td>GBR</td>\n      <td>A</td>\n      <td>A</td>\n      <td>Transient</td>\n      <td>Check-Out</td>\n      <td>2015-07-03</td>\n    </tr>\n    <tr>\n      <th>...</th>\n      <td>...</td>\n      <td>...</td>\n      <td>...</td>\n      <td>...</td>\n      <td>...</td>\n      <td>...</td>\n      <td>...</td>\n      <td>...</td>\n      <td>...</td>\n      <td>...</td>\n      <td>...</td>\n      <td>...</td>\n      <td>...</td>\n      <td>...</td>\n      <td>...</td>\n      <td>...</td>\n      <td>...</td>\n      <td>...</td>\n      <td>...</td>\n      <td>...</td>\n      <td>...</td>\n    </tr>\n    <tr>\n      <th>119385</th>\n      <td>City Hotel</td>\n      <td>0</td>\n      <td>23</td>\n      <td>2017-08-30</td>\n      <td>2017</td>\n      <td>August</td>\n      <td>35</td>\n      <td>30</td>\n      <td>2</td>\n      <td>5</td>\n      <td>...</td>\n      <td>2</td>\n      <td>0.0</td>\n      <td>0</td>\n      <td>BB</td>\n      <td>BEL</td>\n      <td>A</td>\n      <td>A</td>\n      <td>Transient</td>\n      <td>Check-Out</td>\n      <td>2017-09-06</td>\n    </tr>\n    <tr>\n      <th>119386</th>\n      <td>City Hotel</td>\n      <td>0</td>\n      <td>102</td>\n      <td>2017-08-31</td>\n      <td>2017</td>\n      <td>August</td>\n      <td>35</td>\n      <td>31</td>\n      <td>2</td>\n      <td>5</td>\n      <td>...</td>\n      <td>3</td>\n      <td>0.0</td>\n      <td>0</td>\n      <td>BB</td>\n      <td>FRA</td>\n      <td>E</td>\n      <td>E</td>\n      <td>Transient</td>\n      <td>Check-Out</td>\n      <td>2017-09-07</td>\n    </tr>\n    <tr>\n      <th>119387</th>\n      <td>City Hotel</td>\n      <td>0</td>\n      <td>34</td>\n      <td>2017-08-31</td>\n      <td>2017</td>\n      <td>August</td>\n      <td>35</td>\n      <td>31</td>\n      <td>2</td>\n      <td>5</td>\n      <td>...</td>\n      <td>2</td>\n      <td>0.0</td>\n      <td>0</td>\n      <td>BB</td>\n      <td>DEU</td>\n      <td>D</td>\n      <td>D</td>\n      <td>Transient</td>\n      <td>Check-Out</td>\n      <td>2017-09-07</td>\n    </tr>\n    <tr>\n      <th>119388</th>\n      <td>City Hotel</td>\n      <td>0</td>\n      <td>109</td>\n      <td>2017-08-31</td>\n      <td>2017</td>\n      <td>August</td>\n      <td>35</td>\n      <td>31</td>\n      <td>2</td>\n      <td>5</td>\n      <td>...</td>\n      <td>2</td>\n      <td>0.0</td>\n      <td>0</td>\n      <td>BB</td>\n      <td>GBR</td>\n      <td>A</td>\n      <td>A</td>\n      <td>Transient</td>\n      <td>Check-Out</td>\n      <td>2017-09-07</td>\n    </tr>\n    <tr>\n      <th>119389</th>\n      <td>City Hotel</td>\n      <td>0</td>\n      <td>205</td>\n      <td>2017-08-29</td>\n      <td>2017</td>\n      <td>August</td>\n      <td>35</td>\n      <td>29</td>\n      <td>2</td>\n      <td>7</td>\n      <td>...</td>\n      <td>2</td>\n      <td>0.0</td>\n      <td>0</td>\n      <td>HB</td>\n      <td>DEU</td>\n      <td>A</td>\n      <td>A</td>\n      <td>Transient</td>\n      <td>Check-Out</td>\n      <td>2017-09-07</td>\n    </tr>\n  </tbody>\n</table>\n<p>119390 rows × 21 columns</p>\n</div>"
     },
     "execution_count": 126,
     "metadata": {},
     "output_type": "execute_result"
    }
   ],
   "source": [
    "bookings"
   ],
   "metadata": {
    "collapsed": false,
    "pycharm": {
     "name": "#%%\n"
    }
   }
  },
  {
   "cell_type": "markdown",
   "source": [
    "5. Перейдём к исследованию данных! Пользователи из каких стран совершили наибольшее число успешных бронирований?\n",
    "Бронирование считается успешным, если в дальнейшем оно не было отменено (переменная is_canceled). В качестве ответа выберите страны, входящие в топ-5."
   ],
   "metadata": {
    "collapsed": false,
    "pycharm": {
     "name": "#%% md\n"
    }
   }
  },
  {
   "cell_type": "code",
   "execution_count": 127,
   "outputs": [
    {
     "data": {
      "text/plain": "country\nPRT    21071\nGBR     9676\nFRA     8481\nESP     6391\nDEU     6069\nName: count, dtype: int64"
     },
     "execution_count": 127,
     "metadata": {},
     "output_type": "execute_result"
    }
   ],
   "source": [
    "bookings.query('is_canceled == 0').country.value_counts()[:5]"
   ],
   "metadata": {
    "collapsed": false,
    "pycharm": {
     "name": "#%%\n"
    }
   }
  },
  {
   "cell_type": "markdown",
   "source": [
    "6. На сколько ночей (stays_total_nights) в среднем бронируют отели типа City Hotel? Resort Hotel?\n",
    " Получите значения с точностью до 2 знаков после точки."
   ],
   "metadata": {
    "collapsed": false,
    "pycharm": {
     "name": "#%% md\n"
    }
   }
  },
  {
   "cell_type": "code",
   "execution_count": 128,
   "outputs": [
    {
     "data": {
      "text/plain": "              stays_total_nights\nhotel                           \nCity Hotel                  2.98\nResort Hotel                4.32",
      "text/html": "<div>\n<style scoped>\n    .dataframe tbody tr th:only-of-type {\n        vertical-align: middle;\n    }\n\n    .dataframe tbody tr th {\n        vertical-align: top;\n    }\n\n    .dataframe thead th {\n        text-align: right;\n    }\n</style>\n<table border=\"1\" class=\"dataframe\">\n  <thead>\n    <tr style=\"text-align: right;\">\n      <th></th>\n      <th>stays_total_nights</th>\n    </tr>\n    <tr>\n      <th>hotel</th>\n      <th></th>\n    </tr>\n  </thead>\n  <tbody>\n    <tr>\n      <th>City Hotel</th>\n      <td>2.98</td>\n    </tr>\n    <tr>\n      <th>Resort Hotel</th>\n      <td>4.32</td>\n    </tr>\n  </tbody>\n</table>\n</div>"
     },
     "execution_count": 128,
     "metadata": {},
     "output_type": "execute_result"
    }
   ],
   "source": [
    "bookings\\\n",
    "    .groupby('hotel')\\\n",
    "    .agg({'stays_total_nights': 'mean'})\\\n",
    "    .round(2)"
   ],
   "metadata": {
    "collapsed": false,
    "pycharm": {
     "name": "#%%\n"
    }
   }
  },
  {
   "cell_type": "code",
   "execution_count": 129,
   "outputs": [
    {
     "data": {
      "text/plain": "4.32"
     },
     "execution_count": 129,
     "metadata": {},
     "output_type": "execute_result"
    }
   ],
   "source": [
    "bookings\\\n",
    "    .query('hotel == \"Resort Hotel\"')\\\n",
    "    .stays_total_nights\\\n",
    "    .mean()\\\n",
    "    .round(2)"
   ],
   "metadata": {
    "collapsed": false,
    "pycharm": {
     "name": "#%%\n"
    }
   }
  },
  {
   "cell_type": "markdown",
   "source": [
    "7. Иногда тип номера, полученного клиентом (assigned_room_type), отличается от изначально забронированного (reserved_room_type). Такое может произойти, например, по причине овербукинга.\n",
    "Сколько подобных наблюдений встретилось в датасете?\n",
    "*отмена бронирования также считается"
   ],
   "metadata": {
    "collapsed": false,
    "pycharm": {
     "name": "#%% md\n"
    }
   }
  },
  {
   "cell_type": "code",
   "execution_count": 130,
   "outputs": [],
   "source": [
    "overbookings = bookings[['assigned_room_type', 'reserved_room_type']]"
   ],
   "metadata": {
    "collapsed": false,
    "pycharm": {
     "name": "#%%\n"
    }
   }
  },
  {
   "cell_type": "code",
   "execution_count": 131,
   "outputs": [
    {
     "data": {
      "text/plain": "       assigned_room_type reserved_room_type\n0                       C                  C\n1                       C                  C\n2                       C                  A\n3                       A                  A\n4                       A                  A\n...                   ...                ...\n119385                  A                  A\n119386                  E                  E\n119387                  D                  D\n119388                  A                  A\n119389                  A                  A\n\n[119390 rows x 2 columns]",
      "text/html": "<div>\n<style scoped>\n    .dataframe tbody tr th:only-of-type {\n        vertical-align: middle;\n    }\n\n    .dataframe tbody tr th {\n        vertical-align: top;\n    }\n\n    .dataframe thead th {\n        text-align: right;\n    }\n</style>\n<table border=\"1\" class=\"dataframe\">\n  <thead>\n    <tr style=\"text-align: right;\">\n      <th></th>\n      <th>assigned_room_type</th>\n      <th>reserved_room_type</th>\n    </tr>\n  </thead>\n  <tbody>\n    <tr>\n      <th>0</th>\n      <td>C</td>\n      <td>C</td>\n    </tr>\n    <tr>\n      <th>1</th>\n      <td>C</td>\n      <td>C</td>\n    </tr>\n    <tr>\n      <th>2</th>\n      <td>C</td>\n      <td>A</td>\n    </tr>\n    <tr>\n      <th>3</th>\n      <td>A</td>\n      <td>A</td>\n    </tr>\n    <tr>\n      <th>4</th>\n      <td>A</td>\n      <td>A</td>\n    </tr>\n    <tr>\n      <th>...</th>\n      <td>...</td>\n      <td>...</td>\n    </tr>\n    <tr>\n      <th>119385</th>\n      <td>A</td>\n      <td>A</td>\n    </tr>\n    <tr>\n      <th>119386</th>\n      <td>E</td>\n      <td>E</td>\n    </tr>\n    <tr>\n      <th>119387</th>\n      <td>D</td>\n      <td>D</td>\n    </tr>\n    <tr>\n      <th>119388</th>\n      <td>A</td>\n      <td>A</td>\n    </tr>\n    <tr>\n      <th>119389</th>\n      <td>A</td>\n      <td>A</td>\n    </tr>\n  </tbody>\n</table>\n<p>119390 rows × 2 columns</p>\n</div>"
     },
     "execution_count": 131,
     "metadata": {},
     "output_type": "execute_result"
    }
   ],
   "source": [
    "overbookings"
   ],
   "metadata": {
    "collapsed": false,
    "pycharm": {
     "name": "#%%\n"
    }
   }
  },
  {
   "cell_type": "code",
   "execution_count": 132,
   "outputs": [
    {
     "data": {
      "text/plain": "14917"
     },
     "execution_count": 132,
     "metadata": {},
     "output_type": "execute_result"
    }
   ],
   "source": [
    "overbookings.query('assigned_room_type != reserved_room_type').shape[0]"
   ],
   "metadata": {
    "collapsed": false,
    "pycharm": {
     "name": "#%%\n"
    }
   }
  },
  {
   "cell_type": "markdown",
   "source": [
    "8. Теперь проанализируйте даты запланированного прибытия (arrival_date_year).\n",
    "На какой месяц чаще всего оформляли бронь в 2016 году? Изменился ли самый популярный месяц в 2017 году?"
   ],
   "metadata": {
    "collapsed": false,
    "pycharm": {
     "name": "#%% md\n"
    }
   }
  },
  {
   "cell_type": "code",
   "execution_count": 133,
   "outputs": [
    {
     "data": {
      "text/plain": "arrival_date_month\nOctober      6203\nMay          5478\nApril        5428\nSeptember    5394\nJune         5292\nAugust       5063\nMarch        4824\nJuly         4572\nNovember     4454\nFebruary     3891\nDecember     3860\nJanuary      2248\nName: count, dtype: int64"
     },
     "execution_count": 133,
     "metadata": {},
     "output_type": "execute_result"
    }
   ],
   "source": [
    "bookings\\\n",
    "    .query('arrival_date_year == 2016')\\\n",
    "    .arrival_date_month\\\n",
    "    .value_counts()"
   ],
   "metadata": {
    "collapsed": false,
    "pycharm": {
     "name": "#%%\n"
    }
   }
  },
  {
   "cell_type": "code",
   "execution_count": 134,
   "outputs": [
    {
     "data": {
      "text/plain": "arrival_date_month\nMay         6313\nApril       5661\nJune        5647\nJuly        5313\nMarch       4970\nAugust      4925\nFebruary    4177\nJanuary     3681\nName: count, dtype: int64"
     },
     "execution_count": 134,
     "metadata": {},
     "output_type": "execute_result"
    }
   ],
   "source": [
    "bookings\\\n",
    "    .query('arrival_date_year == 2017')\\\n",
    "    .arrival_date_month\\\n",
    "    .value_counts()"
   ],
   "metadata": {
    "collapsed": false,
    "pycharm": {
     "name": "#%%\n"
    }
   }
  },
  {
   "cell_type": "markdown",
   "source": [
    " 9. Сгруппируйте данные по годам, а затем проверьте, на какой месяц (arrival_date_month) бронирования отеля типа City Hotel отменялись чаще всего в 2015? 2016? 2017?"
   ],
   "metadata": {
    "collapsed": false,
    "pycharm": {
     "name": "#%% md\n"
    }
   }
  },
  {
   "cell_type": "code",
   "execution_count": 153,
   "outputs": [
    {
     "data": {
      "text/plain": "    arrival_date_year arrival_date_month  count\n0                2015          September   1543\n1                2015            October   1321\n2                2015             August   1232\n3                2015               July    939\n4                2015           December    668\n5                2015           November    301\n6                2016            October   1947\n7                2016               June   1720\n8                2016          September   1567\n9                2016              April   1539\n10               2016                May   1436\n11               2016           November   1360\n12               2016             August   1247\n13               2016              March   1108\n14               2016           December   1072\n15               2016               July   1043\n16               2016           February    930\n17               2016            January    438\n18               2017                May   2217\n19               2017              April   1926\n20               2017               June   1808\n21               2017               July   1324\n22               2017              March   1278\n23               2017             August   1123\n24               2017            January   1044\n25               2017           February    971",
      "text/html": "<div>\n<style scoped>\n    .dataframe tbody tr th:only-of-type {\n        vertical-align: middle;\n    }\n\n    .dataframe tbody tr th {\n        vertical-align: top;\n    }\n\n    .dataframe thead th {\n        text-align: right;\n    }\n</style>\n<table border=\"1\" class=\"dataframe\">\n  <thead>\n    <tr style=\"text-align: right;\">\n      <th></th>\n      <th>arrival_date_year</th>\n      <th>arrival_date_month</th>\n      <th>count</th>\n    </tr>\n  </thead>\n  <tbody>\n    <tr>\n      <th>0</th>\n      <td>2015</td>\n      <td>September</td>\n      <td>1543</td>\n    </tr>\n    <tr>\n      <th>1</th>\n      <td>2015</td>\n      <td>October</td>\n      <td>1321</td>\n    </tr>\n    <tr>\n      <th>2</th>\n      <td>2015</td>\n      <td>August</td>\n      <td>1232</td>\n    </tr>\n    <tr>\n      <th>3</th>\n      <td>2015</td>\n      <td>July</td>\n      <td>939</td>\n    </tr>\n    <tr>\n      <th>4</th>\n      <td>2015</td>\n      <td>December</td>\n      <td>668</td>\n    </tr>\n    <tr>\n      <th>5</th>\n      <td>2015</td>\n      <td>November</td>\n      <td>301</td>\n    </tr>\n    <tr>\n      <th>6</th>\n      <td>2016</td>\n      <td>October</td>\n      <td>1947</td>\n    </tr>\n    <tr>\n      <th>7</th>\n      <td>2016</td>\n      <td>June</td>\n      <td>1720</td>\n    </tr>\n    <tr>\n      <th>8</th>\n      <td>2016</td>\n      <td>September</td>\n      <td>1567</td>\n    </tr>\n    <tr>\n      <th>9</th>\n      <td>2016</td>\n      <td>April</td>\n      <td>1539</td>\n    </tr>\n    <tr>\n      <th>10</th>\n      <td>2016</td>\n      <td>May</td>\n      <td>1436</td>\n    </tr>\n    <tr>\n      <th>11</th>\n      <td>2016</td>\n      <td>November</td>\n      <td>1360</td>\n    </tr>\n    <tr>\n      <th>12</th>\n      <td>2016</td>\n      <td>August</td>\n      <td>1247</td>\n    </tr>\n    <tr>\n      <th>13</th>\n      <td>2016</td>\n      <td>March</td>\n      <td>1108</td>\n    </tr>\n    <tr>\n      <th>14</th>\n      <td>2016</td>\n      <td>December</td>\n      <td>1072</td>\n    </tr>\n    <tr>\n      <th>15</th>\n      <td>2016</td>\n      <td>July</td>\n      <td>1043</td>\n    </tr>\n    <tr>\n      <th>16</th>\n      <td>2016</td>\n      <td>February</td>\n      <td>930</td>\n    </tr>\n    <tr>\n      <th>17</th>\n      <td>2016</td>\n      <td>January</td>\n      <td>438</td>\n    </tr>\n    <tr>\n      <th>18</th>\n      <td>2017</td>\n      <td>May</td>\n      <td>2217</td>\n    </tr>\n    <tr>\n      <th>19</th>\n      <td>2017</td>\n      <td>April</td>\n      <td>1926</td>\n    </tr>\n    <tr>\n      <th>20</th>\n      <td>2017</td>\n      <td>June</td>\n      <td>1808</td>\n    </tr>\n    <tr>\n      <th>21</th>\n      <td>2017</td>\n      <td>July</td>\n      <td>1324</td>\n    </tr>\n    <tr>\n      <th>22</th>\n      <td>2017</td>\n      <td>March</td>\n      <td>1278</td>\n    </tr>\n    <tr>\n      <th>23</th>\n      <td>2017</td>\n      <td>August</td>\n      <td>1123</td>\n    </tr>\n    <tr>\n      <th>24</th>\n      <td>2017</td>\n      <td>January</td>\n      <td>1044</td>\n    </tr>\n    <tr>\n      <th>25</th>\n      <td>2017</td>\n      <td>February</td>\n      <td>971</td>\n    </tr>\n  </tbody>\n</table>\n</div>"
     },
     "execution_count": 153,
     "metadata": {},
     "output_type": "execute_result"
    }
   ],
   "source": [
    "(\n",
    "    bookings\n",
    "        .query('hotel == \"City Hotel\" and is_canceled == 1')\n",
    "        .groupby('arrival_date_year', as_index=False)\n",
    "        .arrival_date_month\n",
    "        .value_counts()\n",
    ")"
   ],
   "metadata": {
    "collapsed": false,
    "pycharm": {
     "name": "#%%\n"
    }
   }
  },
  {
   "cell_type": "markdown",
   "source": [
    "10. Посмотрите на числовые характеристики трёх колонок: adults, children и babies. Какая из них имеет наибольшее среднее значение?"
   ],
   "metadata": {
    "collapsed": false,
    "pycharm": {
     "name": "#%% md\n"
    }
   }
  },
  {
   "cell_type": "code",
   "execution_count": 155,
   "outputs": [
    {
     "data": {
      "text/plain": "              adults       children         babies\ncount  119390.000000  119386.000000  119390.000000\nmean        1.856403       0.103890       0.007949\nstd         0.579261       0.398561       0.097436\nmin         0.000000       0.000000       0.000000\n25%         2.000000       0.000000       0.000000\n50%         2.000000       0.000000       0.000000\n75%         2.000000       0.000000       0.000000\nmax        55.000000      10.000000      10.000000",
      "text/html": "<div>\n<style scoped>\n    .dataframe tbody tr th:only-of-type {\n        vertical-align: middle;\n    }\n\n    .dataframe tbody tr th {\n        vertical-align: top;\n    }\n\n    .dataframe thead th {\n        text-align: right;\n    }\n</style>\n<table border=\"1\" class=\"dataframe\">\n  <thead>\n    <tr style=\"text-align: right;\">\n      <th></th>\n      <th>adults</th>\n      <th>children</th>\n      <th>babies</th>\n    </tr>\n  </thead>\n  <tbody>\n    <tr>\n      <th>count</th>\n      <td>119390.000000</td>\n      <td>119386.000000</td>\n      <td>119390.000000</td>\n    </tr>\n    <tr>\n      <th>mean</th>\n      <td>1.856403</td>\n      <td>0.103890</td>\n      <td>0.007949</td>\n    </tr>\n    <tr>\n      <th>std</th>\n      <td>0.579261</td>\n      <td>0.398561</td>\n      <td>0.097436</td>\n    </tr>\n    <tr>\n      <th>min</th>\n      <td>0.000000</td>\n      <td>0.000000</td>\n      <td>0.000000</td>\n    </tr>\n    <tr>\n      <th>25%</th>\n      <td>2.000000</td>\n      <td>0.000000</td>\n      <td>0.000000</td>\n    </tr>\n    <tr>\n      <th>50%</th>\n      <td>2.000000</td>\n      <td>0.000000</td>\n      <td>0.000000</td>\n    </tr>\n    <tr>\n      <th>75%</th>\n      <td>2.000000</td>\n      <td>0.000000</td>\n      <td>0.000000</td>\n    </tr>\n    <tr>\n      <th>max</th>\n      <td>55.000000</td>\n      <td>10.000000</td>\n      <td>10.000000</td>\n    </tr>\n  </tbody>\n</table>\n</div>"
     },
     "execution_count": 155,
     "metadata": {},
     "output_type": "execute_result"
    }
   ],
   "source": [
    "people = bookings[['adults', 'children', 'babies']]\n",
    "people.describe()"
   ],
   "metadata": {
    "collapsed": false,
    "pycharm": {
     "name": "#%%\n"
    }
   }
  },
  {
   "cell_type": "code",
   "execution_count": 138,
   "outputs": [
    {
     "data": {
      "text/plain": "adults      1.856403\nchildren    0.103890\nbabies      0.007949\ndtype: float64"
     },
     "execution_count": 138,
     "metadata": {},
     "output_type": "execute_result"
    }
   ],
   "source": [
    "people.mean().sort_values(ascending=False)"
   ],
   "metadata": {
    "collapsed": false,
    "pycharm": {
     "name": "#%%\n"
    }
   }
  },
  {
   "cell_type": "markdown",
   "source": [
    "11. Создайте колонку total_kids, объединив столбцы children и babies. Для отелей какого типа среднее значение переменной оказалось наибольшим?\n",
    "City hotel – отель находится в городе\n",
    "Resort hotel – отель курортный\n",
    "В качестве ответа укажите наибольшее среднее total_kids, округлив до 2 знаков после точки."
   ],
   "metadata": {
    "collapsed": false,
    "pycharm": {
     "name": "#%% md\n"
    }
   }
  },
  {
   "cell_type": "code",
   "execution_count": 139,
   "outputs": [],
   "source": [
    "bookings['total_kids'] = bookings.children + bookings['babies'] # 2 типа обращения"
   ],
   "metadata": {
    "collapsed": false,
    "pycharm": {
     "name": "#%%\n"
    }
   }
  },
  {
   "cell_type": "code",
   "execution_count": 140,
   "outputs": [
    {
     "data": {
      "text/plain": "total_kids    0.14\ndtype: float64"
     },
     "execution_count": 140,
     "metadata": {},
     "output_type": "execute_result"
    }
   ],
   "source": [
    "bookings.groupby('hotel')\\\n",
    "        .agg({'total_kids': 'mean'})\\\n",
    "        .round(decimals=2)\\\n",
    "        .max()"
   ],
   "metadata": {
    "collapsed": false,
    "pycharm": {
     "name": "#%%\n"
    }
   }
  },
  {
   "cell_type": "markdown",
   "source": [
    "12. Не все бронирования завершились успешно (is_canceled), поэтому можно посчитать, сколько клиентов было потеряно в процессе. Иными словами, посчитать метрику под названием Churn Rate.\n",
    "\n",
    "Churn rate (отток, коэффициент оттока) – это процент подписчиков (например, на push-уведомления от сайта), которые отписались от канала коммуникации, отказались от услуг сервиса в течение определенного периода времени. Иными словами, представляет собой отношение количества ушедших пользователей к общему количеству пользователей, выраженное в процентах.\n",
    "\n",
    "В нашем случае Churn Rate - это процент клиентов, которые отменили бронирование. Давайте посмотрим, как эта метрика связана с наличием детей у клиентов!\n",
    "\n",
    "Создайте переменную has_kids, которая принимает значение True, если клиент при бронировании указал хотя бы одного ребенка (total_kids), в противном случае – False. Далее проверьте, среди какой группы пользователей показатель оттока выше.\n",
    "\n",
    "В качестве ответа укажите наибольший %, округленный до 2 знаков после точки (то есть доля 0.24563 будет 24.56% и в ответ пойдёт 24.56)"
   ],
   "metadata": {
    "collapsed": false,
    "pycharm": {
     "name": "#%% md\n"
    }
   }
  },
  {
   "cell_type": "code",
   "execution_count": 141,
   "outputs": [
    {
     "data": {
      "text/plain": "0         False\n1         False\n2         False\n3         False\n4         False\n          ...  \n119385    False\n119386    False\n119387    False\n119388    False\n119389    False\nName: has_kids, Length: 119390, dtype: bool"
     },
     "execution_count": 141,
     "metadata": {},
     "output_type": "execute_result"
    }
   ],
   "source": [
    "bookings['has_kids'] = bookings.total_kids > 0\n",
    "bookings['has_kids']"
   ],
   "metadata": {
    "collapsed": false,
    "pycharm": {
     "name": "#%%\n"
    }
   }
  },
  {
   "cell_type": "code",
   "execution_count": 156,
   "outputs": [],
   "source": [
    "no_kids_churn = bookings.query('has_kids == False and is_canceled == 1').shape[0] / bookings.query('has_kids == False').shape[0]\n",
    "no_kids_churn = round(no_kids_churn*100, ndigits=2)"
   ],
   "metadata": {
    "collapsed": false,
    "pycharm": {
     "name": "#%%\n"
    }
   }
  },
  {
   "cell_type": "code",
   "execution_count": 157,
   "outputs": [
    {
     "data": {
      "text/plain": "37.22"
     },
     "execution_count": 157,
     "metadata": {},
     "output_type": "execute_result"
    }
   ],
   "source": [
    "no_kids_churn"
   ],
   "metadata": {
    "collapsed": false,
    "pycharm": {
     "name": "#%%\n"
    }
   }
  },
  {
   "cell_type": "code",
   "execution_count": 161,
   "outputs": [],
   "source": [
    "yes_kids_churn = bookings.query('has_kids == True and is_canceled == 1').shape[0] / bookings.query('has_kids == True').shape[0]\n",
    "yes_kids_churn = round(yes_kids_churn*100, ndigits=2)"
   ],
   "metadata": {
    "collapsed": false,
    "pycharm": {
     "name": "#%%\n"
    }
   }
  },
  {
   "cell_type": "code",
   "execution_count": 162,
   "outputs": [
    {
     "data": {
      "text/plain": "34.92"
     },
     "execution_count": 162,
     "metadata": {},
     "output_type": "execute_result"
    }
   ],
   "source": [
    "yes_kids_churn"
   ],
   "metadata": {
    "collapsed": false,
    "pycharm": {
     "name": "#%%\n"
    }
   }
  }
 ],
 "metadata": {
  "kernelspec": {
   "display_name": "Python 3 (ipykernel)",
   "language": "python",
   "name": "python3"
  },
  "language_info": {
   "codemirror_mode": {
    "name": "ipython",
    "version": 3
   },
   "file_extension": ".py",
   "mimetype": "text/x-python",
   "name": "python",
   "nbconvert_exporter": "python",
   "pygments_lexer": "ipython3",
   "version": "3.10.10"
  }
 },
 "nbformat": 4,
 "nbformat_minor": 4
}