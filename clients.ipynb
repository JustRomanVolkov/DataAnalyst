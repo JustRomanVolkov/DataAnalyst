{
 "cells": [
  {
   "cell_type": "markdown",
   "source": [
    "## Задачи\n",
    "1. Импортируйте библиотеку pandas как pd. Загрузите два датасета user_data и logs.\n",
    "Проверьте размер таблицы, типы переменных, наличие пропущенных значений, описательную статистику.\n",
    "2. Какой клиент совершил больше всего успешных операций? (success == True)\n",
    "3. С какой платформы осуществляется наибольшее количество успешных операций?\n",
    "4. Какую платформу предпочитают премиальные клиенты?\n",
    "5. Визуализируйте распределение возраста клиентов в зависимости от типа клиента (премиум или нет)\n",
    "6. Постройте график распределения числа успешных операций.\n",
    "7. Визуализируйте число успешных операций, сделанных на платформе computer, в зависимости от возраста, используя sns.countplot (x – возраст, y – число успешных операций).\n",
    "Клиенты какого возраста совершили наибольшее количество успешных действий?\n",
    "\n",
    "---\n",
    "## Описание данных\n",
    "### user_data:\n",
    "\n",
    "client – идентификатор пользователя\n",
    "premium – является ли клиент премиальным\n",
    "age – возраст\n",
    "\n",
    "### logs:\n",
    "client – идентификатор пользователя\n",
    "success – результат (успех – 1, нет – 0)\n",
    "platform – платформа\n",
    "time – время в формате Unix"
   ],
   "metadata": {
    "collapsed": false,
    "pycharm": {
     "name": "#%% md\n"
    }
   }
  },
  {
   "cell_type": "code",
   "execution_count": 93,
   "metadata": {
    "collapsed": true,
    "pycharm": {
     "name": "#%%\n"
    }
   },
   "outputs": [],
   "source": [
    "import pandas as pd\n",
    "import seaborn as sns\n",
    "import matplotlib.pyplot as plt"
   ]
  },
  {
   "cell_type": "code",
   "execution_count": 3,
   "outputs": [
    {
     "data": {
      "text/plain": "      client  premium  age\n0      46346    False   58\n1       4391    False   55\n2      27372    False   64\n3      11989    False   44\n4      60664    False   49\n...      ...      ...  ...\n2949   19411    False   29\n2950   61579    False   50\n2951   61221     True   64\n2952   29863    False   46\n2953   78499    False   36\n\n[2954 rows x 3 columns]",
      "text/html": "<div>\n<style scoped>\n    .dataframe tbody tr th:only-of-type {\n        vertical-align: middle;\n    }\n\n    .dataframe tbody tr th {\n        vertical-align: top;\n    }\n\n    .dataframe thead th {\n        text-align: right;\n    }\n</style>\n<table border=\"1\" class=\"dataframe\">\n  <thead>\n    <tr style=\"text-align: right;\">\n      <th></th>\n      <th>client</th>\n      <th>premium</th>\n      <th>age</th>\n    </tr>\n  </thead>\n  <tbody>\n    <tr>\n      <th>0</th>\n      <td>46346</td>\n      <td>False</td>\n      <td>58</td>\n    </tr>\n    <tr>\n      <th>1</th>\n      <td>4391</td>\n      <td>False</td>\n      <td>55</td>\n    </tr>\n    <tr>\n      <th>2</th>\n      <td>27372</td>\n      <td>False</td>\n      <td>64</td>\n    </tr>\n    <tr>\n      <th>3</th>\n      <td>11989</td>\n      <td>False</td>\n      <td>44</td>\n    </tr>\n    <tr>\n      <th>4</th>\n      <td>60664</td>\n      <td>False</td>\n      <td>49</td>\n    </tr>\n    <tr>\n      <th>...</th>\n      <td>...</td>\n      <td>...</td>\n      <td>...</td>\n    </tr>\n    <tr>\n      <th>2949</th>\n      <td>19411</td>\n      <td>False</td>\n      <td>29</td>\n    </tr>\n    <tr>\n      <th>2950</th>\n      <td>61579</td>\n      <td>False</td>\n      <td>50</td>\n    </tr>\n    <tr>\n      <th>2951</th>\n      <td>61221</td>\n      <td>True</td>\n      <td>64</td>\n    </tr>\n    <tr>\n      <th>2952</th>\n      <td>29863</td>\n      <td>False</td>\n      <td>46</td>\n    </tr>\n    <tr>\n      <th>2953</th>\n      <td>78499</td>\n      <td>False</td>\n      <td>36</td>\n    </tr>\n  </tbody>\n</table>\n<p>2954 rows × 3 columns</p>\n</div>"
     },
     "execution_count": 3,
     "metadata": {},
     "output_type": "execute_result"
    }
   ],
   "source": [
    "user_data = pd.read_csv('https://stepik.org/media/attachments/lesson/360348/user_data.csv')"
   ],
   "metadata": {
    "collapsed": false,
    "pycharm": {
     "name": "#%%\n"
    }
   }
  },
  {
   "cell_type": "code",
   "execution_count": 4,
   "outputs": [],
   "source": [
    "logs = pd.read_csv('https://stepik.org/media/attachments/lesson/360348/logs.csv')"
   ],
   "metadata": {
    "collapsed": false,
    "pycharm": {
     "name": "#%%\n"
    }
   }
  },
  {
   "cell_type": "code",
   "execution_count": 18,
   "outputs": [
    {
     "name": "stdout",
     "output_type": "stream",
     "text": [
      "<class 'pandas.core.frame.DataFrame'>\n",
      "RangeIndex: 2954 entries, 0 to 2953\n",
      "Data columns (total 3 columns):\n",
      " #   Column   Non-Null Count  Dtype\n",
      "---  ------   --------------  -----\n",
      " 0   client   2954 non-null   int64\n",
      " 1   premium  2954 non-null   bool \n",
      " 2   age      2954 non-null   int64\n",
      "dtypes: bool(1), int64(2)\n",
      "memory usage: 49.2 KB\n"
     ]
    }
   ],
   "source": [
    "user_data.info()"
   ],
   "metadata": {
    "collapsed": false,
    "pycharm": {
     "name": "#%%\n"
    }
   }
  },
  {
   "cell_type": "code",
   "execution_count": 20,
   "outputs": [
    {
     "data": {
      "text/plain": "             client          time\ncount   4500.000000  4.500000e+03\nmean   50998.758000  1.585440e+09\nstd    28374.472495  2.314866e+04\nmin       40.000000  1.585400e+09\n25%    27056.500000  1.585420e+09\n50%    52659.000000  1.585440e+09\n75%    76001.250000  1.585461e+09\nmax    99993.000000  1.585480e+09",
      "text/html": "<div>\n<style scoped>\n    .dataframe tbody tr th:only-of-type {\n        vertical-align: middle;\n    }\n\n    .dataframe tbody tr th {\n        vertical-align: top;\n    }\n\n    .dataframe thead th {\n        text-align: right;\n    }\n</style>\n<table border=\"1\" class=\"dataframe\">\n  <thead>\n    <tr style=\"text-align: right;\">\n      <th></th>\n      <th>client</th>\n      <th>time</th>\n    </tr>\n  </thead>\n  <tbody>\n    <tr>\n      <th>count</th>\n      <td>4500.000000</td>\n      <td>4.500000e+03</td>\n    </tr>\n    <tr>\n      <th>mean</th>\n      <td>50998.758000</td>\n      <td>1.585440e+09</td>\n    </tr>\n    <tr>\n      <th>std</th>\n      <td>28374.472495</td>\n      <td>2.314866e+04</td>\n    </tr>\n    <tr>\n      <th>min</th>\n      <td>40.000000</td>\n      <td>1.585400e+09</td>\n    </tr>\n    <tr>\n      <th>25%</th>\n      <td>27056.500000</td>\n      <td>1.585420e+09</td>\n    </tr>\n    <tr>\n      <th>50%</th>\n      <td>52659.000000</td>\n      <td>1.585440e+09</td>\n    </tr>\n    <tr>\n      <th>75%</th>\n      <td>76001.250000</td>\n      <td>1.585461e+09</td>\n    </tr>\n    <tr>\n      <th>max</th>\n      <td>99993.000000</td>\n      <td>1.585480e+09</td>\n    </tr>\n  </tbody>\n</table>\n</div>"
     },
     "execution_count": 20,
     "metadata": {},
     "output_type": "execute_result"
    }
   ],
   "source": [
    "logs.describe()"
   ],
   "metadata": {
    "collapsed": false,
    "pycharm": {
     "name": "#%%\n"
    }
   }
  },
  {
   "cell_type": "markdown",
   "source": [
    "2. Какой клиент совершил больше всего успешных операций? (success == True)"
   ],
   "metadata": {
    "collapsed": false,
    "pycharm": {
     "name": "#%% md\n"
    }
   }
  },
  {
   "cell_type": "code",
   "execution_count": 34,
   "outputs": [
    {
     "data": {
      "text/plain": "client\n28719    41\n52870    41\n61468    41\n61473    41\n12179    41\n         ..\n70028     1\n37123     1\n73522     1\n38359     1\n40921     1\nName: count, Length: 2845, dtype: int64"
     },
     "execution_count": 34,
     "metadata": {},
     "output_type": "execute_result"
    }
   ],
   "source": [
    "# most_success_clients = logs.query('success == True').value_counts('client') # альтернативный метод\n",
    "most_success_clients = logs.loc[logs.success == True].client.value_counts()\n",
    "most_success_clients"
   ],
   "metadata": {
    "collapsed": false,
    "pycharm": {
     "name": "#%%\n"
    }
   }
  },
  {
   "cell_type": "code",
   "execution_count": 37,
   "outputs": [
    {
     "data": {
      "text/plain": "41"
     },
     "execution_count": 37,
     "metadata": {},
     "output_type": "execute_result"
    }
   ],
   "source": [
    "max_success_clients_num = most_success_clients.max()\n",
    "max_success_clients_num"
   ],
   "metadata": {
    "collapsed": false,
    "pycharm": {
     "name": "#%%\n"
    }
   }
  },
  {
   "cell_type": "code",
   "execution_count": 39,
   "outputs": [
    {
     "data": {
      "text/plain": "client\n28719    41\n52870    41\n61468    41\n61473    41\n12179    41\n82563    41\n36165    41\n92584    41\n78349    41\nName: count, dtype: int64"
     },
     "execution_count": 39,
     "metadata": {},
     "output_type": "execute_result"
    }
   ],
   "source": [
    "max_success_clients = most_success_clients.loc[most_success_clients == max_success_clients_num]\n",
    "max_success_clients"
   ],
   "metadata": {
    "collapsed": false,
    "pycharm": {
     "name": "#%%\n"
    }
   }
  },
  {
   "cell_type": "code",
   "execution_count": 42,
   "outputs": [
    {
     "data": {
      "text/plain": "Index([12179, 28719, 36165, 52870, 61468, 61473, 78349, 82563, 92584], dtype='int64', name='client')"
     },
     "execution_count": 42,
     "metadata": {},
     "output_type": "execute_result"
    }
   ],
   "source": [
    "list_max_success_clients = max_success_clients.index.sort_values()\n",
    "list_max_success_clients"
   ],
   "metadata": {
    "collapsed": false,
    "pycharm": {
     "name": "#%%\n"
    }
   }
  },
  {
   "cell_type": "markdown",
   "source": [
    "Вывод: 12179, 28719, 36165, 52870, 61468, 61473, 78349, 82563, 92584 список клиентов с максимальным числом успешных поездок."
   ],
   "metadata": {
    "collapsed": false,
    "pycharm": {
     "name": "#%% md\n"
    }
   }
  },
  {
   "cell_type": "markdown",
   "source": [
    "3. С какой платформы осуществляется наибольшее количество успешных операций?"
   ],
   "metadata": {
    "collapsed": false,
    "pycharm": {
     "name": "#%% md\n"
    }
   }
  },
  {
   "cell_type": "code",
   "execution_count": 47,
   "outputs": [
    {
     "data": {
      "text/plain": "'phone'"
     },
     "execution_count": 47,
     "metadata": {},
     "output_type": "execute_result"
    }
   ],
   "source": [
    "most_popular_platform = logs.loc[logs.success == True].platform.value_counts('').idxmax()\n",
    "most_popular_platform"
   ],
   "metadata": {
    "collapsed": false,
    "pycharm": {
     "name": "#%%\n"
    }
   }
  },
  {
   "cell_type": "markdown",
   "source": [
    "Вывод: phone самая популярная платформа (для успешных вызовов)"
   ],
   "metadata": {
    "collapsed": false,
    "pycharm": {
     "name": "#%% md\n"
    }
   }
  },
  {
   "cell_type": "markdown",
   "source": [
    "4. Какую платформу предпочитают премиальные клиенты?"
   ],
   "metadata": {
    "collapsed": false,
    "pycharm": {
     "name": "#%% md\n"
    }
   }
  },
  {
   "cell_type": "code",
   "execution_count": 85,
   "outputs": [
    {
     "data": {
      "text/plain": "      client  success  platform        time  premium  age\n0      61468     True     phone  1585425658    False   25\n1      61468     True  computer  1585460504    False   25\n2      61468     True  computer  1585430291    False   25\n3      61468     True  computer  1585444317    False   25\n4      61468     True     phone  1585441266    False   25\n...      ...      ...       ...         ...      ...  ...\n3434   62438    False     phone  1585479041    False   36\n3435   95152     True  computer  1585420263    False   67\n3436   64496    False  computer  1585459072    False   66\n3437    8967     True     phone  1585465121    False   33\n3438   40921     True     phone  1585437692    False   45\n\n[3439 rows x 6 columns]",
      "text/html": "<div>\n<style scoped>\n    .dataframe tbody tr th:only-of-type {\n        vertical-align: middle;\n    }\n\n    .dataframe tbody tr th {\n        vertical-align: top;\n    }\n\n    .dataframe thead th {\n        text-align: right;\n    }\n</style>\n<table border=\"1\" class=\"dataframe\">\n  <thead>\n    <tr style=\"text-align: right;\">\n      <th></th>\n      <th>client</th>\n      <th>success</th>\n      <th>platform</th>\n      <th>time</th>\n      <th>premium</th>\n      <th>age</th>\n    </tr>\n  </thead>\n  <tbody>\n    <tr>\n      <th>0</th>\n      <td>61468</td>\n      <td>True</td>\n      <td>phone</td>\n      <td>1585425658</td>\n      <td>False</td>\n      <td>25</td>\n    </tr>\n    <tr>\n      <th>1</th>\n      <td>61468</td>\n      <td>True</td>\n      <td>computer</td>\n      <td>1585460504</td>\n      <td>False</td>\n      <td>25</td>\n    </tr>\n    <tr>\n      <th>2</th>\n      <td>61468</td>\n      <td>True</td>\n      <td>computer</td>\n      <td>1585430291</td>\n      <td>False</td>\n      <td>25</td>\n    </tr>\n    <tr>\n      <th>3</th>\n      <td>61468</td>\n      <td>True</td>\n      <td>computer</td>\n      <td>1585444317</td>\n      <td>False</td>\n      <td>25</td>\n    </tr>\n    <tr>\n      <th>4</th>\n      <td>61468</td>\n      <td>True</td>\n      <td>phone</td>\n      <td>1585441266</td>\n      <td>False</td>\n      <td>25</td>\n    </tr>\n    <tr>\n      <th>...</th>\n      <td>...</td>\n      <td>...</td>\n      <td>...</td>\n      <td>...</td>\n      <td>...</td>\n      <td>...</td>\n    </tr>\n    <tr>\n      <th>3434</th>\n      <td>62438</td>\n      <td>False</td>\n      <td>phone</td>\n      <td>1585479041</td>\n      <td>False</td>\n      <td>36</td>\n    </tr>\n    <tr>\n      <th>3435</th>\n      <td>95152</td>\n      <td>True</td>\n      <td>computer</td>\n      <td>1585420263</td>\n      <td>False</td>\n      <td>67</td>\n    </tr>\n    <tr>\n      <th>3436</th>\n      <td>64496</td>\n      <td>False</td>\n      <td>computer</td>\n      <td>1585459072</td>\n      <td>False</td>\n      <td>66</td>\n    </tr>\n    <tr>\n      <th>3437</th>\n      <td>8967</td>\n      <td>True</td>\n      <td>phone</td>\n      <td>1585465121</td>\n      <td>False</td>\n      <td>33</td>\n    </tr>\n    <tr>\n      <th>3438</th>\n      <td>40921</td>\n      <td>True</td>\n      <td>phone</td>\n      <td>1585437692</td>\n      <td>False</td>\n      <td>45</td>\n    </tr>\n  </tbody>\n</table>\n<p>3439 rows × 6 columns</p>\n</div>"
     },
     "execution_count": 85,
     "metadata": {},
     "output_type": "execute_result"
    }
   ],
   "source": [
    "merge_logs_and_user_data = pd.merge(logs, user_data, how='inner', on='client')\n",
    "merge_logs_and_user_data"
   ],
   "metadata": {
    "collapsed": false,
    "pycharm": {
     "name": "#%%\n"
    }
   }
  },
  {
   "cell_type": "code",
   "execution_count": 86,
   "outputs": [
    {
     "data": {
      "text/plain": "'phone'"
     },
     "execution_count": 86,
     "metadata": {},
     "output_type": "execute_result"
    }
   ],
   "source": [
    "most_premium_platform = (merge_logs_and_user_data\n",
    "                         .loc[merge_logs_and_user_data.premium == True]\n",
    "                         .platform.value_counts()\n",
    "                         .idxmax()\n",
    "                         )\n",
    "most_premium_platform"
   ],
   "metadata": {
    "collapsed": false,
    "pycharm": {
     "name": "#%%\n"
    }
   }
  },
  {
   "cell_type": "markdown",
   "source": [
    "Вывод: phone самая популярная платформа среди клиентов с премиум подпиской."
   ],
   "metadata": {
    "collapsed": false,
    "pycharm": {
     "name": "#%% md\n"
    }
   }
  },
  {
   "cell_type": "markdown",
   "source": [
    "# Визуализация"
   ],
   "metadata": {
    "collapsed": false,
    "pycharm": {
     "name": "#%% md\n"
    }
   }
  },
  {
   "cell_type": "markdown",
   "source": [
    "5. Визуализируйте распределение возраста клиентов в зависимости от типа клиента (премиум или нет)"
   ],
   "metadata": {
    "collapsed": false,
    "pycharm": {
     "name": "#%% md\n"
    }
   }
  },
  {
   "cell_type": "code",
   "execution_count": 87,
   "outputs": [
    {
     "data": {
      "text/plain": "<seaborn.axisgrid.FacetGrid at 0x1abc96d02e0>"
     },
     "execution_count": 87,
     "metadata": {},
     "output_type": "execute_result"
    },
    {
     "data": {
      "text/plain": "<Figure size 492.5x400 with 1 Axes>",
      "image/png": "[encoded data removed]"
     },
     "metadata": {},
     "output_type": "display_data"
    }
   ],
   "source": [
    "# Установка темы оформления для всех графиков Seaborn.\n",
    "# \"darkgrid\" добавляет темный фон с сеткой для лучшей читаемости.\n",
    "sns.set_theme(style=\"darkgrid\")\n",
    "\n",
    "# Создание гистограммы распределения. Эта функция строит график для визуализации распределения данных.\n",
    "sns.displot(\n",
    "    merge_logs_and_user_data,  # DataFrame, содержащий данные для визуализации.\n",
    "    x=\"age\",                   # Указывает, что данные в столбце 'age' будут отложены по оси X.\n",
    "    hue='premium',             # Разделение данных по категориям в столбце 'premium' с разными цветами.\n",
    "    kde=True,                  # Включает Kernel Density Estimate (KDE) для плавной оценки плотности распределения.\n",
    "    height=4,                  # Высота каждого подграфика.\n",
    "    kind=\"hist\",               # Тип графика - гистограмма ('hist').\n",
    "    stat='density',            # Показывает плотность распределения, а не количество.\n",
    "    common_norm=False,         # Отключает нормализацию гистограммы по всем категориям.\n",
    "    bins=20                    # Количество столбцов гистограммы.\n",
    ")"
   ],
   "metadata": {
    "collapsed": false,
    "pycharm": {
     "name": "#%%\n"
    }
   }
  },
  {
   "cell_type": "markdown",
   "source": [
    "6. Постройте график распределения числа успешных операций:\n",
    "\n",
    "x – число успешных операций\n",
    "y – число клиентов, совершивших такое количество успешных операций"
   ],
   "metadata": {
    "collapsed": false,
    "pycharm": {
     "name": "#%% md\n"
    }
   }
  },
  {
   "cell_type": "code",
   "execution_count": 100,
   "outputs": [
    {
     "data": {
      "text/plain": "<Figure size 500x300 with 1 Axes>",
      "image/png": "[encoded data removed]"
     },
     "metadata": {},
     "output_type": "display_data"
    }
   ],
   "source": [
    "plt.figure(figsize=(5,3))\n",
    "plt.xlabel('Success')\n",
    "plt.ylabel('Counts')\n",
    "sns.countplot(x=most_success_clients)\n",
    "plt.show()"
   ],
   "metadata": {
    "collapsed": false,
    "pycharm": {
     "name": "#%%\n"
    }
   }
  },
  {
   "cell_type": "markdown",
   "source": [
    "7. Визуализируйте число успешных операций, сделанных на платформе computer, в зависимости от возраста, используя sns.countplot (x – возраст, y – число успешных операций).\n",
    "Клиенты какого возраста совершили наибольшее количество успешных действий?"
   ],
   "metadata": {
    "collapsed": false,
    "pycharm": {
     "name": "#%% md\n"
    }
   }
  },
  {
   "cell_type": "code",
   "execution_count": 129,
   "outputs": [
    {
     "data": {
      "text/plain": "      client  success  platform        time  premium  age\n1      61468     True  computer  1585460504    False   25\n2      61468     True  computer  1585430291    False   25\n3      61468     True  computer  1585444317    False   25\n7      61468     True  computer  1585416826    False   25\n11     61468     True  computer  1585428874    False   25\n...      ...      ...       ...         ...      ...  ...\n3409    4293     True  computer  1585403129    False   29\n3425   16540     True  computer  1585456144    False   49\n3432   85769     True  computer  1585447052    False   46\n3433   81031     True  computer  1585401631    False   45\n3435   95152     True  computer  1585420263    False   67\n\n[843 rows x 6 columns]",
      "text/html": "<div>\n<style scoped>\n    .dataframe tbody tr th:only-of-type {\n        vertical-align: middle;\n    }\n\n    .dataframe tbody tr th {\n        vertical-align: top;\n    }\n\n    .dataframe thead th {\n        text-align: right;\n    }\n</style>\n<table border=\"1\" class=\"dataframe\">\n  <thead>\n    <tr style=\"text-align: right;\">\n      <th></th>\n      <th>client</th>\n      <th>success</th>\n      <th>platform</th>\n      <th>time</th>\n      <th>premium</th>\n      <th>age</th>\n    </tr>\n  </thead>\n  <tbody>\n    <tr>\n      <th>1</th>\n      <td>61468</td>\n      <td>True</td>\n      <td>computer</td>\n      <td>1585460504</td>\n      <td>False</td>\n      <td>25</td>\n    </tr>\n    <tr>\n      <th>2</th>\n      <td>61468</td>\n      <td>True</td>\n      <td>computer</td>\n      <td>1585430291</td>\n      <td>False</td>\n      <td>25</td>\n    </tr>\n    <tr>\n      <th>3</th>\n      <td>61468</td>\n      <td>True</td>\n      <td>computer</td>\n      <td>1585444317</td>\n      <td>False</td>\n      <td>25</td>\n    </tr>\n    <tr>\n      <th>7</th>\n      <td>61468</td>\n      <td>True</td>\n      <td>computer</td>\n      <td>1585416826</td>\n      <td>False</td>\n      <td>25</td>\n    </tr>\n    <tr>\n      <th>11</th>\n      <td>61468</td>\n      <td>True</td>\n      <td>computer</td>\n      <td>1585428874</td>\n      <td>False</td>\n      <td>25</td>\n    </tr>\n    <tr>\n      <th>...</th>\n      <td>...</td>\n      <td>...</td>\n      <td>...</td>\n      <td>...</td>\n      <td>...</td>\n      <td>...</td>\n    </tr>\n    <tr>\n      <th>3409</th>\n      <td>4293</td>\n      <td>True</td>\n      <td>computer</td>\n      <td>1585403129</td>\n      <td>False</td>\n      <td>29</td>\n    </tr>\n    <tr>\n      <th>3425</th>\n      <td>16540</td>\n      <td>True</td>\n      <td>computer</td>\n      <td>1585456144</td>\n      <td>False</td>\n      <td>49</td>\n    </tr>\n    <tr>\n      <th>3432</th>\n      <td>85769</td>\n      <td>True</td>\n      <td>computer</td>\n      <td>1585447052</td>\n      <td>False</td>\n      <td>46</td>\n    </tr>\n    <tr>\n      <th>3433</th>\n      <td>81031</td>\n      <td>True</td>\n      <td>computer</td>\n      <td>1585401631</td>\n      <td>False</td>\n      <td>45</td>\n    </tr>\n    <tr>\n      <th>3435</th>\n      <td>95152</td>\n      <td>True</td>\n      <td>computer</td>\n      <td>1585420263</td>\n      <td>False</td>\n      <td>67</td>\n    </tr>\n  </tbody>\n</table>\n<p>843 rows × 6 columns</p>\n</div>"
     },
     "execution_count": 129,
     "metadata": {},
     "output_type": "execute_result"
    }
   ],
   "source": [
    "comp_success_users = merge_logs_and_user_data.loc[(merge_logs_and_user_data.platform == 'computer') & (merge_logs_and_user_data.success == True)]\n",
    "comp_success_users"
   ],
   "metadata": {
    "collapsed": false,
    "pycharm": {
     "name": "#%%\n"
    }
   }
  },
  {
   "cell_type": "code",
   "execution_count": 130,
   "outputs": [
    {
     "name": "stderr",
     "output_type": "stream",
     "text": [
      "C:\\Users\\R\\AppData\\Local\\Temp\\ipykernel_20500\\3321499937.py:10: FutureWarning: \n",
      "\n",
      "Passing `palette` without assigning `hue` is deprecated and will be removed in v0.14.0. Assign the `x` variable to `hue` and set `legend=False` for the same effect.\n",
      "\n",
      "  sns.countplot(x='age', data=comp_success_users, palette=palette)\n"
     ]
    },
    {
     "data": {
      "text/plain": "<Axes: xlabel='age', ylabel='count'>"
     },
     "execution_count": 130,
     "metadata": {},
     "output_type": "execute_result"
    },
    {
     "data": {
      "text/plain": "<Figure size 1200x800 with 1 Axes>",
      "image/png": "[encoded data removed]"
     },
     "metadata": {},
     "output_type": "display_data"
    }
   ],
   "source": [
    "plt.figure(figsize=(12,8))\n",
    "\n",
    "# Находим возраст с максимальным количеством пользователей\n",
    "max_age_comp_success_users = comp_success_users['age'].value_counts().idxmax()\n",
    "\n",
    "# Создаём список цветов, выделяя максимальное значение\n",
    "palette = ['red' if (age == max_age_comp_success_users) else 'grey' for age in sorted(comp_success_users['age'].unique())]\n",
    "\n",
    "# Строим график\n",
    "sns.countplot(x='age', data=comp_success_users, palette=palette)"
   ],
   "metadata": {
    "collapsed": false,
    "pycharm": {
     "name": "#%%\n"
    }
   }
  },
  {
   "cell_type": "markdown",
   "source": [
    "### Вывод: 28 лет - возраст с максимальным количеством пользователей."
   ],
   "metadata": {
    "collapsed": false,
    "pycharm": {
     "name": "#%% md\n"
    }
   }
  }
 ],
 "metadata": {
  "kernelspec": {
   "display_name": "Python 3",
   "language": "python",
   "name": "python3"
  },
  "language_info": {
   "codemirror_mode": {
    "name": "ipython",
    "version": 2
   },
   "file_extension": ".py",
   "mimetype": "text/x-python",
   "name": "python",
   "nbconvert_exporter": "python",
   "pygments_lexer": "ipython2",
   "version": "2.7.6"
  }
 },
 "nbformat": 4,
 "nbformat_minor": 0
}