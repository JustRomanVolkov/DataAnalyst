{
 "cells": [
  {
   "cell_type": "code",
   "execution_count": 3,
   "metadata": {
    "pycharm": {
     "name": "#%%\n"
    }
   },
   "outputs": [],
   "source": [
    "import pandas as pd\n",
    "import numpy as np\n",
    "import seaborn as sns\n",
    "import matplotlib.pyplot as plt\n",
    "\n",
    "%matplotlib inline"
   ]
  },
  {
   "cell_type": "code",
   "execution_count": 3,
   "metadata": {
    "pycharm": {
     "name": "#%%\n"
    }
   },
   "outputs": [],
   "source": [
    "ads_data = pd.read_csv('../data/ads_data.csv.zip', parse_dates=['date'], compression='zip') # прочитать единственный файл в архиве"
   ]
  },
  {
   "cell_type": "code",
   "execution_count": 4,
   "outputs": [],
   "source": [
    "ads_data['full_date'] = pd.to_datetime(ads_data.time, unit='s')"
   ],
   "metadata": {
    "collapsed": false,
    "pycharm": {
     "name": "#%%\n"
    }
   }
  },
  {
   "cell_type": "code",
   "execution_count": 5,
   "metadata": {
    "pycharm": {
     "name": "#%%\n"
    }
   },
   "outputs": [
    {
     "data": {
      "text/plain": "    ad_id        time event       date ad_cost_type  has_video  \\\n0   23456  1554076848  view 2019-04-01          CPM          0   \n1  111941  1554135866  view 2019-04-01          CPM          0   \n2  111941  1554135866  view 2019-04-01          CPM          0   \n3   42987  1554135866  view 2019-04-01          CPM          0   \n4   23456  1554135866  view 2019-04-01          CPM          0   \n\n   client_union_id  campaign_union_id platform  ad_cost  \\\n0             5681              23456  android    190.0   \n1           111793             111941      ios    215.2   \n2           111793             111941      ios    215.2   \n3            28541              42985      ios    199.1   \n4             5681              23456      web    190.0   \n\n   target_audience_count  user_id           full_date  \n0                 125560      793 2019-04-01 00:00:48  \n1                  32277     1041 2019-04-01 16:24:26  \n2                  32277       41 2019-04-01 16:24:26  \n3                  80160      898 2019-04-01 16:24:26  \n4                 125560       29 2019-04-01 16:24:26  ",
      "text/html": "<div>\n<style scoped>\n    .dataframe tbody tr th:only-of-type {\n        vertical-align: middle;\n    }\n\n    .dataframe tbody tr th {\n        vertical-align: top;\n    }\n\n    .dataframe thead th {\n        text-align: right;\n    }\n</style>\n<table border=\"1\" class=\"dataframe\">\n  <thead>\n    <tr style=\"text-align: right;\">\n      <th></th>\n      <th>ad_id</th>\n      <th>time</th>\n      <th>event</th>\n      <th>date</th>\n      <th>ad_cost_type</th>\n      <th>has_video</th>\n      <th>client_union_id</th>\n      <th>campaign_union_id</th>\n      <th>platform</th>\n      <th>ad_cost</th>\n      <th>target_audience_count</th>\n      <th>user_id</th>\n      <th>full_date</th>\n    </tr>\n  </thead>\n  <tbody>\n    <tr>\n      <th>0</th>\n      <td>23456</td>\n      <td>1554076848</td>\n      <td>view</td>\n      <td>2019-04-01</td>\n      <td>CPM</td>\n      <td>0</td>\n      <td>5681</td>\n      <td>23456</td>\n      <td>android</td>\n      <td>190.0</td>\n      <td>125560</td>\n      <td>793</td>\n      <td>2019-04-01 00:00:48</td>\n    </tr>\n    <tr>\n      <th>1</th>\n      <td>111941</td>\n      <td>1554135866</td>\n      <td>view</td>\n      <td>2019-04-01</td>\n      <td>CPM</td>\n      <td>0</td>\n      <td>111793</td>\n      <td>111941</td>\n      <td>ios</td>\n      <td>215.2</td>\n      <td>32277</td>\n      <td>1041</td>\n      <td>2019-04-01 16:24:26</td>\n    </tr>\n    <tr>\n      <th>2</th>\n      <td>111941</td>\n      <td>1554135866</td>\n      <td>view</td>\n      <td>2019-04-01</td>\n      <td>CPM</td>\n      <td>0</td>\n      <td>111793</td>\n      <td>111941</td>\n      <td>ios</td>\n      <td>215.2</td>\n      <td>32277</td>\n      <td>41</td>\n      <td>2019-04-01 16:24:26</td>\n    </tr>\n    <tr>\n      <th>3</th>\n      <td>42987</td>\n      <td>1554135866</td>\n      <td>view</td>\n      <td>2019-04-01</td>\n      <td>CPM</td>\n      <td>0</td>\n      <td>28541</td>\n      <td>42985</td>\n      <td>ios</td>\n      <td>199.1</td>\n      <td>80160</td>\n      <td>898</td>\n      <td>2019-04-01 16:24:26</td>\n    </tr>\n    <tr>\n      <th>4</th>\n      <td>23456</td>\n      <td>1554135866</td>\n      <td>view</td>\n      <td>2019-04-01</td>\n      <td>CPM</td>\n      <td>0</td>\n      <td>5681</td>\n      <td>23456</td>\n      <td>web</td>\n      <td>190.0</td>\n      <td>125560</td>\n      <td>29</td>\n      <td>2019-04-01 16:24:26</td>\n    </tr>\n  </tbody>\n</table>\n</div>"
     },
     "execution_count": 5,
     "metadata": {},
     "output_type": "execute_result"
    }
   ],
   "source": [
    "ads_data.head()"
   ]
  },
  {
   "cell_type": "markdown",
   "source": [
    "### 1. Получить статистику по дням.\n",
    "Посчитать число всех событий по дням, число показов, число кликов, число уникальных объявлений и уникальных кампаний."
   ],
   "metadata": {
    "collapsed": false,
    "pycharm": {
     "name": "#%% md\n"
    }
   }
  },
  {
   "cell_type": "code",
   "execution_count": 6,
   "metadata": {
    "pycharm": {
     "name": "#%%\n"
    }
   },
   "outputs": [
    {
     "data": {
      "text/plain": "<Axes: xlabel='date'>"
     },
     "execution_count": 6,
     "metadata": {},
     "output_type": "execute_result"
    },
    {
     "data": {
      "text/plain": "<Figure size 640x480 with 1 Axes>",
      "image/png": "[encoded data removed]"
     },
     "metadata": {},
     "output_type": "display_data"
    }
   ],
   "source": [
    "ads_data\\\n",
    "    .groupby('date') \\\n",
    "    .agg({'ad_id': 'count'}).plot()"
   ]
  },
  {
   "cell_type": "code",
   "execution_count": 7,
   "outputs": [],
   "source": [
    "# ??pd.pivot"
   ],
   "metadata": {
    "collapsed": false,
    "pycharm": {
     "name": "#%%\n"
    }
   }
  },
  {
   "cell_type": "code",
   "execution_count": 8,
   "outputs": [
    {
     "data": {
      "text/plain": "event       date   click     view\n0     2019-04-01     735    34832\n1     2019-04-02    1518   145811\n2     2019-04-03    1678   214851\n3     2019-04-04    1517   126182\n4     2019-04-05  501595  1783288\n5     2019-04-06   80420   284287",
      "text/html": "<div>\n<style scoped>\n    .dataframe tbody tr th:only-of-type {\n        vertical-align: middle;\n    }\n\n    .dataframe tbody tr th {\n        vertical-align: top;\n    }\n\n    .dataframe thead th {\n        text-align: right;\n    }\n</style>\n<table border=\"1\" class=\"dataframe\">\n  <thead>\n    <tr style=\"text-align: right;\">\n      <th>event</th>\n      <th>date</th>\n      <th>click</th>\n      <th>view</th>\n    </tr>\n  </thead>\n  <tbody>\n    <tr>\n      <th>0</th>\n      <td>2019-04-01</td>\n      <td>735</td>\n      <td>34832</td>\n    </tr>\n    <tr>\n      <th>1</th>\n      <td>2019-04-02</td>\n      <td>1518</td>\n      <td>145811</td>\n    </tr>\n    <tr>\n      <th>2</th>\n      <td>2019-04-03</td>\n      <td>1678</td>\n      <td>214851</td>\n    </tr>\n    <tr>\n      <th>3</th>\n      <td>2019-04-04</td>\n      <td>1517</td>\n      <td>126182</td>\n    </tr>\n    <tr>\n      <th>4</th>\n      <td>2019-04-05</td>\n      <td>501595</td>\n      <td>1783288</td>\n    </tr>\n    <tr>\n      <th>5</th>\n      <td>2019-04-06</td>\n      <td>80420</td>\n      <td>284287</td>\n    </tr>\n  </tbody>\n</table>\n</div>"
     },
     "execution_count": 8,
     "metadata": {},
     "output_type": "execute_result"
    }
   ],
   "source": [
    "ads_data\\\n",
    "    .groupby(['date', 'event'], as_index=False) \\\n",
    "    .agg({'ad_id': 'count'}) \\\n",
    "    .pivot(index='date', columns='event', values='ad_id')\\\n",
    "    .reset_index()"
   ],
   "metadata": {
    "collapsed": false,
    "pycharm": {
     "name": "#%%\n"
    }
   }
  },
  {
   "cell_type": "code",
   "execution_count": 9,
   "outputs": [
    {
     "data": {
      "text/plain": "        date  ad_id  campaign_union_id\n0 2019-04-01     49                 49\n1 2019-04-02    146                146\n2 2019-04-03    179                177\n3 2019-04-04    150                147\n4 2019-04-05    131                130\n5 2019-04-06     61                 60",
      "text/html": "<div>\n<style scoped>\n    .dataframe tbody tr th:only-of-type {\n        vertical-align: middle;\n    }\n\n    .dataframe tbody tr th {\n        vertical-align: top;\n    }\n\n    .dataframe thead th {\n        text-align: right;\n    }\n</style>\n<table border=\"1\" class=\"dataframe\">\n  <thead>\n    <tr style=\"text-align: right;\">\n      <th></th>\n      <th>date</th>\n      <th>ad_id</th>\n      <th>campaign_union_id</th>\n    </tr>\n  </thead>\n  <tbody>\n    <tr>\n      <th>0</th>\n      <td>2019-04-01</td>\n      <td>49</td>\n      <td>49</td>\n    </tr>\n    <tr>\n      <th>1</th>\n      <td>2019-04-02</td>\n      <td>146</td>\n      <td>146</td>\n    </tr>\n    <tr>\n      <th>2</th>\n      <td>2019-04-03</td>\n      <td>179</td>\n      <td>177</td>\n    </tr>\n    <tr>\n      <th>3</th>\n      <td>2019-04-04</td>\n      <td>150</td>\n      <td>147</td>\n    </tr>\n    <tr>\n      <th>4</th>\n      <td>2019-04-05</td>\n      <td>131</td>\n      <td>130</td>\n    </tr>\n    <tr>\n      <th>5</th>\n      <td>2019-04-06</td>\n      <td>61</td>\n      <td>60</td>\n    </tr>\n  </tbody>\n</table>\n</div>"
     },
     "execution_count": 9,
     "metadata": {},
     "output_type": "execute_result"
    }
   ],
   "source": [
    "ads_data\\\n",
    "    .groupby(['date'], as_index=False) \\\n",
    "    .agg({'ad_id': pd.Series.nunique, 'campaign_union_id': pd.Series.nunique})"
   ],
   "metadata": {
    "collapsed": false,
    "pycharm": {
     "name": "#%%\n"
    }
   }
  },
  {
   "cell_type": "markdown",
   "source": [
    "### 2. Разобраться, почему случился такой скачок 2019-04-05?\n",
    "Каких событий стало больше?\n",
    "У всех объявлений или только у некоторых?"
   ],
   "metadata": {
    "collapsed": false,
    "pycharm": {
     "name": "#%% md\n"
    }
   }
  },
  {
   "cell_type": "code",
   "execution_count": 10,
   "metadata": {
    "pycharm": {
     "name": "#%%\n"
    }
   },
   "outputs": [
    {
     "data": {
      "text/plain": "           time\nad_id          \n112583  2166611\n29927     27186\n44635      8268\n46583      7327\n44956      5656",
      "text/html": "<div>\n<style scoped>\n    .dataframe tbody tr th:only-of-type {\n        vertical-align: middle;\n    }\n\n    .dataframe tbody tr th {\n        vertical-align: top;\n    }\n\n    .dataframe thead th {\n        text-align: right;\n    }\n</style>\n<table border=\"1\" class=\"dataframe\">\n  <thead>\n    <tr style=\"text-align: right;\">\n      <th></th>\n      <th>time</th>\n    </tr>\n    <tr>\n      <th>ad_id</th>\n      <th></th>\n    </tr>\n  </thead>\n  <tbody>\n    <tr>\n      <th>112583</th>\n      <td>2166611</td>\n    </tr>\n    <tr>\n      <th>29927</th>\n      <td>27186</td>\n    </tr>\n    <tr>\n      <th>44635</th>\n      <td>8268</td>\n    </tr>\n    <tr>\n      <th>46583</th>\n      <td>7327</td>\n    </tr>\n    <tr>\n      <th>44956</th>\n      <td>5656</td>\n    </tr>\n  </tbody>\n</table>\n</div>"
     },
     "execution_count": 10,
     "metadata": {},
     "output_type": "execute_result"
    }
   ],
   "source": [
    "ads_data[ads_data.date == '2019-04-05'] \\\n",
    "    .groupby('ad_id') \\\n",
    "    .agg({'time': 'count'}) \\\n",
    "    .sort_values('time', ascending=False) \\\n",
    "    .head()"
   ]
  },
  {
   "cell_type": "code",
   "execution_count": 11,
   "metadata": {
    "pycharm": {
     "name": "#%%\n"
    }
   },
   "outputs": [],
   "source": [
    "ad_id = 112583"
   ]
  },
  {
   "cell_type": "code",
   "execution_count": 12,
   "metadata": {
    "pycharm": {
     "name": "#%%\n"
    }
   },
   "outputs": [
    {
     "data": {
      "text/plain": "               time\ndate               \n2019-04-05  2166611\n2019-04-06   348613",
      "text/html": "<div>\n<style scoped>\n    .dataframe tbody tr th:only-of-type {\n        vertical-align: middle;\n    }\n\n    .dataframe tbody tr th {\n        vertical-align: top;\n    }\n\n    .dataframe thead th {\n        text-align: right;\n    }\n</style>\n<table border=\"1\" class=\"dataframe\">\n  <thead>\n    <tr style=\"text-align: right;\">\n      <th></th>\n      <th>time</th>\n    </tr>\n    <tr>\n      <th>date</th>\n      <th></th>\n    </tr>\n  </thead>\n  <tbody>\n    <tr>\n      <th>2019-04-05</th>\n      <td>2166611</td>\n    </tr>\n    <tr>\n      <th>2019-04-06</th>\n      <td>348613</td>\n    </tr>\n  </tbody>\n</table>\n</div>"
     },
     "execution_count": 12,
     "metadata": {},
     "output_type": "execute_result"
    }
   ],
   "source": [
    "ads_data.query('ad_id == @ad_id').groupby('date').agg({'time': 'count'})"
   ]
  },
  {
   "cell_type": "code",
   "execution_count": 13,
   "metadata": {
    "pycharm": {
     "name": "#%%\n"
    }
   },
   "outputs": [
    {
     "data": {
      "text/plain": "         ad_id        time event       date ad_cost_type  has_video  \\\n527124  112583  1554480636  view 2019-04-05          CPM          0   \n\n        client_union_id  campaign_union_id platform  ad_cost  \\\n527124           111818             112260      web    199.4   \n\n        target_audience_count  user_id           full_date  \n527124                 239408     4355 2019-04-05 16:10:36  ",
      "text/html": "<div>\n<style scoped>\n    .dataframe tbody tr th:only-of-type {\n        vertical-align: middle;\n    }\n\n    .dataframe tbody tr th {\n        vertical-align: top;\n    }\n\n    .dataframe thead th {\n        text-align: right;\n    }\n</style>\n<table border=\"1\" class=\"dataframe\">\n  <thead>\n    <tr style=\"text-align: right;\">\n      <th></th>\n      <th>ad_id</th>\n      <th>time</th>\n      <th>event</th>\n      <th>date</th>\n      <th>ad_cost_type</th>\n      <th>has_video</th>\n      <th>client_union_id</th>\n      <th>campaign_union_id</th>\n      <th>platform</th>\n      <th>ad_cost</th>\n      <th>target_audience_count</th>\n      <th>user_id</th>\n      <th>full_date</th>\n    </tr>\n  </thead>\n  <tbody>\n    <tr>\n      <th>527124</th>\n      <td>112583</td>\n      <td>1554480636</td>\n      <td>view</td>\n      <td>2019-04-05</td>\n      <td>CPM</td>\n      <td>0</td>\n      <td>111818</td>\n      <td>112260</td>\n      <td>web</td>\n      <td>199.4</td>\n      <td>239408</td>\n      <td>4355</td>\n      <td>2019-04-05 16:10:36</td>\n    </tr>\n  </tbody>\n</table>\n</div>"
     },
     "execution_count": 13,
     "metadata": {},
     "output_type": "execute_result"
    }
   ],
   "source": [
    "ads_data.query('ad_id == @ad_id').head(1)"
   ]
  },
  {
   "cell_type": "markdown",
   "source": [
    "Вывод: только ad_id = 112583 вызвал всплеск просмотров view 2019-04-05."
   ],
   "metadata": {
    "collapsed": false,
    "pycharm": {
     "name": "#%% md\n"
    }
   }
  },
  {
   "cell_type": "markdown",
   "source": [
    "---\n",
    "### 3. Найти топ 10 объявлений по CTR за все время.\n",
    "        CTR — это отношение всех просмотров объявления к кликам.\n",
    "Различается ли средний и медианный CTR объявлений в наших данных?"
   ],
   "metadata": {
    "collapsed": false,
    "pycharm": {
     "name": "#%% md\n"
    }
   }
  },
  {
   "cell_type": "code",
   "execution_count": 14,
   "metadata": {
    "pycharm": {
     "name": "#%%\n"
    }
   },
   "outputs": [
    {
     "data": {
      "text/plain": "event  ad_id  click    view\n0          3    9.0   490.0\n1       2132    1.0    95.0\n2       2276    2.0  1454.0\n3       2475    NaN   132.0\n4       2643    3.0   286.0",
      "text/html": "<div>\n<style scoped>\n    .dataframe tbody tr th:only-of-type {\n        vertical-align: middle;\n    }\n\n    .dataframe tbody tr th {\n        vertical-align: top;\n    }\n\n    .dataframe thead th {\n        text-align: right;\n    }\n</style>\n<table border=\"1\" class=\"dataframe\">\n  <thead>\n    <tr style=\"text-align: right;\">\n      <th>event</th>\n      <th>ad_id</th>\n      <th>click</th>\n      <th>view</th>\n    </tr>\n  </thead>\n  <tbody>\n    <tr>\n      <th>0</th>\n      <td>3</td>\n      <td>9.0</td>\n      <td>490.0</td>\n    </tr>\n    <tr>\n      <th>1</th>\n      <td>2132</td>\n      <td>1.0</td>\n      <td>95.0</td>\n    </tr>\n    <tr>\n      <th>2</th>\n      <td>2276</td>\n      <td>2.0</td>\n      <td>1454.0</td>\n    </tr>\n    <tr>\n      <th>3</th>\n      <td>2475</td>\n      <td>NaN</td>\n      <td>132.0</td>\n    </tr>\n    <tr>\n      <th>4</th>\n      <td>2643</td>\n      <td>3.0</td>\n      <td>286.0</td>\n    </tr>\n  </tbody>\n</table>\n</div>"
     },
     "execution_count": 14,
     "metadata": {},
     "output_type": "execute_result"
    }
   ],
   "source": [
    "ads_data_by_ad = ads_data\\\n",
    "                        .groupby(['ad_id', 'event'], as_index=False) \\\n",
    "                        .agg({'time': 'count'}) \\\n",
    "                        .pivot(index='ad_id', columns='event', values='time')\\\n",
    "                        .reset_index()\n",
    "\n",
    "ads_data_by_ad.head()"
   ]
  },
  {
   "cell_type": "code",
   "execution_count": 15,
   "metadata": {
    "pycharm": {
     "name": "#%%\n"
    }
   },
   "outputs": [
    {
     "data": {
      "text/plain": "event  ad_id  click    view       ctr   ctr_per\n0          3    9.0   490.0  0.018367  1.836735\n1       2132    1.0    95.0  0.010526  1.052632\n2       2276    2.0  1454.0  0.001376  0.137552\n3       2475    NaN   132.0       NaN       NaN\n4       2643    3.0   286.0  0.010490  1.048951",
      "text/html": "<div>\n<style scoped>\n    .dataframe tbody tr th:only-of-type {\n        vertical-align: middle;\n    }\n\n    .dataframe tbody tr th {\n        vertical-align: top;\n    }\n\n    .dataframe thead th {\n        text-align: right;\n    }\n</style>\n<table border=\"1\" class=\"dataframe\">\n  <thead>\n    <tr style=\"text-align: right;\">\n      <th>event</th>\n      <th>ad_id</th>\n      <th>click</th>\n      <th>view</th>\n      <th>ctr</th>\n      <th>ctr_per</th>\n    </tr>\n  </thead>\n  <tbody>\n    <tr>\n      <th>0</th>\n      <td>3</td>\n      <td>9.0</td>\n      <td>490.0</td>\n      <td>0.018367</td>\n      <td>1.836735</td>\n    </tr>\n    <tr>\n      <th>1</th>\n      <td>2132</td>\n      <td>1.0</td>\n      <td>95.0</td>\n      <td>0.010526</td>\n      <td>1.052632</td>\n    </tr>\n    <tr>\n      <th>2</th>\n      <td>2276</td>\n      <td>2.0</td>\n      <td>1454.0</td>\n      <td>0.001376</td>\n      <td>0.137552</td>\n    </tr>\n    <tr>\n      <th>3</th>\n      <td>2475</td>\n      <td>NaN</td>\n      <td>132.0</td>\n      <td>NaN</td>\n      <td>NaN</td>\n    </tr>\n    <tr>\n      <th>4</th>\n      <td>2643</td>\n      <td>3.0</td>\n      <td>286.0</td>\n      <td>0.010490</td>\n      <td>1.048951</td>\n    </tr>\n  </tbody>\n</table>\n</div>"
     },
     "execution_count": 15,
     "metadata": {},
     "output_type": "execute_result"
    }
   ],
   "source": [
    "ads_data_by_ad = ads_data_by_ad.assign(\n",
    "                                        ctr = ads_data_by_ad.click / ads_data_by_ad.view,\n",
    "                                        ctr_per = ads_data_by_ad.click / ads_data_by_ad.view * 100\n",
    "                                        )\n",
    "ads_data_by_ad.head()"
   ]
  },
  {
   "cell_type": "code",
   "execution_count": 16,
   "metadata": {
    "pycharm": {
     "name": "#%%\n"
    }
   },
   "outputs": [
    {
     "data": {
      "text/plain": "event   ad_id     click       view       ctr    ctr_per\n289    112583  580436.0  1934788.0  0.300000  29.999979\n324    119450     258.0     1254.0  0.205742  20.574163\n125     38575      43.0      257.0  0.167315  16.731518\n144     40968      29.0      217.0  0.133641  13.364055\n207     45642      42.0      344.0  0.122093  12.209302\n283    110924      11.0       95.0  0.115789  11.578947\n194     45043      28.0      245.0  0.114286  11.428571\n96      35034     112.0      997.0  0.112337  11.233701\n5        4585      53.0      476.0  0.111345  11.134454\n328    120347     236.0     2168.0  0.108856  10.885609",
      "text/html": "<div>\n<style scoped>\n    .dataframe tbody tr th:only-of-type {\n        vertical-align: middle;\n    }\n\n    .dataframe tbody tr th {\n        vertical-align: top;\n    }\n\n    .dataframe thead th {\n        text-align: right;\n    }\n</style>\n<table border=\"1\" class=\"dataframe\">\n  <thead>\n    <tr style=\"text-align: right;\">\n      <th>event</th>\n      <th>ad_id</th>\n      <th>click</th>\n      <th>view</th>\n      <th>ctr</th>\n      <th>ctr_per</th>\n    </tr>\n  </thead>\n  <tbody>\n    <tr>\n      <th>289</th>\n      <td>112583</td>\n      <td>580436.0</td>\n      <td>1934788.0</td>\n      <td>0.300000</td>\n      <td>29.999979</td>\n    </tr>\n    <tr>\n      <th>324</th>\n      <td>119450</td>\n      <td>258.0</td>\n      <td>1254.0</td>\n      <td>0.205742</td>\n      <td>20.574163</td>\n    </tr>\n    <tr>\n      <th>125</th>\n      <td>38575</td>\n      <td>43.0</td>\n      <td>257.0</td>\n      <td>0.167315</td>\n      <td>16.731518</td>\n    </tr>\n    <tr>\n      <th>144</th>\n      <td>40968</td>\n      <td>29.0</td>\n      <td>217.0</td>\n      <td>0.133641</td>\n      <td>13.364055</td>\n    </tr>\n    <tr>\n      <th>207</th>\n      <td>45642</td>\n      <td>42.0</td>\n      <td>344.0</td>\n      <td>0.122093</td>\n      <td>12.209302</td>\n    </tr>\n    <tr>\n      <th>283</th>\n      <td>110924</td>\n      <td>11.0</td>\n      <td>95.0</td>\n      <td>0.115789</td>\n      <td>11.578947</td>\n    </tr>\n    <tr>\n      <th>194</th>\n      <td>45043</td>\n      <td>28.0</td>\n      <td>245.0</td>\n      <td>0.114286</td>\n      <td>11.428571</td>\n    </tr>\n    <tr>\n      <th>96</th>\n      <td>35034</td>\n      <td>112.0</td>\n      <td>997.0</td>\n      <td>0.112337</td>\n      <td>11.233701</td>\n    </tr>\n    <tr>\n      <th>5</th>\n      <td>4585</td>\n      <td>53.0</td>\n      <td>476.0</td>\n      <td>0.111345</td>\n      <td>11.134454</td>\n    </tr>\n    <tr>\n      <th>328</th>\n      <td>120347</td>\n      <td>236.0</td>\n      <td>2168.0</td>\n      <td>0.108856</td>\n      <td>10.885609</td>\n    </tr>\n  </tbody>\n</table>\n</div>"
     },
     "execution_count": 16,
     "metadata": {},
     "output_type": "execute_result"
    }
   ],
   "source": [
    "ads_data_by_ad.sort_values('ctr', ascending=False).head(10)"
   ]
  },
  {
   "cell_type": "code",
   "execution_count": 17,
   "metadata": {
    "pycharm": {
     "name": "#%%\n"
    }
   },
   "outputs": [
    {
     "data": {
      "text/plain": "0.020628096080757954"
     },
     "execution_count": 17,
     "metadata": {},
     "output_type": "execute_result"
    }
   ],
   "source": [
    "ads_data_by_ad.ctr.mean()"
   ]
  },
  {
   "cell_type": "code",
   "execution_count": 18,
   "metadata": {
    "pycharm": {
     "name": "#%%\n"
    }
   },
   "outputs": [
    {
     "data": {
      "text/plain": "0.010753240746688594"
     },
     "execution_count": 18,
     "metadata": {},
     "output_type": "execute_result"
    }
   ],
   "source": [
    "ads_data_by_ad.ctr.median()"
   ]
  },
  {
   "cell_type": "code",
   "execution_count": 19,
   "metadata": {
    "pycharm": {
     "name": "#%%\n"
    }
   },
   "outputs": [
    {
     "data": {
      "text/plain": "<Axes: xlabel='ctr', ylabel='Count'>"
     },
     "execution_count": 19,
     "metadata": {},
     "output_type": "execute_result"
    },
    {
     "data": {
      "text/plain": "<Figure size 640x480 with 1 Axes>",
      "image/png": "[encoded data removed]"
     },
     "metadata": {},
     "output_type": "display_data"
    }
   ],
   "source": [
    "sns.histplot(data=ads_data_by_ad, x='ctr', kde=False)"
   ]
  },
  {
   "cell_type": "markdown",
   "source": [
    "Вывод: средний показатель выше медианного в 2 раза - происходит из-за перекоса распределения CTR влево (большое количество рекламы с низким CTR и немного с высоким)."
   ],
   "metadata": {
    "collapsed": false,
    "pycharm": {
     "name": "#%% md\n"
    }
   }
  },
  {
   "cell_type": "markdown",
   "source": [
    "---\n",
    "### 4. Похоже, в наших логах есть баг, объявления приходят с кликами, но без показов!\n",
    "Сколько таких объявлений?\n",
    "Есть ли какие-то закономерности?\n",
    "Эта проблема наблюдается на всех платформах?"
   ],
   "metadata": {
    "collapsed": false,
    "pycharm": {
     "name": "#%% md\n"
    }
   }
  },
  {
   "cell_type": "code",
   "execution_count": 20,
   "metadata": {
    "pycharm": {
     "name": "#%%\n"
    }
   },
   "outputs": [
    {
     "data": {
      "text/plain": "event  ad_id  click    view       ctr   ctr_per\n0          3    9.0   490.0  0.018367  1.836735\n1       2132    1.0    95.0  0.010526  1.052632\n2       2276    2.0  1454.0  0.001376  0.137552\n3       2475    0.0   132.0  0.000000  0.000000\n4       2643    3.0   286.0  0.010490  1.048951",
      "text/html": "<div>\n<style scoped>\n    .dataframe tbody tr th:only-of-type {\n        vertical-align: middle;\n    }\n\n    .dataframe tbody tr th {\n        vertical-align: top;\n    }\n\n    .dataframe thead th {\n        text-align: right;\n    }\n</style>\n<table border=\"1\" class=\"dataframe\">\n  <thead>\n    <tr style=\"text-align: right;\">\n      <th>event</th>\n      <th>ad_id</th>\n      <th>click</th>\n      <th>view</th>\n      <th>ctr</th>\n      <th>ctr_per</th>\n    </tr>\n  </thead>\n  <tbody>\n    <tr>\n      <th>0</th>\n      <td>3</td>\n      <td>9.0</td>\n      <td>490.0</td>\n      <td>0.018367</td>\n      <td>1.836735</td>\n    </tr>\n    <tr>\n      <th>1</th>\n      <td>2132</td>\n      <td>1.0</td>\n      <td>95.0</td>\n      <td>0.010526</td>\n      <td>1.052632</td>\n    </tr>\n    <tr>\n      <th>2</th>\n      <td>2276</td>\n      <td>2.0</td>\n      <td>1454.0</td>\n      <td>0.001376</td>\n      <td>0.137552</td>\n    </tr>\n    <tr>\n      <th>3</th>\n      <td>2475</td>\n      <td>0.0</td>\n      <td>132.0</td>\n      <td>0.000000</td>\n      <td>0.000000</td>\n    </tr>\n    <tr>\n      <th>4</th>\n      <td>2643</td>\n      <td>3.0</td>\n      <td>286.0</td>\n      <td>0.010490</td>\n      <td>1.048951</td>\n    </tr>\n  </tbody>\n</table>\n</div>"
     },
     "execution_count": 20,
     "metadata": {},
     "output_type": "execute_result"
    }
   ],
   "source": [
    "ads_data_by_ad = ads_data_by_ad.fillna(0)\n",
    "ads_data_by_ad.head()"
   ]
  },
  {
   "cell_type": "code",
   "execution_count": 21,
   "metadata": {
    "pycharm": {
     "name": "#%%\n"
    }
   },
   "outputs": [
    {
     "data": {
      "text/plain": "3      2475\n26    16444\n29    16678\n30    16845\n38    20871\nName: ad_id, dtype: int64"
     },
     "execution_count": 21,
     "metadata": {},
     "output_type": "execute_result"
    }
   ],
   "source": [
    "ads_ids_bug = ads_data_by_ad.query('click == 0').ad_id\n",
    "ads_ids_bug.head()"
   ]
  },
  {
   "cell_type": "code",
   "execution_count": 22,
   "metadata": {
    "pycharm": {
     "name": "#%%\n"
    }
   },
   "outputs": [
    {
     "data": {
      "text/plain": "  platform  ads_count\n2      web       1988\n1      ios       3075\n0  android       4906",
      "text/html": "<div>\n<style scoped>\n    .dataframe tbody tr th:only-of-type {\n        vertical-align: middle;\n    }\n\n    .dataframe tbody tr th {\n        vertical-align: top;\n    }\n\n    .dataframe thead th {\n        text-align: right;\n    }\n</style>\n<table border=\"1\" class=\"dataframe\">\n  <thead>\n    <tr style=\"text-align: right;\">\n      <th></th>\n      <th>platform</th>\n      <th>ads_count</th>\n    </tr>\n  </thead>\n  <tbody>\n    <tr>\n      <th>2</th>\n      <td>web</td>\n      <td>1988</td>\n    </tr>\n    <tr>\n      <th>1</th>\n      <td>ios</td>\n      <td>3075</td>\n    </tr>\n    <tr>\n      <th>0</th>\n      <td>android</td>\n      <td>4906</td>\n    </tr>\n  </tbody>\n</table>\n</div>"
     },
     "execution_count": 22,
     "metadata": {},
     "output_type": "execute_result"
    }
   ],
   "source": [
    "ads_bug_by_platform = ads_data[ads_data.ad_id.isin(ads_ids_bug)] \\\n",
    "    .groupby('platform', as_index=False) \\\n",
    "    .agg({'ad_id': 'count'}) \\\n",
    "    .rename(columns={'ad_id': 'ads_count'})\\\n",
    "    .sort_values('ads_count')\n",
    "\n",
    "ads_bug_by_platform"
   ]
  },
  {
   "cell_type": "code",
   "execution_count": 23,
   "metadata": {
    "pycharm": {
     "name": "#%%\n"
    }
   },
   "outputs": [
    {
     "data": {
      "text/plain": "  platform  ads_count\n2      web     635425\n1      ios     953078\n0  android    1588211",
      "text/html": "<div>\n<style scoped>\n    .dataframe tbody tr th:only-of-type {\n        vertical-align: middle;\n    }\n\n    .dataframe tbody tr th {\n        vertical-align: top;\n    }\n\n    .dataframe thead th {\n        text-align: right;\n    }\n</style>\n<table border=\"1\" class=\"dataframe\">\n  <thead>\n    <tr style=\"text-align: right;\">\n      <th></th>\n      <th>platform</th>\n      <th>ads_count</th>\n    </tr>\n  </thead>\n  <tbody>\n    <tr>\n      <th>2</th>\n      <td>web</td>\n      <td>635425</td>\n    </tr>\n    <tr>\n      <th>1</th>\n      <td>ios</td>\n      <td>953078</td>\n    </tr>\n    <tr>\n      <th>0</th>\n      <td>android</td>\n      <td>1588211</td>\n    </tr>\n  </tbody>\n</table>\n</div>"
     },
     "execution_count": 23,
     "metadata": {},
     "output_type": "execute_result"
    }
   ],
   "source": [
    "ads_all_by_platform = ads_data \\\n",
    "    .groupby('platform', as_index=False) \\\n",
    "    .agg({'ad_id': 'count'}) \\\n",
    "    .rename(columns={'ad_id': 'ads_count'})\\\n",
    "    .sort_values('ads_count')\n",
    "\n",
    "ads_all_by_platform"
   ]
  },
  {
   "cell_type": "code",
   "execution_count": 24,
   "metadata": {
    "pycharm": {
     "name": "#%%\n"
    }
   },
   "outputs": [
    {
     "data": {
      "text/plain": "  platform  ads_count  percentage\n2      web       1988    0.312861\n1      ios       3075    0.322639\n0  android       4906    0.308901",
      "text/html": "<div>\n<style scoped>\n    .dataframe tbody tr th:only-of-type {\n        vertical-align: middle;\n    }\n\n    .dataframe tbody tr th {\n        vertical-align: top;\n    }\n\n    .dataframe thead th {\n        text-align: right;\n    }\n</style>\n<table border=\"1\" class=\"dataframe\">\n  <thead>\n    <tr style=\"text-align: right;\">\n      <th></th>\n      <th>platform</th>\n      <th>ads_count</th>\n      <th>percentage</th>\n    </tr>\n  </thead>\n  <tbody>\n    <tr>\n      <th>2</th>\n      <td>web</td>\n      <td>1988</td>\n      <td>0.312861</td>\n    </tr>\n    <tr>\n      <th>1</th>\n      <td>ios</td>\n      <td>3075</td>\n      <td>0.322639</td>\n    </tr>\n    <tr>\n      <th>0</th>\n      <td>android</td>\n      <td>4906</td>\n      <td>0.308901</td>\n    </tr>\n  </tbody>\n</table>\n</div>"
     },
     "execution_count": 24,
     "metadata": {},
     "output_type": "execute_result"
    }
   ],
   "source": [
    "ads_bug_by_platform['percentage'] = ads_bug_by_platform.ads_count / ads_all_by_platform.ads_count * 100\n",
    "ads_bug_by_platform"
   ]
  },
  {
   "cell_type": "markdown",
   "source": [
    "Вывод: примерно 0,3 % объявлений с багом на каждой платформе."
   ],
   "metadata": {
    "collapsed": false,
    "pycharm": {
     "name": "#%% md\n"
    }
   }
  },
  {
   "cell_type": "markdown",
   "source": [
    "---\n",
    "### 5. Есть ли различия в CTR у объявлений с видео и без?\n"
   ],
   "metadata": {
    "collapsed": false,
    "pycharm": {
     "name": "#%% md\n"
    }
   }
  },
  {
   "cell_type": "code",
   "execution_count": 25,
   "outputs": [
    {
     "data": {
      "text/plain": "          ad_id  click    view       ctr   ctr_per  has_video\n0             3    9.0   490.0  0.018367  1.836735          0\n1             3    9.0   490.0  0.018367  1.836735          0\n2             3    9.0   490.0  0.018367  1.836735          0\n3             3    9.0   490.0  0.018367  1.836735          0\n4             3    9.0   490.0  0.018367  1.836735          0\n...         ...    ...     ...       ...       ...        ...\n3176709  122086   50.0  1999.0  0.025013  2.501251          0\n3176710  122086   50.0  1999.0  0.025013  2.501251          0\n3176711  122086   50.0  1999.0  0.025013  2.501251          0\n3176712  122086   50.0  1999.0  0.025013  2.501251          0\n3176713  122086   50.0  1999.0  0.025013  2.501251          0\n\n[3176714 rows x 6 columns]",
      "text/html": "<div>\n<style scoped>\n    .dataframe tbody tr th:only-of-type {\n        vertical-align: middle;\n    }\n\n    .dataframe tbody tr th {\n        vertical-align: top;\n    }\n\n    .dataframe thead th {\n        text-align: right;\n    }\n</style>\n<table border=\"1\" class=\"dataframe\">\n  <thead>\n    <tr style=\"text-align: right;\">\n      <th></th>\n      <th>ad_id</th>\n      <th>click</th>\n      <th>view</th>\n      <th>ctr</th>\n      <th>ctr_per</th>\n      <th>has_video</th>\n    </tr>\n  </thead>\n  <tbody>\n    <tr>\n      <th>0</th>\n      <td>3</td>\n      <td>9.0</td>\n      <td>490.0</td>\n      <td>0.018367</td>\n      <td>1.836735</td>\n      <td>0</td>\n    </tr>\n    <tr>\n      <th>1</th>\n      <td>3</td>\n      <td>9.0</td>\n      <td>490.0</td>\n      <td>0.018367</td>\n      <td>1.836735</td>\n      <td>0</td>\n    </tr>\n    <tr>\n      <th>2</th>\n      <td>3</td>\n      <td>9.0</td>\n      <td>490.0</td>\n      <td>0.018367</td>\n      <td>1.836735</td>\n      <td>0</td>\n    </tr>\n    <tr>\n      <th>3</th>\n      <td>3</td>\n      <td>9.0</td>\n      <td>490.0</td>\n      <td>0.018367</td>\n      <td>1.836735</td>\n      <td>0</td>\n    </tr>\n    <tr>\n      <th>4</th>\n      <td>3</td>\n      <td>9.0</td>\n      <td>490.0</td>\n      <td>0.018367</td>\n      <td>1.836735</td>\n      <td>0</td>\n    </tr>\n    <tr>\n      <th>...</th>\n      <td>...</td>\n      <td>...</td>\n      <td>...</td>\n      <td>...</td>\n      <td>...</td>\n      <td>...</td>\n    </tr>\n    <tr>\n      <th>3176709</th>\n      <td>122086</td>\n      <td>50.0</td>\n      <td>1999.0</td>\n      <td>0.025013</td>\n      <td>2.501251</td>\n      <td>0</td>\n    </tr>\n    <tr>\n      <th>3176710</th>\n      <td>122086</td>\n      <td>50.0</td>\n      <td>1999.0</td>\n      <td>0.025013</td>\n      <td>2.501251</td>\n      <td>0</td>\n    </tr>\n    <tr>\n      <th>3176711</th>\n      <td>122086</td>\n      <td>50.0</td>\n      <td>1999.0</td>\n      <td>0.025013</td>\n      <td>2.501251</td>\n      <td>0</td>\n    </tr>\n    <tr>\n      <th>3176712</th>\n      <td>122086</td>\n      <td>50.0</td>\n      <td>1999.0</td>\n      <td>0.025013</td>\n      <td>2.501251</td>\n      <td>0</td>\n    </tr>\n    <tr>\n      <th>3176713</th>\n      <td>122086</td>\n      <td>50.0</td>\n      <td>1999.0</td>\n      <td>0.025013</td>\n      <td>2.501251</td>\n      <td>0</td>\n    </tr>\n  </tbody>\n</table>\n<p>3176714 rows × 6 columns</p>\n</div>"
     },
     "execution_count": 25,
     "metadata": {},
     "output_type": "execute_result"
    }
   ],
   "source": [
    "ads_data_by_ad_with_video = ads_data_by_ad.merge(ads_data[['ad_id', 'has_video']], on='ad_id', how='left')\n",
    "ads_data_by_ad_with_video"
   ],
   "metadata": {
    "collapsed": false,
    "pycharm": {
     "name": "#%%\n"
    }
   }
  },
  {
   "cell_type": "code",
   "execution_count": 26,
   "outputs": [
    {
     "data": {
      "text/plain": "   has_video       ctr\n0          0  0.240271\n1          1  0.002666",
      "text/html": "<div>\n<style scoped>\n    .dataframe tbody tr th:only-of-type {\n        vertical-align: middle;\n    }\n\n    .dataframe tbody tr th {\n        vertical-align: top;\n    }\n\n    .dataframe thead th {\n        text-align: right;\n    }\n</style>\n<table border=\"1\" class=\"dataframe\">\n  <thead>\n    <tr style=\"text-align: right;\">\n      <th></th>\n      <th>has_video</th>\n      <th>ctr</th>\n    </tr>\n  </thead>\n  <tbody>\n    <tr>\n      <th>0</th>\n      <td>0</td>\n      <td>0.240271</td>\n    </tr>\n    <tr>\n      <th>1</th>\n      <td>1</td>\n      <td>0.002666</td>\n    </tr>\n  </tbody>\n</table>\n</div>"
     },
     "execution_count": 26,
     "metadata": {},
     "output_type": "execute_result"
    }
   ],
   "source": [
    "ctr_by_video = ads_data_by_ad_with_video.groupby('has_video')['ctr'].mean().reset_index()\n",
    "ctr_by_video"
   ],
   "metadata": {
    "collapsed": false,
    "pycharm": {
     "name": "#%%\n"
    }
   }
  },
  {
   "cell_type": "code",
   "execution_count": 27,
   "outputs": [
    {
     "data": {
      "text/plain": "<Figure size 300x200 with 1 Axes>",
      "image/png": "[encoded data removed]"
     },
     "metadata": {},
     "output_type": "display_data"
    }
   ],
   "source": [
    "# Построение столбчатой диаграммы\n",
    "plt.figure(figsize=(3,2))\n",
    "plt.bar(ctr_by_video['has_video'], ctr_by_video['ctr'], color=['blue', 'green'])\n",
    "plt.xlabel('Has Video')\n",
    "plt.ylabel('Average CTR')\n",
    "plt.title('Average CTR by Video Presence')\n",
    "plt.xticks(ticks=ctr_by_video['has_video'], labels=['No Video', 'Has Video'])\n",
    "plt.show()"
   ],
   "metadata": {
    "collapsed": false,
    "pycharm": {
     "name": "#%%\n"
    }
   }
  },
  {
   "cell_type": "markdown",
   "source": [
    "Вывод: CTR рекламы без видео гораздо выше, чем с ним."
   ],
   "metadata": {
    "collapsed": false,
    "pycharm": {
     "name": "#%% md\n"
    }
   }
  },
  {
   "cell_type": "markdown",
   "source": [
    "---\n",
    "### 6. Чему равняется 95 процентиль CTR по всем объявлениям за 2019-04-04?\n"
   ],
   "metadata": {
    "collapsed": false,
    "pycharm": {
     "name": "#%% md\n"
    }
   }
  },
  {
   "cell_type": "code",
   "execution_count": 28,
   "metadata": {
    "pycharm": {
     "name": "#%%\n"
    }
   },
   "outputs": [
    {
     "data": {
      "text/plain": "event  ad_id  click    view\n0       9071    3.0   352.0\n1       9776   37.0  1115.0\n2      10601    3.0   848.0\n3      11887  151.0  8720.0\n4      12137    1.0   170.0",
      "text/html": "<div>\n<style scoped>\n    .dataframe tbody tr th:only-of-type {\n        vertical-align: middle;\n    }\n\n    .dataframe tbody tr th {\n        vertical-align: top;\n    }\n\n    .dataframe thead th {\n        text-align: right;\n    }\n</style>\n<table border=\"1\" class=\"dataframe\">\n  <thead>\n    <tr style=\"text-align: right;\">\n      <th>event</th>\n      <th>ad_id</th>\n      <th>click</th>\n      <th>view</th>\n    </tr>\n  </thead>\n  <tbody>\n    <tr>\n      <th>0</th>\n      <td>9071</td>\n      <td>3.0</td>\n      <td>352.0</td>\n    </tr>\n    <tr>\n      <th>1</th>\n      <td>9776</td>\n      <td>37.0</td>\n      <td>1115.0</td>\n    </tr>\n    <tr>\n      <th>2</th>\n      <td>10601</td>\n      <td>3.0</td>\n      <td>848.0</td>\n    </tr>\n    <tr>\n      <th>3</th>\n      <td>11887</td>\n      <td>151.0</td>\n      <td>8720.0</td>\n    </tr>\n    <tr>\n      <th>4</th>\n      <td>12137</td>\n      <td>1.0</td>\n      <td>170.0</td>\n    </tr>\n  </tbody>\n</table>\n</div>"
     },
     "execution_count": 28,
     "metadata": {},
     "output_type": "execute_result"
    }
   ],
   "source": [
    "df_2019_04_04 =  ads_data[ads_data.date == '2019-04-04']\\\n",
    "                                                        .groupby(['ad_id', 'event'], as_index=False) \\\n",
    "                                                        .agg({'time': 'count'}) \\\n",
    "                                                        .pivot(index='ad_id', columns='event', values='time')\\\n",
    "                                                        .reset_index() \\\n",
    "                                                        .fillna(0)\n",
    "\n",
    "df_2019_04_04.head()"
   ]
  },
  {
   "cell_type": "code",
   "execution_count": 29,
   "metadata": {
    "pycharm": {
     "name": "#%%\n"
    }
   },
   "outputs": [],
   "source": [
    "df_2019_04_04['ctr'] = df_2019_04_04.click / df_2019_04_04.view"
   ]
  },
  {
   "cell_type": "code",
   "execution_count": 30,
   "metadata": {
    "pycharm": {
     "name": "#%%\n"
    }
   },
   "outputs": [
    {
     "data": {
      "text/plain": "0.10211538461538454"
     },
     "execution_count": 30,
     "metadata": {},
     "output_type": "execute_result"
    }
   ],
   "source": [
    "df_2019_04_04[df_2019_04_04.click > 0].ctr.quantile(q=0.95)"
   ]
  },
  {
   "cell_type": "markdown",
   "source": [
    "---\n",
    "### 7. Для финансового отчета нужно рассчитать заработок по дням.\n",
    "        Мы списываем с клиентов деньги, если произошел клик по CPC объявлению, и мы списываем деньги за каждый показ CPM объявления, если у CPM объявления цена - 200 рублей, то за один показ мы зарабатываем 200 / 1000.\n",
    "\n",
    "В какой день мы заработали больше всего?\n",
    "В какой меньше?"
   ],
   "metadata": {
    "collapsed": false,
    "pycharm": {
     "name": "#%% md\n"
    }
   }
  },
  {
   "cell_type": "code",
   "execution_count": 31,
   "metadata": {
    "pycharm": {
     "name": "#%%\n"
    }
   },
   "outputs": [
    {
     "data": {
      "text/plain": "      ad_id        time  event       date ad_cost_type  has_video  \\\n248    4585  1554135960  click 2019-04-01          CPC          0   \n880  120444  1554136218  click 2019-04-01          CPC          0   \n\n     client_union_id  campaign_union_id platform  ad_cost  \\\n248               37               4382  android     53.5   \n880           120413             120440  android     52.0   \n\n     target_audience_count  user_id           full_date  \n248                 327648      538 2019-04-01 16:26:00  \n880                   4667      874 2019-04-01 16:30:18  ",
      "text/html": "<div>\n<style scoped>\n    .dataframe tbody tr th:only-of-type {\n        vertical-align: middle;\n    }\n\n    .dataframe tbody tr th {\n        vertical-align: top;\n    }\n\n    .dataframe thead th {\n        text-align: right;\n    }\n</style>\n<table border=\"1\" class=\"dataframe\">\n  <thead>\n    <tr style=\"text-align: right;\">\n      <th></th>\n      <th>ad_id</th>\n      <th>time</th>\n      <th>event</th>\n      <th>date</th>\n      <th>ad_cost_type</th>\n      <th>has_video</th>\n      <th>client_union_id</th>\n      <th>campaign_union_id</th>\n      <th>platform</th>\n      <th>ad_cost</th>\n      <th>target_audience_count</th>\n      <th>user_id</th>\n      <th>full_date</th>\n    </tr>\n  </thead>\n  <tbody>\n    <tr>\n      <th>248</th>\n      <td>4585</td>\n      <td>1554135960</td>\n      <td>click</td>\n      <td>2019-04-01</td>\n      <td>CPC</td>\n      <td>0</td>\n      <td>37</td>\n      <td>4382</td>\n      <td>android</td>\n      <td>53.5</td>\n      <td>327648</td>\n      <td>538</td>\n      <td>2019-04-01 16:26:00</td>\n    </tr>\n    <tr>\n      <th>880</th>\n      <td>120444</td>\n      <td>1554136218</td>\n      <td>click</td>\n      <td>2019-04-01</td>\n      <td>CPC</td>\n      <td>0</td>\n      <td>120413</td>\n      <td>120440</td>\n      <td>android</td>\n      <td>52.0</td>\n      <td>4667</td>\n      <td>874</td>\n      <td>2019-04-01 16:30:18</td>\n    </tr>\n  </tbody>\n</table>\n</div>"
     },
     "execution_count": 31,
     "metadata": {},
     "output_type": "execute_result"
    }
   ],
   "source": [
    "# Расчет CPC заработка по дням\n",
    "cpc_daily = ads_data[(ads_data['ad_cost_type'] == 'CPC') & (ads_data['event'] == 'click')]\n",
    "# cpc_daily = ads_data.query(\"ad_cost_type == 'CPC' and event == 'click'\")\n",
    "\n",
    "cpc_daily.head(2)"
   ]
  },
  {
   "cell_type": "code",
   "execution_count": 32,
   "outputs": [
    {
     "data": {
      "text/plain": "        date  cpc_cost\n0 2019-04-01    7036.9\n1 2019-04-02    7663.7\n2 2019-04-03   38597.2\n3 2019-04-04   26878.0\n4 2019-04-05    4381.2\n5 2019-04-06     253.0",
      "text/html": "<div>\n<style scoped>\n    .dataframe tbody tr th:only-of-type {\n        vertical-align: middle;\n    }\n\n    .dataframe tbody tr th {\n        vertical-align: top;\n    }\n\n    .dataframe thead th {\n        text-align: right;\n    }\n</style>\n<table border=\"1\" class=\"dataframe\">\n  <thead>\n    <tr style=\"text-align: right;\">\n      <th></th>\n      <th>date</th>\n      <th>cpc_cost</th>\n    </tr>\n  </thead>\n  <tbody>\n    <tr>\n      <th>0</th>\n      <td>2019-04-01</td>\n      <td>7036.9</td>\n    </tr>\n    <tr>\n      <th>1</th>\n      <td>2019-04-02</td>\n      <td>7663.7</td>\n    </tr>\n    <tr>\n      <th>2</th>\n      <td>2019-04-03</td>\n      <td>38597.2</td>\n    </tr>\n    <tr>\n      <th>3</th>\n      <td>2019-04-04</td>\n      <td>26878.0</td>\n    </tr>\n    <tr>\n      <th>4</th>\n      <td>2019-04-05</td>\n      <td>4381.2</td>\n    </tr>\n    <tr>\n      <th>5</th>\n      <td>2019-04-06</td>\n      <td>253.0</td>\n    </tr>\n  </tbody>\n</table>\n</div>"
     },
     "execution_count": 32,
     "metadata": {},
     "output_type": "execute_result"
    }
   ],
   "source": [
    "cpc_cost_daily = cpc_daily\\\n",
    "                            .groupby('date')['ad_cost']\\\n",
    "                            .sum()\\\n",
    "                            .reset_index(name='cpc_cost')\n",
    "\n",
    "cpc_cost_daily"
   ],
   "metadata": {
    "collapsed": false,
    "pycharm": {
     "name": "#%%\n"
    }
   }
  },
  {
   "cell_type": "code",
   "execution_count": 33,
   "outputs": [
    {
     "data": {
      "text/plain": "    ad_id        time event       date ad_cost_type  has_video  \\\n0   23456  1554076848  view 2019-04-01          CPM          0   \n1  111941  1554135866  view 2019-04-01          CPM          0   \n\n   client_union_id  campaign_union_id platform  ad_cost  \\\n0             5681              23456  android    190.0   \n1           111793             111941      ios    215.2   \n\n   target_audience_count  user_id           full_date  \n0                 125560      793 2019-04-01 00:00:48  \n1                  32277     1041 2019-04-01 16:24:26  ",
      "text/html": "<div>\n<style scoped>\n    .dataframe tbody tr th:only-of-type {\n        vertical-align: middle;\n    }\n\n    .dataframe tbody tr th {\n        vertical-align: top;\n    }\n\n    .dataframe thead th {\n        text-align: right;\n    }\n</style>\n<table border=\"1\" class=\"dataframe\">\n  <thead>\n    <tr style=\"text-align: right;\">\n      <th></th>\n      <th>ad_id</th>\n      <th>time</th>\n      <th>event</th>\n      <th>date</th>\n      <th>ad_cost_type</th>\n      <th>has_video</th>\n      <th>client_union_id</th>\n      <th>campaign_union_id</th>\n      <th>platform</th>\n      <th>ad_cost</th>\n      <th>target_audience_count</th>\n      <th>user_id</th>\n      <th>full_date</th>\n    </tr>\n  </thead>\n  <tbody>\n    <tr>\n      <th>0</th>\n      <td>23456</td>\n      <td>1554076848</td>\n      <td>view</td>\n      <td>2019-04-01</td>\n      <td>CPM</td>\n      <td>0</td>\n      <td>5681</td>\n      <td>23456</td>\n      <td>android</td>\n      <td>190.0</td>\n      <td>125560</td>\n      <td>793</td>\n      <td>2019-04-01 00:00:48</td>\n    </tr>\n    <tr>\n      <th>1</th>\n      <td>111941</td>\n      <td>1554135866</td>\n      <td>view</td>\n      <td>2019-04-01</td>\n      <td>CPM</td>\n      <td>0</td>\n      <td>111793</td>\n      <td>111941</td>\n      <td>ios</td>\n      <td>215.2</td>\n      <td>32277</td>\n      <td>1041</td>\n      <td>2019-04-01 16:24:26</td>\n    </tr>\n  </tbody>\n</table>\n</div>"
     },
     "execution_count": 33,
     "metadata": {},
     "output_type": "execute_result"
    }
   ],
   "source": [
    "cpm_daily = ads_data.query(\"ad_cost_type == 'CPM' and event == 'view'\")\n",
    "cpm_daily.head(2)"
   ],
   "metadata": {
    "collapsed": false,
    "pycharm": {
     "name": "#%%\n"
    }
   }
  },
  {
   "cell_type": "code",
   "execution_count": 34,
   "outputs": [
    {
     "data": {
      "text/plain": "        date     cpm_cost\n0 2019-04-01    6122.8123\n1 2019-04-02   26173.3051\n2 2019-04-03   34612.3170\n3 2019-04-04   19416.3568\n4 2019-04-05  354178.5490\n5 2019-04-06   56587.3376",
      "text/html": "<div>\n<style scoped>\n    .dataframe tbody tr th:only-of-type {\n        vertical-align: middle;\n    }\n\n    .dataframe tbody tr th {\n        vertical-align: top;\n    }\n\n    .dataframe thead th {\n        text-align: right;\n    }\n</style>\n<table border=\"1\" class=\"dataframe\">\n  <thead>\n    <tr style=\"text-align: right;\">\n      <th></th>\n      <th>date</th>\n      <th>cpm_cost</th>\n    </tr>\n  </thead>\n  <tbody>\n    <tr>\n      <th>0</th>\n      <td>2019-04-01</td>\n      <td>6122.8123</td>\n    </tr>\n    <tr>\n      <th>1</th>\n      <td>2019-04-02</td>\n      <td>26173.3051</td>\n    </tr>\n    <tr>\n      <th>2</th>\n      <td>2019-04-03</td>\n      <td>34612.3170</td>\n    </tr>\n    <tr>\n      <th>3</th>\n      <td>2019-04-04</td>\n      <td>19416.3568</td>\n    </tr>\n    <tr>\n      <th>4</th>\n      <td>2019-04-05</td>\n      <td>354178.5490</td>\n    </tr>\n    <tr>\n      <th>5</th>\n      <td>2019-04-06</td>\n      <td>56587.3376</td>\n    </tr>\n  </tbody>\n</table>\n</div>"
     },
     "execution_count": 34,
     "metadata": {},
     "output_type": "execute_result"
    }
   ],
   "source": [
    "cpm_cost_daily = cpm_daily\\\n",
    "                            .groupby('date')\\\n",
    "                            .apply(lambda x: x['ad_cost'].sum() / 1000)\\\n",
    "                            .reset_index(name='cpm_cost')\n",
    "\n",
    "cpm_cost_daily"
   ],
   "metadata": {
    "collapsed": false,
    "pycharm": {
     "name": "#%%\n"
    }
   }
  },
  {
   "cell_type": "code",
   "execution_count": 35,
   "outputs": [
    {
     "data": {
      "text/plain": "        date  cpc_cost     cpm_cost  total_daily_cost\n0 2019-04-01    7036.9    6122.8123        13159.7123\n1 2019-04-02    7663.7   26173.3051        33837.0051\n2 2019-04-03   38597.2   34612.3170        73209.5170\n3 2019-04-04   26878.0   19416.3568        46294.3568\n4 2019-04-05    4381.2  354178.5490       358559.7490\n5 2019-04-06     253.0   56587.3376        56840.3376",
      "text/html": "<div>\n<style scoped>\n    .dataframe tbody tr th:only-of-type {\n        vertical-align: middle;\n    }\n\n    .dataframe tbody tr th {\n        vertical-align: top;\n    }\n\n    .dataframe thead th {\n        text-align: right;\n    }\n</style>\n<table border=\"1\" class=\"dataframe\">\n  <thead>\n    <tr style=\"text-align: right;\">\n      <th></th>\n      <th>date</th>\n      <th>cpc_cost</th>\n      <th>cpm_cost</th>\n      <th>total_daily_cost</th>\n    </tr>\n  </thead>\n  <tbody>\n    <tr>\n      <th>0</th>\n      <td>2019-04-01</td>\n      <td>7036.9</td>\n      <td>6122.8123</td>\n      <td>13159.7123</td>\n    </tr>\n    <tr>\n      <th>1</th>\n      <td>2019-04-02</td>\n      <td>7663.7</td>\n      <td>26173.3051</td>\n      <td>33837.0051</td>\n    </tr>\n    <tr>\n      <th>2</th>\n      <td>2019-04-03</td>\n      <td>38597.2</td>\n      <td>34612.3170</td>\n      <td>73209.5170</td>\n    </tr>\n    <tr>\n      <th>3</th>\n      <td>2019-04-04</td>\n      <td>26878.0</td>\n      <td>19416.3568</td>\n      <td>46294.3568</td>\n    </tr>\n    <tr>\n      <th>4</th>\n      <td>2019-04-05</td>\n      <td>4381.2</td>\n      <td>354178.5490</td>\n      <td>358559.7490</td>\n    </tr>\n    <tr>\n      <th>5</th>\n      <td>2019-04-06</td>\n      <td>253.0</td>\n      <td>56587.3376</td>\n      <td>56840.3376</td>\n    </tr>\n  </tbody>\n</table>\n</div>"
     },
     "execution_count": 35,
     "metadata": {},
     "output_type": "execute_result"
    }
   ],
   "source": [
    "combined_daily_costs = pd.merge(cpc_cost_daily, cpm_cost_daily, on='date', how='outer').sort_values(by='date')\n",
    "combined_daily_costs['total_daily_cost'] = combined_daily_costs.cpc_cost + combined_daily_costs.cpm_cost\n",
    "combined_daily_costs"
   ],
   "metadata": {
    "collapsed": false,
    "pycharm": {
     "name": "#%%\n"
    }
   }
  },
  {
   "cell_type": "code",
   "execution_count": 36,
   "outputs": [
    {
     "data": {
      "text/plain": "<Figure size 1146x500 with 1 Axes>",
      "image/png": "[encoded data removed]"
     },
     "metadata": {},
     "output_type": "display_data"
    }
   ],
   "source": [
    "# Построение графика с использованием catplot для группировки по датам\n",
    "# Сначала преобразуем данные для catplot, \"расплавив\" столбцы затрат в длинный формат\n",
    "melted_costs = pd.melt(combined_daily_costs, id_vars='date', value_vars=['cpc_cost', 'cpm_cost', 'total_daily_cost'],\n",
    "                       var_name='Cost Type', value_name='Cost')\n",
    "\n",
    "# Использование catplot для создания графика\n",
    "g = sns.catplot(x='date', y='Cost', hue='Cost Type', data=melted_costs, kind='bar', height=5, aspect=2)\n",
    "\n",
    "# Настройка параметров отображения\n",
    "g.fig.suptitle('Daily Costs by Cost Type')\n",
    "g.set_xticklabels(rotation=45)\n",
    "g.set_axis_labels(\"Date\", \"Cost\")\n",
    "\n",
    "# Отображение графика\n",
    "plt.show()"
   ],
   "metadata": {
    "collapsed": false,
    "pycharm": {
     "name": "#%%\n"
    }
   }
  },
  {
   "cell_type": "markdown",
   "source": [
    "Вывод:\n",
    "- меньше всего заработали 2019-04-01\n",
    "- больше всего заработали 2019-04-05 (за счет CPC)"
   ],
   "metadata": {
    "collapsed": false,
    "pycharm": {
     "name": "#%% md\n"
    }
   }
  },
  {
   "cell_type": "markdown",
   "source": [
    "---\n",
    "### 8. Какая платформа самая популярная для размещения рекламных объявлений?\n"
   ],
   "metadata": {
    "collapsed": false,
    "pycharm": {
     "name": "#%% md\n"
    }
   }
  },
  {
   "cell_type": "code",
   "execution_count": 37,
   "outputs": [
    {
     "data": {
      "text/plain": "<Figure size 640x480 with 1 Axes>",
      "image/png": "[encoded data removed]"
     },
     "metadata": {},
     "output_type": "display_data"
    }
   ],
   "source": [
    "sns.barplot(data=ads_all_by_platform, x='platform', y='ads_count')\n",
    "\n",
    "# Добавляем название графика и подписи осей\n",
    "plt.title('Количество объявлений по платформам')\n",
    "plt.xlabel('Платформа')\n",
    "plt.ylabel('Количество объявлений')\n",
    "\n",
    "# Отображаем график\n",
    "plt.show()"
   ],
   "metadata": {
    "collapsed": false,
    "pycharm": {
     "name": "#%%\n"
    }
   }
  },
  {
   "cell_type": "markdown",
   "source": [
    "---\n",
    "### 9. Сколько процентов показов приходится на каждую из платформ?"
   ],
   "metadata": {
    "collapsed": false,
    "pycharm": {
     "name": "#%% md\n"
    }
   }
  },
  {
   "cell_type": "code",
   "execution_count": 38,
   "outputs": [
    {
     "data": {
      "text/plain": "<Figure size 640x480 with 1 Axes>",
      "image/png": "[encoded data removed]"
     },
     "metadata": {},
     "output_type": "display_data"
    }
   ],
   "source": [
    "y = (ads_all_by_platform.ads_count / ads_all_by_platform.ads_count.sum()) * 100\n",
    "sns.barplot(data=ads_all_by_platform, x='platform', y=y)\n",
    "\n",
    "# Добавляем название графика и подписи осей\n",
    "plt.title('Количество объявлений по платформам')\n",
    "plt.xlabel('Платформа')\n",
    "plt.ylabel('Количество объявлений')\n",
    "\n",
    "# Отображаем график\n",
    "plt.show()"
   ],
   "metadata": {
    "collapsed": false,
    "pycharm": {
     "name": "#%%\n"
    }
   }
  },
  {
   "cell_type": "markdown",
   "source": [
    "---\n",
    " ### 10. А есть ли такие объявления, по которым сначала произошел клик, а только потом показ?"
   ],
   "metadata": {
    "collapsed": false,
    "pycharm": {
     "name": "#%% md\n"
    }
   }
  },
  {
   "cell_type": "code",
   "execution_count": 39,
   "metadata": {
    "pycharm": {
     "name": "#%%\n"
    }
   },
   "outputs": [
    {
     "data": {
      "text/plain": "event   ad_id         click          view\n27      16548  1.554336e+09  1.554336e+09\n81      30939  1.554165e+09  1.554173e+09\n138     40464  1.554164e+09  1.554164e+09\n158     42007  1.554423e+09  1.554423e+09\n185     44543  1.554336e+09  1.554337e+09\n201     45436  1.554336e+09  1.554336e+09\n324    119450  1.554336e+09  1.554336e+09",
      "text/html": "<div>\n<style scoped>\n    .dataframe tbody tr th:only-of-type {\n        vertical-align: middle;\n    }\n\n    .dataframe tbody tr th {\n        vertical-align: top;\n    }\n\n    .dataframe thead th {\n        text-align: right;\n    }\n</style>\n<table border=\"1\" class=\"dataframe\">\n  <thead>\n    <tr style=\"text-align: right;\">\n      <th>event</th>\n      <th>ad_id</th>\n      <th>click</th>\n      <th>view</th>\n    </tr>\n  </thead>\n  <tbody>\n    <tr>\n      <th>27</th>\n      <td>16548</td>\n      <td>1.554336e+09</td>\n      <td>1.554336e+09</td>\n    </tr>\n    <tr>\n      <th>81</th>\n      <td>30939</td>\n      <td>1.554165e+09</td>\n      <td>1.554173e+09</td>\n    </tr>\n    <tr>\n      <th>138</th>\n      <td>40464</td>\n      <td>1.554164e+09</td>\n      <td>1.554164e+09</td>\n    </tr>\n    <tr>\n      <th>158</th>\n      <td>42007</td>\n      <td>1.554423e+09</td>\n      <td>1.554423e+09</td>\n    </tr>\n    <tr>\n      <th>185</th>\n      <td>44543</td>\n      <td>1.554336e+09</td>\n      <td>1.554337e+09</td>\n    </tr>\n    <tr>\n      <th>201</th>\n      <td>45436</td>\n      <td>1.554336e+09</td>\n      <td>1.554336e+09</td>\n    </tr>\n    <tr>\n      <th>324</th>\n      <td>119450</td>\n      <td>1.554336e+09</td>\n      <td>1.554336e+09</td>\n    </tr>\n  </tbody>\n</table>\n</div>"
     },
     "execution_count": 39,
     "metadata": {},
     "output_type": "execute_result"
    }
   ],
   "source": [
    "bug_ads = ads_data\\\n",
    "                    .groupby(['ad_id', 'event'], as_index=False) \\\n",
    "                    .agg({'time': 'min'}) \\\n",
    "                    .pivot(index='ad_id', columns='event', values='time').reset_index() \\\n",
    "                    .query('click < view')\n",
    "bug_ads"
   ]
  },
  {
   "cell_type": "code",
   "execution_count": 40,
   "metadata": {
    "pycharm": {
     "name": "#%%\n"
    }
   },
   "outputs": [
    {
     "data": {
      "text/plain": "         ad_id        time  event       date ad_cost_type  has_video  \\\n512690   16548  1554336083  click 2019-04-04          CPM          0   \n511482   16548  1554336278   view 2019-04-04          CPM          0   \n511439   16548  1554336352   view 2019-04-04          CPM          0   \n511438   16548  1554336352   view 2019-04-04          CPM          0   \n511437   16548  1554336352   view 2019-04-04          CPM          0   \n...        ...         ...    ...        ...          ...        ...   \n2056433  16548  1554422265   view 2019-04-05          CPM          0   \n2056432  16548  1554422265   view 2019-04-05          CPM          0   \n2056461  16548  1554422308   view 2019-04-05          CPM          0   \n2056652  16548  1554422338   view 2019-04-05          CPM          0   \n2056681  16548  1554422371   view 2019-04-05          CPM          0   \n\n         client_union_id  campaign_union_id platform  ad_cost  \\\n512690               722              16523      ios    196.6   \n511482               722              16523  android    196.6   \n511439               722              16523  android    196.6   \n511438               722              16523      ios    196.6   \n511437               722              16523      web    196.6   \n...                  ...                ...      ...      ...   \n2056433              722              16523  android    196.6   \n2056432              722              16523  android    196.6   \n2056461              722              16523      ios    196.6   \n2056652              722              16523  android    196.6   \n2056681              722              16523      ios    196.6   \n\n         target_audience_count  user_id           full_date  \n512690                   53199     4133 2019-04-04 00:01:23  \n511482                   53199     3736 2019-04-04 00:04:38  \n511439                   53199     4968 2019-04-04 00:05:52  \n511438                   53199     4206 2019-04-04 00:05:52  \n511437                   53199     3898 2019-04-04 00:05:52  \n...                        ...      ...                 ...  \n2056433                  53199     3613 2019-04-04 23:57:45  \n2056432                  53199     6044 2019-04-04 23:57:45  \n2056461                  53199     5831 2019-04-04 23:58:28  \n2056652                  53199     2837 2019-04-04 23:58:58  \n2056681                  53199     6051 2019-04-04 23:59:31  \n\n[2235 rows x 13 columns]",
      "text/html": "<div>\n<style scoped>\n    .dataframe tbody tr th:only-of-type {\n        vertical-align: middle;\n    }\n\n    .dataframe tbody tr th {\n        vertical-align: top;\n    }\n\n    .dataframe thead th {\n        text-align: right;\n    }\n</style>\n<table border=\"1\" class=\"dataframe\">\n  <thead>\n    <tr style=\"text-align: right;\">\n      <th></th>\n      <th>ad_id</th>\n      <th>time</th>\n      <th>event</th>\n      <th>date</th>\n      <th>ad_cost_type</th>\n      <th>has_video</th>\n      <th>client_union_id</th>\n      <th>campaign_union_id</th>\n      <th>platform</th>\n      <th>ad_cost</th>\n      <th>target_audience_count</th>\n      <th>user_id</th>\n      <th>full_date</th>\n    </tr>\n  </thead>\n  <tbody>\n    <tr>\n      <th>512690</th>\n      <td>16548</td>\n      <td>1554336083</td>\n      <td>click</td>\n      <td>2019-04-04</td>\n      <td>CPM</td>\n      <td>0</td>\n      <td>722</td>\n      <td>16523</td>\n      <td>ios</td>\n      <td>196.6</td>\n      <td>53199</td>\n      <td>4133</td>\n      <td>2019-04-04 00:01:23</td>\n    </tr>\n    <tr>\n      <th>511482</th>\n      <td>16548</td>\n      <td>1554336278</td>\n      <td>view</td>\n      <td>2019-04-04</td>\n      <td>CPM</td>\n      <td>0</td>\n      <td>722</td>\n      <td>16523</td>\n      <td>android</td>\n      <td>196.6</td>\n      <td>53199</td>\n      <td>3736</td>\n      <td>2019-04-04 00:04:38</td>\n    </tr>\n    <tr>\n      <th>511439</th>\n      <td>16548</td>\n      <td>1554336352</td>\n      <td>view</td>\n      <td>2019-04-04</td>\n      <td>CPM</td>\n      <td>0</td>\n      <td>722</td>\n      <td>16523</td>\n      <td>android</td>\n      <td>196.6</td>\n      <td>53199</td>\n      <td>4968</td>\n      <td>2019-04-04 00:05:52</td>\n    </tr>\n    <tr>\n      <th>511438</th>\n      <td>16548</td>\n      <td>1554336352</td>\n      <td>view</td>\n      <td>2019-04-04</td>\n      <td>CPM</td>\n      <td>0</td>\n      <td>722</td>\n      <td>16523</td>\n      <td>ios</td>\n      <td>196.6</td>\n      <td>53199</td>\n      <td>4206</td>\n      <td>2019-04-04 00:05:52</td>\n    </tr>\n    <tr>\n      <th>511437</th>\n      <td>16548</td>\n      <td>1554336352</td>\n      <td>view</td>\n      <td>2019-04-04</td>\n      <td>CPM</td>\n      <td>0</td>\n      <td>722</td>\n      <td>16523</td>\n      <td>web</td>\n      <td>196.6</td>\n      <td>53199</td>\n      <td>3898</td>\n      <td>2019-04-04 00:05:52</td>\n    </tr>\n    <tr>\n      <th>...</th>\n      <td>...</td>\n      <td>...</td>\n      <td>...</td>\n      <td>...</td>\n      <td>...</td>\n      <td>...</td>\n      <td>...</td>\n      <td>...</td>\n      <td>...</td>\n      <td>...</td>\n      <td>...</td>\n      <td>...</td>\n      <td>...</td>\n    </tr>\n    <tr>\n      <th>2056433</th>\n      <td>16548</td>\n      <td>1554422265</td>\n      <td>view</td>\n      <td>2019-04-05</td>\n      <td>CPM</td>\n      <td>0</td>\n      <td>722</td>\n      <td>16523</td>\n      <td>android</td>\n      <td>196.6</td>\n      <td>53199</td>\n      <td>3613</td>\n      <td>2019-04-04 23:57:45</td>\n    </tr>\n    <tr>\n      <th>2056432</th>\n      <td>16548</td>\n      <td>1554422265</td>\n      <td>view</td>\n      <td>2019-04-05</td>\n      <td>CPM</td>\n      <td>0</td>\n      <td>722</td>\n      <td>16523</td>\n      <td>android</td>\n      <td>196.6</td>\n      <td>53199</td>\n      <td>6044</td>\n      <td>2019-04-04 23:57:45</td>\n    </tr>\n    <tr>\n      <th>2056461</th>\n      <td>16548</td>\n      <td>1554422308</td>\n      <td>view</td>\n      <td>2019-04-05</td>\n      <td>CPM</td>\n      <td>0</td>\n      <td>722</td>\n      <td>16523</td>\n      <td>ios</td>\n      <td>196.6</td>\n      <td>53199</td>\n      <td>5831</td>\n      <td>2019-04-04 23:58:28</td>\n    </tr>\n    <tr>\n      <th>2056652</th>\n      <td>16548</td>\n      <td>1554422338</td>\n      <td>view</td>\n      <td>2019-04-05</td>\n      <td>CPM</td>\n      <td>0</td>\n      <td>722</td>\n      <td>16523</td>\n      <td>android</td>\n      <td>196.6</td>\n      <td>53199</td>\n      <td>2837</td>\n      <td>2019-04-04 23:58:58</td>\n    </tr>\n    <tr>\n      <th>2056681</th>\n      <td>16548</td>\n      <td>1554422371</td>\n      <td>view</td>\n      <td>2019-04-05</td>\n      <td>CPM</td>\n      <td>0</td>\n      <td>722</td>\n      <td>16523</td>\n      <td>ios</td>\n      <td>196.6</td>\n      <td>53199</td>\n      <td>6051</td>\n      <td>2019-04-04 23:59:31</td>\n    </tr>\n  </tbody>\n</table>\n<p>2235 rows × 13 columns</p>\n</div>"
     },
     "execution_count": 40,
     "metadata": {},
     "output_type": "execute_result"
    }
   ],
   "source": [
    "ads_data[ads_data.ad_id == 16548].sort_values('time')"
   ]
  },
  {
   "cell_type": "code",
   "execution_count": 41,
   "outputs": [
    {
     "data": {
      "text/plain": "[16548, 30939, 40464, 42007, 44543, 45436, 119450]"
     },
     "execution_count": 41,
     "metadata": {},
     "output_type": "execute_result"
    }
   ],
   "source": [
    "bug_ads.ad_id.to_list()"
   ],
   "metadata": {
    "collapsed": false,
    "pycharm": {
     "name": "#%%\n"
    }
   }
  },
  {
   "cell_type": "markdown",
   "source": [
    "Вывод: [16548, 30939, 40464, 42007, 44543, 45436, 119450] - список объявлений, где клик был до показа."
   ],
   "metadata": {
    "collapsed": false,
    "pycharm": {
     "name": "#%% md\n"
    }
   }
  },
  {
   "cell_type": "markdown",
   "source": [
    "### 11) Имеются следующие данные о транзакциях в период с 01.12.2010 по 12.09.2011:\n",
    "\n",
    "            InvoiceNo – номер транзакции\n",
    "            StockCode – код товара\n",
    "            Description – описание товара\n",
    "            Quantity – количество единиц товара, добавленных в заказ\n",
    "            InvoiceDate – дата транзакции\n",
    "            UnitPrice – цена за единицу товара\n",
    "            CustomerID – id клиента\n",
    "            Country – страна, где проживает клиент\n",
    "\n",
    "Импортируйте данные data.csv.zip (в папке) с кодировкой ISO-8859-1. Запишите полученный датафрейм в retail, а названия колонок сохраните в переменную retail_columns."
   ],
   "metadata": {
    "collapsed": false,
    "pycharm": {
     "name": "#%% md\n"
    }
   }
  },
  {
   "cell_type": "code",
   "execution_count": 34,
   "outputs": [
    {
     "data": {
      "text/plain": "  InvoiceNo StockCode                          Description  Quantity  \\\n0    536365    85123A   WHITE HANGING HEART T-LIGHT HOLDER         6   \n1    536365     71053                  WHITE METAL LANTERN         6   \n2    536365    84406B       CREAM CUPID HEARTS COAT HANGER         8   \n3    536365    84029G  KNITTED UNION FLAG HOT WATER BOTTLE         6   \n4    536365    84029E       RED WOOLLY HOTTIE WHITE HEART.         6   \n\n      InvoiceDate  UnitPrice  CustomerID         Country  \n0  12/1/2010 8:26       2.55     17850.0  United Kingdom  \n1  12/1/2010 8:26       3.39     17850.0  United Kingdom  \n2  12/1/2010 8:26       2.75     17850.0  United Kingdom  \n3  12/1/2010 8:26       3.39     17850.0  United Kingdom  \n4  12/1/2010 8:26       3.39     17850.0  United Kingdom  ",
      "text/html": "<div>\n<style scoped>\n    .dataframe tbody tr th:only-of-type {\n        vertical-align: middle;\n    }\n\n    .dataframe tbody tr th {\n        vertical-align: top;\n    }\n\n    .dataframe thead th {\n        text-align: right;\n    }\n</style>\n<table border=\"1\" class=\"dataframe\">\n  <thead>\n    <tr style=\"text-align: right;\">\n      <th></th>\n      <th>InvoiceNo</th>\n      <th>StockCode</th>\n      <th>Description</th>\n      <th>Quantity</th>\n      <th>InvoiceDate</th>\n      <th>UnitPrice</th>\n      <th>CustomerID</th>\n      <th>Country</th>\n    </tr>\n  </thead>\n  <tbody>\n    <tr>\n      <th>0</th>\n      <td>536365</td>\n      <td>85123A</td>\n      <td>WHITE HANGING HEART T-LIGHT HOLDER</td>\n      <td>6</td>\n      <td>12/1/2010 8:26</td>\n      <td>2.55</td>\n      <td>17850.0</td>\n      <td>United Kingdom</td>\n    </tr>\n    <tr>\n      <th>1</th>\n      <td>536365</td>\n      <td>71053</td>\n      <td>WHITE METAL LANTERN</td>\n      <td>6</td>\n      <td>12/1/2010 8:26</td>\n      <td>3.39</td>\n      <td>17850.0</td>\n      <td>United Kingdom</td>\n    </tr>\n    <tr>\n      <th>2</th>\n      <td>536365</td>\n      <td>84406B</td>\n      <td>CREAM CUPID HEARTS COAT HANGER</td>\n      <td>8</td>\n      <td>12/1/2010 8:26</td>\n      <td>2.75</td>\n      <td>17850.0</td>\n      <td>United Kingdom</td>\n    </tr>\n    <tr>\n      <th>3</th>\n      <td>536365</td>\n      <td>84029G</td>\n      <td>KNITTED UNION FLAG HOT WATER BOTTLE</td>\n      <td>6</td>\n      <td>12/1/2010 8:26</td>\n      <td>3.39</td>\n      <td>17850.0</td>\n      <td>United Kingdom</td>\n    </tr>\n    <tr>\n      <th>4</th>\n      <td>536365</td>\n      <td>84029E</td>\n      <td>RED WOOLLY HOTTIE WHITE HEART.</td>\n      <td>6</td>\n      <td>12/1/2010 8:26</td>\n      <td>3.39</td>\n      <td>17850.0</td>\n      <td>United Kingdom</td>\n    </tr>\n  </tbody>\n</table>\n</div>"
     },
     "execution_count": 34,
     "metadata": {},
     "output_type": "execute_result"
    }
   ],
   "source": [
    "retail = pd.read_csv('https://stepik.org/media/attachments/lesson/361623/data.csv.zip', encoding='ISO-8859-1')\n",
    "retail.head()"
   ],
   "metadata": {
    "collapsed": false,
    "pycharm": {
     "name": "#%%\n"
    }
   }
  },
  {
   "cell_type": "markdown",
   "source": [
    "### 12) Проверьте, встречаются ли в данных повторяющиеся наблюдения, и в качестве ответа укажите их количество.\n",
    "Если они есть, то удалите их из retail.\n"
   ],
   "metadata": {
    "collapsed": false,
    "pycharm": {
     "name": "#%% md\n"
    }
   }
  },
  {
   "cell_type": "code",
   "execution_count": 35,
   "outputs": [],
   "source": [
    "nrows_original = retail.shape[0]"
   ],
   "metadata": {
    "collapsed": false,
    "pycharm": {
     "name": "#%%\n"
    }
   }
  },
  {
   "cell_type": "code",
   "execution_count": 36,
   "outputs": [
    {
     "data": {
      "text/plain": "False"
     },
     "execution_count": 36,
     "metadata": {},
     "output_type": "execute_result"
    }
   ],
   "source": [
    "retail.duplicated().all()"
   ],
   "metadata": {
    "collapsed": false,
    "pycharm": {
     "name": "#%%\n"
    }
   }
  },
  {
   "cell_type": "code",
   "execution_count": 37,
   "outputs": [],
   "source": [
    "retail.drop_duplicates(inplace=True)"
   ],
   "metadata": {
    "collapsed": false,
    "pycharm": {
     "name": "#%%\n"
    }
   }
  },
  {
   "cell_type": "code",
   "execution_count": 38,
   "outputs": [
    {
     "name": "stdout",
     "output_type": "stream",
     "text": [
      "Было удалено 5268 дубликатов.\n"
     ]
    }
   ],
   "source": [
    "print(f'Было удалено {nrows_original-retail.shape[0]} дубликатов.')"
   ],
   "metadata": {
    "collapsed": false,
    "pycharm": {
     "name": "#%%\n"
    }
   }
  },
  {
   "cell_type": "markdown",
   "source": [
    "### 13) Данные содержат в себе записи как и об успешных транзакциях, так и об отмененных.\n",
    "\n",
    "            Если пользователь отменил заказ, в начале номера транзакции (InvoiceNo) ставится C (canceled).\n",
    "\n",
    "   Сколько всего заказов отменили пользователи?"
   ],
   "metadata": {
    "collapsed": false,
    "pycharm": {
     "name": "#%% md\n"
    }
   }
  },
  {
   "cell_type": "code",
   "execution_count": 39,
   "outputs": [],
   "source": [
    "num_retail_no_cancel = retail.InvoiceNo.str.startswith('C').sum()"
   ],
   "metadata": {
    "collapsed": false,
    "pycharm": {
     "name": "#%%\n"
    }
   }
  },
  {
   "cell_type": "code",
   "execution_count": 40,
   "outputs": [
    {
     "data": {
      "text/plain": "'Отменили 9251 заказов.'"
     },
     "execution_count": 40,
     "metadata": {},
     "output_type": "execute_result"
    }
   ],
   "source": [
    "f\"Отменили {num_retail_no_cancel} заказов.\""
   ],
   "metadata": {
    "collapsed": false,
    "pycharm": {
     "name": "#%%\n"
    }
   }
  },
  {
   "cell_type": "markdown",
   "source": [
    "### 14) Теперь отфильтруйте данные и оставьте в retail только те заказы, где Quantity > 0."
   ],
   "metadata": {
    "collapsed": false,
    "pycharm": {
     "name": "#%% md\n"
    }
   }
  },
  {
   "cell_type": "code",
   "execution_count": 42,
   "outputs": [
    {
     "data": {
      "text/plain": "       InvoiceNo StockCode                          Description  Quantity  \\\n0         536365    85123A   WHITE HANGING HEART T-LIGHT HOLDER         6   \n1         536365     71053                  WHITE METAL LANTERN         6   \n2         536365    84406B       CREAM CUPID HEARTS COAT HANGER         8   \n3         536365    84029G  KNITTED UNION FLAG HOT WATER BOTTLE         6   \n4         536365    84029E       RED WOOLLY HOTTIE WHITE HEART.         6   \n...          ...       ...                                  ...       ...   \n541904    581587     22613          PACK OF 20 SPACEBOY NAPKINS        12   \n541905    581587     22899         CHILDREN'S APRON DOLLY GIRL          6   \n541906    581587     23254        CHILDRENS CUTLERY DOLLY GIRL          4   \n541907    581587     23255      CHILDRENS CUTLERY CIRCUS PARADE         4   \n541908    581587     22138        BAKING SET 9 PIECE RETROSPOT          3   \n\n            InvoiceDate  UnitPrice  CustomerID         Country  \n0        12/1/2010 8:26       2.55     17850.0  United Kingdom  \n1        12/1/2010 8:26       3.39     17850.0  United Kingdom  \n2        12/1/2010 8:26       2.75     17850.0  United Kingdom  \n3        12/1/2010 8:26       3.39     17850.0  United Kingdom  \n4        12/1/2010 8:26       3.39     17850.0  United Kingdom  \n...                 ...        ...         ...             ...  \n541904  12/9/2011 12:50       0.85     12680.0          France  \n541905  12/9/2011 12:50       2.10     12680.0          France  \n541906  12/9/2011 12:50       4.15     12680.0          France  \n541907  12/9/2011 12:50       4.15     12680.0          France  \n541908  12/9/2011 12:50       4.95     12680.0          France  \n\n[526054 rows x 8 columns]",
      "text/html": "<div>\n<style scoped>\n    .dataframe tbody tr th:only-of-type {\n        vertical-align: middle;\n    }\n\n    .dataframe tbody tr th {\n        vertical-align: top;\n    }\n\n    .dataframe thead th {\n        text-align: right;\n    }\n</style>\n<table border=\"1\" class=\"dataframe\">\n  <thead>\n    <tr style=\"text-align: right;\">\n      <th></th>\n      <th>InvoiceNo</th>\n      <th>StockCode</th>\n      <th>Description</th>\n      <th>Quantity</th>\n      <th>InvoiceDate</th>\n      <th>UnitPrice</th>\n      <th>CustomerID</th>\n      <th>Country</th>\n    </tr>\n  </thead>\n  <tbody>\n    <tr>\n      <th>0</th>\n      <td>536365</td>\n      <td>85123A</td>\n      <td>WHITE HANGING HEART T-LIGHT HOLDER</td>\n      <td>6</td>\n      <td>12/1/2010 8:26</td>\n      <td>2.55</td>\n      <td>17850.0</td>\n      <td>United Kingdom</td>\n    </tr>\n    <tr>\n      <th>1</th>\n      <td>536365</td>\n      <td>71053</td>\n      <td>WHITE METAL LANTERN</td>\n      <td>6</td>\n      <td>12/1/2010 8:26</td>\n      <td>3.39</td>\n      <td>17850.0</td>\n      <td>United Kingdom</td>\n    </tr>\n    <tr>\n      <th>2</th>\n      <td>536365</td>\n      <td>84406B</td>\n      <td>CREAM CUPID HEARTS COAT HANGER</td>\n      <td>8</td>\n      <td>12/1/2010 8:26</td>\n      <td>2.75</td>\n      <td>17850.0</td>\n      <td>United Kingdom</td>\n    </tr>\n    <tr>\n      <th>3</th>\n      <td>536365</td>\n      <td>84029G</td>\n      <td>KNITTED UNION FLAG HOT WATER BOTTLE</td>\n      <td>6</td>\n      <td>12/1/2010 8:26</td>\n      <td>3.39</td>\n      <td>17850.0</td>\n      <td>United Kingdom</td>\n    </tr>\n    <tr>\n      <th>4</th>\n      <td>536365</td>\n      <td>84029E</td>\n      <td>RED WOOLLY HOTTIE WHITE HEART.</td>\n      <td>6</td>\n      <td>12/1/2010 8:26</td>\n      <td>3.39</td>\n      <td>17850.0</td>\n      <td>United Kingdom</td>\n    </tr>\n    <tr>\n      <th>...</th>\n      <td>...</td>\n      <td>...</td>\n      <td>...</td>\n      <td>...</td>\n      <td>...</td>\n      <td>...</td>\n      <td>...</td>\n      <td>...</td>\n    </tr>\n    <tr>\n      <th>541904</th>\n      <td>581587</td>\n      <td>22613</td>\n      <td>PACK OF 20 SPACEBOY NAPKINS</td>\n      <td>12</td>\n      <td>12/9/2011 12:50</td>\n      <td>0.85</td>\n      <td>12680.0</td>\n      <td>France</td>\n    </tr>\n    <tr>\n      <th>541905</th>\n      <td>581587</td>\n      <td>22899</td>\n      <td>CHILDREN'S APRON DOLLY GIRL</td>\n      <td>6</td>\n      <td>12/9/2011 12:50</td>\n      <td>2.10</td>\n      <td>12680.0</td>\n      <td>France</td>\n    </tr>\n    <tr>\n      <th>541906</th>\n      <td>581587</td>\n      <td>23254</td>\n      <td>CHILDRENS CUTLERY DOLLY GIRL</td>\n      <td>4</td>\n      <td>12/9/2011 12:50</td>\n      <td>4.15</td>\n      <td>12680.0</td>\n      <td>France</td>\n    </tr>\n    <tr>\n      <th>541907</th>\n      <td>581587</td>\n      <td>23255</td>\n      <td>CHILDRENS CUTLERY CIRCUS PARADE</td>\n      <td>4</td>\n      <td>12/9/2011 12:50</td>\n      <td>4.15</td>\n      <td>12680.0</td>\n      <td>France</td>\n    </tr>\n    <tr>\n      <th>541908</th>\n      <td>581587</td>\n      <td>22138</td>\n      <td>BAKING SET 9 PIECE RETROSPOT</td>\n      <td>3</td>\n      <td>12/9/2011 12:50</td>\n      <td>4.95</td>\n      <td>12680.0</td>\n      <td>France</td>\n    </tr>\n  </tbody>\n</table>\n<p>526054 rows × 8 columns</p>\n</div>"
     },
     "execution_count": 42,
     "metadata": {},
     "output_type": "execute_result"
    }
   ],
   "source": [
    "retail_no_cancel_and_positive_quantity = retail.query('Quantity>0 and not InvoiceNo.str.startswith(\"C\")')\n",
    "retail_no_cancel_and_positive_quantity"
   ],
   "metadata": {
    "collapsed": false,
    "pycharm": {
     "name": "#%%\n"
    }
   }
  },
  {
   "cell_type": "markdown",
   "source": [
    "### 15) Посчитайте число заказов для каждого пользователя (CustomerID) из Германии (Germany).\n",
    "Оставьте только тех, кто совершил более N транзакций (InvoiceNo), где N – 80% процентиль.\n",
    "Запишите полученные id пользователей в germany_top (не весь датафрейм, только id).\n",
    "\n",
    "        Идентификатор заказа – InvoiceNo. Для каждого заказа в данных может встречаться более 1 строки."
   ],
   "metadata": {
    "collapsed": false,
    "pycharm": {
     "name": "#%% md\n"
    }
   }
  },
  {
   "cell_type": "code",
   "execution_count": 48,
   "outputs": [
    {
     "data": {
      "text/plain": "   CustomerID  orders_num\n0     12426.0           1\n1     12427.0           3\n2     12468.0           2",
      "text/html": "<div>\n<style scoped>\n    .dataframe tbody tr th:only-of-type {\n        vertical-align: middle;\n    }\n\n    .dataframe tbody tr th {\n        vertical-align: top;\n    }\n\n    .dataframe thead th {\n        text-align: right;\n    }\n</style>\n<table border=\"1\" class=\"dataframe\">\n  <thead>\n    <tr style=\"text-align: right;\">\n      <th></th>\n      <th>CustomerID</th>\n      <th>orders_num</th>\n    </tr>\n  </thead>\n  <tbody>\n    <tr>\n      <th>0</th>\n      <td>12426.0</td>\n      <td>1</td>\n    </tr>\n    <tr>\n      <th>1</th>\n      <td>12427.0</td>\n      <td>3</td>\n    </tr>\n    <tr>\n      <th>2</th>\n      <td>12468.0</td>\n      <td>2</td>\n    </tr>\n  </tbody>\n</table>\n</div>"
     },
     "execution_count": 48,
     "metadata": {},
     "output_type": "execute_result"
    }
   ],
   "source": [
    "germany_top_df = retail_no_cancel_and_positive_quantity\\\n",
    "                                                    .query('Country == \"Germany\"')\\\n",
    "                                                    .groupby('CustomerID',as_index=False)\\\n",
    "                                                    .agg({'InvoiceNo': pd.Series.nunique})\\\n",
    "                                                    .rename(columns={'InvoiceNo':'orders_num'})\n",
    "germany_top_df.head(3)"
   ],
   "metadata": {
    "collapsed": false,
    "pycharm": {
     "name": "#%%\n"
    }
   }
  },
  {
   "cell_type": "code",
   "execution_count": 49,
   "outputs": [
    {
     "data": {
      "text/plain": "3"
     },
     "execution_count": 49,
     "metadata": {},
     "output_type": "execute_result"
    }
   ],
   "source": [
    "germany_top_df.orders_num.sort_values().iloc[germany_top_df.shape[0]//2]"
   ],
   "metadata": {
    "collapsed": false,
    "pycharm": {
     "name": "#%%\n"
    }
   }
  },
  {
   "cell_type": "code",
   "execution_count": 50,
   "outputs": [
    {
     "data": {
      "text/plain": "7.0"
     },
     "execution_count": 50,
     "metadata": {},
     "output_type": "execute_result"
    }
   ],
   "source": [
    "german_top_percentile_80 = germany_top_df.orders_num.quantile(q=0.8)\n",
    "german_top_percentile_80"
   ],
   "metadata": {
    "collapsed": false,
    "pycharm": {
     "name": "#%%\n"
    }
   }
  },
  {
   "cell_type": "code",
   "execution_count": 51,
   "outputs": [
    {
     "name": "stdout",
     "output_type": "stream",
     "text": [
      "[12471.0, 12474.0, 12476.0, 12481.0, 12500.0, 12524.0, 12569.0, 12600.0, 12619.0, 12621.0, 12626.0, 12647.0, 12662.0, 12705.0, 12708.0, 12709.0, 12712.0, 12720.0]\n"
     ]
    }
   ],
   "source": [
    "germany_top = germany_top_df.query('orders_num > @german_top_percentile_80').CustomerID.tolist()\n",
    "print(germany_top)"
   ],
   "metadata": {
    "collapsed": false,
    "pycharm": {
     "name": "#%%\n"
    }
   }
  },
  {
   "cell_type": "markdown",
   "source": [
    "### 16) Используя объект с id пользователей (germany_top), полученный на предыдущем шаге, отфильтруйте наблюдения и оставьте в данных записи только по интересующим нас юзерам.\n",
    "Результирующий датафрейм запишите в top_retail_germany."
   ],
   "metadata": {
    "collapsed": false,
    "pycharm": {
     "name": "#%% md\n"
    }
   }
  },
  {
   "cell_type": "code",
   "execution_count": 54,
   "outputs": [
    {
     "data": {
      "text/plain": "     InvoiceNo StockCode                          Description  Quantity  \\\n1109    536527     22809              SET OF 6 T-LIGHTS SANTA         6   \n1110    536527     84347  ROTATING SILVER ANGELS T-LIGHT HLDR         6   \n1111    536527     84945   MULTI COLOUR SILVER T-LIGHT HOLDER        12   \n1112    536527     22242        5 HOOK HANGER MAGIC TOADSTOOL        12   \n1113    536527     22244           3 HOOK HANGER MAGIC GARDEN        12   \n\n          InvoiceDate  UnitPrice  CustomerID  Country  \n1109  12/1/2010 13:04       2.95     12662.0  Germany  \n1110  12/1/2010 13:04       2.55     12662.0  Germany  \n1111  12/1/2010 13:04       0.85     12662.0  Germany  \n1112  12/1/2010 13:04       1.65     12662.0  Germany  \n1113  12/1/2010 13:04       1.95     12662.0  Germany  ",
      "text/html": "<div>\n<style scoped>\n    .dataframe tbody tr th:only-of-type {\n        vertical-align: middle;\n    }\n\n    .dataframe tbody tr th {\n        vertical-align: top;\n    }\n\n    .dataframe thead th {\n        text-align: right;\n    }\n</style>\n<table border=\"1\" class=\"dataframe\">\n  <thead>\n    <tr style=\"text-align: right;\">\n      <th></th>\n      <th>InvoiceNo</th>\n      <th>StockCode</th>\n      <th>Description</th>\n      <th>Quantity</th>\n      <th>InvoiceDate</th>\n      <th>UnitPrice</th>\n      <th>CustomerID</th>\n      <th>Country</th>\n    </tr>\n  </thead>\n  <tbody>\n    <tr>\n      <th>1109</th>\n      <td>536527</td>\n      <td>22809</td>\n      <td>SET OF 6 T-LIGHTS SANTA</td>\n      <td>6</td>\n      <td>12/1/2010 13:04</td>\n      <td>2.95</td>\n      <td>12662.0</td>\n      <td>Germany</td>\n    </tr>\n    <tr>\n      <th>1110</th>\n      <td>536527</td>\n      <td>84347</td>\n      <td>ROTATING SILVER ANGELS T-LIGHT HLDR</td>\n      <td>6</td>\n      <td>12/1/2010 13:04</td>\n      <td>2.55</td>\n      <td>12662.0</td>\n      <td>Germany</td>\n    </tr>\n    <tr>\n      <th>1111</th>\n      <td>536527</td>\n      <td>84945</td>\n      <td>MULTI COLOUR SILVER T-LIGHT HOLDER</td>\n      <td>12</td>\n      <td>12/1/2010 13:04</td>\n      <td>0.85</td>\n      <td>12662.0</td>\n      <td>Germany</td>\n    </tr>\n    <tr>\n      <th>1112</th>\n      <td>536527</td>\n      <td>22242</td>\n      <td>5 HOOK HANGER MAGIC TOADSTOOL</td>\n      <td>12</td>\n      <td>12/1/2010 13:04</td>\n      <td>1.65</td>\n      <td>12662.0</td>\n      <td>Germany</td>\n    </tr>\n    <tr>\n      <th>1113</th>\n      <td>536527</td>\n      <td>22244</td>\n      <td>3 HOOK HANGER MAGIC GARDEN</td>\n      <td>12</td>\n      <td>12/1/2010 13:04</td>\n      <td>1.95</td>\n      <td>12662.0</td>\n      <td>Germany</td>\n    </tr>\n  </tbody>\n</table>\n</div>"
     },
     "execution_count": 54,
     "metadata": {},
     "output_type": "execute_result"
    }
   ],
   "source": [
    "top_retail_germany = retail_no_cancel_and_positive_quantity.query('CustomerID in @germany_top')\n",
    "top_retail_germany.head()"
   ],
   "metadata": {
    "collapsed": false,
    "pycharm": {
     "name": "#%%\n"
    }
   }
  },
  {
   "cell_type": "markdown",
   "source": [
    "### 17) Сгруппируйте top_retail_germany по коду товара (StockCode).\n",
    "Какой из продуктов добавляли в корзину чаще всего, кроме POST?\n",
    "\n",
    "            Note: одним заказом считается единовременная покупка любого количества товара, т.е. без учета Quantity.\n"
   ],
   "metadata": {
    "collapsed": false,
    "pycharm": {
     "name": "#%% md\n"
    }
   }
  },
  {
   "cell_type": "code",
   "execution_count": 67,
   "outputs": [
    {
     "data": {
      "text/plain": "'22326'"
     },
     "execution_count": 67,
     "metadata": {},
     "output_type": "execute_result"
    }
   ],
   "source": [
    "top_retail_germany.StockCode.value_counts().index[1]\n",
    "# (top_retail_germany\n",
    "#                     .groupby('StockCode')\n",
    "#                     .agg({'Quantity': 'count'})\n",
    "#                     .sort_values(by='Quantity', ascending=False)\n",
    "#                     .index[1]\n",
    "# )"
   ],
   "metadata": {
    "collapsed": false,
    "pycharm": {
     "name": "#%%\n"
    }
   }
  },
  {
   "cell_type": "markdown",
   "source": [
    "### 18) Вернемся к анализу полного датасета retail_no_cancel_and_positive_quantity.\n",
    "Создайте колонку Revenue с суммой покупки, используя колонки Quantity и UnitPrice."
   ],
   "metadata": {
    "collapsed": false,
    "pycharm": {
     "name": "#%% md\n"
    }
   }
  },
  {
   "cell_type": "code",
   "execution_count": 73,
   "outputs": [],
   "source": [
    "#retail_no_cancel_and_positive_quantity['Revenue'] = retail_no_cancel_and_positive_quantity.Quantity * retail_no_cancel_and_positive_quantity.UnitPrice\n",
    "retail_no_cancel_and_positive_quantity = retail_no_cancel_and_positive_quantity.assign(\n",
    "    Revenue = retail_no_cancel_and_positive_quantity.Quantity * retail_no_cancel_and_positive_quantity.UnitPrice\n",
    ")"
   ],
   "metadata": {
    "collapsed": false,
    "pycharm": {
     "name": "#%%\n"
    }
   }
  },
  {
   "cell_type": "markdown",
   "source": [
    "### 19) Для каждой транзакции (InvoiceNo), посчитайте финальную сумму заказа.\n",
    "В качестве ответа укажите топ-5 (InvoiceNo) по сумме заказа (через запятую с пробелом и в порядке убывания TotalRevenue)\n",
    "\n",
    "   Например, для следующего примера...\n",
    "\n",
    "            InvoiceNo StockCode Quantity InvoiceDate          UnitPrice  CustomerID  Revenue\n",
    "            536365    85123A    6        2010-12-01 08:26:00  2.55       17850.0     15.30\n",
    "            536365    71053     6        2010-12-01 08:26:00  3.39       17850.0     20.34\n",
    "            555555    71053     1        2010-12-02 18:00:00  3.39       17850.0     3.39\n",
    "   ...сумма заказа будет равна:\n",
    "\n",
    "            InvoiceNo  TotalRevenue\n",
    "            536365     35.64\n",
    "            555555     3.39"
   ],
   "metadata": {
    "collapsed": false,
    "pycharm": {
     "name": "#%% md\n"
    }
   }
  },
  {
   "cell_type": "code",
   "execution_count": 85,
   "outputs": [
    {
     "data": {
      "text/plain": "      InvoiceNo  TotalRevenue\n20689    581483     168469.60\n2202     541431      77183.60\n17582    574941      52940.94\n18251    576365      50653.91\n9034     556444      38970.00\n...         ...           ...\n10074    558724          0.00\n10075    558725          0.00\n10150    558889          0.00\n20726   A563186     -11062.06\n20727   A563187     -11062.06\n\n[20728 rows x 2 columns]",
      "text/html": "<div>\n<style scoped>\n    .dataframe tbody tr th:only-of-type {\n        vertical-align: middle;\n    }\n\n    .dataframe tbody tr th {\n        vertical-align: top;\n    }\n\n    .dataframe thead th {\n        text-align: right;\n    }\n</style>\n<table border=\"1\" class=\"dataframe\">\n  <thead>\n    <tr style=\"text-align: right;\">\n      <th></th>\n      <th>InvoiceNo</th>\n      <th>TotalRevenue</th>\n    </tr>\n  </thead>\n  <tbody>\n    <tr>\n      <th>20689</th>\n      <td>581483</td>\n      <td>168469.60</td>\n    </tr>\n    <tr>\n      <th>2202</th>\n      <td>541431</td>\n      <td>77183.60</td>\n    </tr>\n    <tr>\n      <th>17582</th>\n      <td>574941</td>\n      <td>52940.94</td>\n    </tr>\n    <tr>\n      <th>18251</th>\n      <td>576365</td>\n      <td>50653.91</td>\n    </tr>\n    <tr>\n      <th>9034</th>\n      <td>556444</td>\n      <td>38970.00</td>\n    </tr>\n    <tr>\n      <th>...</th>\n      <td>...</td>\n      <td>...</td>\n    </tr>\n    <tr>\n      <th>10074</th>\n      <td>558724</td>\n      <td>0.00</td>\n    </tr>\n    <tr>\n      <th>10075</th>\n      <td>558725</td>\n      <td>0.00</td>\n    </tr>\n    <tr>\n      <th>10150</th>\n      <td>558889</td>\n      <td>0.00</td>\n    </tr>\n    <tr>\n      <th>20726</th>\n      <td>A563186</td>\n      <td>-11062.06</td>\n    </tr>\n    <tr>\n      <th>20727</th>\n      <td>A563187</td>\n      <td>-11062.06</td>\n    </tr>\n  </tbody>\n</table>\n<p>20728 rows × 2 columns</p>\n</div>"
     },
     "execution_count": 85,
     "metadata": {},
     "output_type": "execute_result"
    }
   ],
   "source": [
    "top_5 = retail_no_cancel_and_positive_quantity.groupby('InvoiceNo', as_index=False).agg({'Revenue': 'sum'}).rename(columns={'Revenue': 'TotalRevenue'}).sort_values(by='TotalRevenue', ascending=False)\n",
    "top_5"
   ],
   "metadata": {
    "collapsed": false,
    "pycharm": {
     "name": "#%%\n"
    }
   }
  },
  {
   "cell_type": "code",
   "execution_count": 90,
   "outputs": [
    {
     "data": {
      "text/plain": "'Список ID самых дорогостоящих покупок 581483, 541431, 574941, 576365, 556444.'"
     },
     "execution_count": 90,
     "metadata": {},
     "output_type": "execute_result"
    }
   ],
   "source": [
    "answer = top_5.InvoiceNo[:5].str.cat(sep=', ')\n",
    "f\"Список ID самых дорогостоящих покупок: {answer}.\""
   ],
   "metadata": {
    "collapsed": false,
    "pycharm": {
     "name": "#%%\n"
    }
   }
  },
  {
   "cell_type": "markdown",
   "source": [
    "---\n",
    "Баганные данные ниже"
   ],
   "metadata": {
    "collapsed": false,
    "pycharm": {
     "name": "#%% md\n"
    }
   }
  },
  {
   "cell_type": "code",
   "execution_count": 80,
   "outputs": [
    {
     "data": {
      "text/plain": "       InvoiceNo StockCode      Description  Quantity      InvoiceDate  \\\n299984   A563187         B  Adjust bad debt         1  8/12/2011 14:52   \n\n        UnitPrice  CustomerID         Country   Revenue  \n299984  -11062.06         NaN  United Kingdom -11062.06  ",
      "text/html": "<div>\n<style scoped>\n    .dataframe tbody tr th:only-of-type {\n        vertical-align: middle;\n    }\n\n    .dataframe tbody tr th {\n        vertical-align: top;\n    }\n\n    .dataframe thead th {\n        text-align: right;\n    }\n</style>\n<table border=\"1\" class=\"dataframe\">\n  <thead>\n    <tr style=\"text-align: right;\">\n      <th></th>\n      <th>InvoiceNo</th>\n      <th>StockCode</th>\n      <th>Description</th>\n      <th>Quantity</th>\n      <th>InvoiceDate</th>\n      <th>UnitPrice</th>\n      <th>CustomerID</th>\n      <th>Country</th>\n      <th>Revenue</th>\n    </tr>\n  </thead>\n  <tbody>\n    <tr>\n      <th>299984</th>\n      <td>A563187</td>\n      <td>B</td>\n      <td>Adjust bad debt</td>\n      <td>1</td>\n      <td>8/12/2011 14:52</td>\n      <td>-11062.06</td>\n      <td>NaN</td>\n      <td>United Kingdom</td>\n      <td>-11062.06</td>\n    </tr>\n  </tbody>\n</table>\n</div>"
     },
     "execution_count": 80,
     "metadata": {},
     "output_type": "execute_result"
    }
   ],
   "source": [
    "retail_no_cancel_and_positive_quantity.query('InvoiceNo == \"A563187\"')"
   ],
   "metadata": {
    "collapsed": false,
    "pycharm": {
     "name": "#%%\n"
    }
   }
  },
  {
   "cell_type": "code",
   "execution_count": 81,
   "outputs": [
    {
     "data": {
      "text/plain": "       InvoiceNo StockCode Description  Quantity      InvoiceDate  UnitPrice  \\\n242438    558343    84709B         NaN         6  6/28/2011 14:44        0.0   \n\n        CustomerID         Country  Revenue  \n242438         NaN  United Kingdom      0.0  ",
      "text/html": "<div>\n<style scoped>\n    .dataframe tbody tr th:only-of-type {\n        vertical-align: middle;\n    }\n\n    .dataframe tbody tr th {\n        vertical-align: top;\n    }\n\n    .dataframe thead th {\n        text-align: right;\n    }\n</style>\n<table border=\"1\" class=\"dataframe\">\n  <thead>\n    <tr style=\"text-align: right;\">\n      <th></th>\n      <th>InvoiceNo</th>\n      <th>StockCode</th>\n      <th>Description</th>\n      <th>Quantity</th>\n      <th>InvoiceDate</th>\n      <th>UnitPrice</th>\n      <th>CustomerID</th>\n      <th>Country</th>\n      <th>Revenue</th>\n    </tr>\n  </thead>\n  <tbody>\n    <tr>\n      <th>242438</th>\n      <td>558343</td>\n      <td>84709B</td>\n      <td>NaN</td>\n      <td>6</td>\n      <td>6/28/2011 14:44</td>\n      <td>0.0</td>\n      <td>NaN</td>\n      <td>United Kingdom</td>\n      <td>0.0</td>\n    </tr>\n  </tbody>\n</table>\n</div>"
     },
     "execution_count": 81,
     "metadata": {},
     "output_type": "execute_result"
    }
   ],
   "source": [
    "retail_no_cancel_and_positive_quantity.query('InvoiceNo == \"558343\"')"
   ],
   "metadata": {
    "collapsed": false,
    "pycharm": {
     "name": "#%%\n"
    }
   }
  }
 ],
 "metadata": {
  "kernelspec": {
   "display_name": "Python 3",
   "language": "python",
   "name": "python3"
  },
  "language_info": {
   "codemirror_mode": {
    "name": "ipython",
    "version": 3
   },
   "file_extension": ".py",
   "mimetype": "text/x-python",
   "name": "python",
   "nbconvert_exporter": "python",
   "pygments_lexer": "ipython3",
   "version": "3.7.3"
  }
 },
 "nbformat": 4,
 "nbformat_minor": 4
}