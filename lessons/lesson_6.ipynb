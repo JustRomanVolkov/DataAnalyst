{
 "cells": [
  {
   "cell_type": "code",
   "execution_count": 37,
   "metadata": {
    "pycharm": {
     "name": "#%%\n"
    }
   },
   "outputs": [],
   "source": [
    "import pandas as pd\n",
    "import numpy as np\n",
    "import requests\n",
    "\n",
    "%matplotlib inline\n",
    "import matplotlib.pyplot as plt\n",
    "import seaborn as sns\n",
    "import sys\n",
    "\n",
    "from io import BytesIO"
   ]
  },
  {
   "cell_type": "markdown",
   "source": [
    "### 1) Загрузите данные из Google Sheets, которые находятся в (table - Лист1) при помощи библиотеки requests.\n",
    "Посчитайте процент мужчин среди всех посетителей сайта, округлите ответ до целых."
   ],
   "metadata": {
    "collapsed": false,
    "pycharm": {
     "name": "#%% md\n"
    }
   }
  },
  {
   "cell_type": "code",
   "execution_count": 11,
   "outputs": [],
   "source": [
    "your_link = 'https://docs.google.com/spreadsheets/d/165QBa-1tEwBF8XDblj0KPSGL6K4P3mOQQN4AU-9iqwY/gviz/tq?tqx=out:csv'"
   ],
   "metadata": {
    "collapsed": false,
    "pycharm": {
     "name": "#%%\n"
    }
   }
  },
  {
   "cell_type": "code",
   "execution_count": 12,
   "outputs": [],
   "source": [
    "req = requests.get(your_link)\n",
    "data = req.content\n",
    "\n",
    "df = pd.read_csv(BytesIO(data))"
   ],
   "metadata": {
    "collapsed": false,
    "pycharm": {
     "name": "#%%\n"
    }
   }
  },
  {
   "cell_type": "code",
   "execution_count": 13,
   "outputs": [
    {
     "data": {
      "text/plain": "              date,gender,users\n0  2020-06-14,Not specified,150\n1           2020-06-14,male,117\n2          2020-06-14,female,21",
      "text/html": "<div>\n<style scoped>\n    .dataframe tbody tr th:only-of-type {\n        vertical-align: middle;\n    }\n\n    .dataframe tbody tr th {\n        vertical-align: top;\n    }\n\n    .dataframe thead th {\n        text-align: right;\n    }\n</style>\n<table border=\"1\" class=\"dataframe\">\n  <thead>\n    <tr style=\"text-align: right;\">\n      <th></th>\n      <th>date,gender,users</th>\n    </tr>\n  </thead>\n  <tbody>\n    <tr>\n      <th>0</th>\n      <td>2020-06-14,Not specified,150</td>\n    </tr>\n    <tr>\n      <th>1</th>\n      <td>2020-06-14,male,117</td>\n    </tr>\n    <tr>\n      <th>2</th>\n      <td>2020-06-14,female,21</td>\n    </tr>\n  </tbody>\n</table>\n</div>"
     },
     "execution_count": 13,
     "metadata": {},
     "output_type": "execute_result"
    }
   ],
   "source": [
    "df"
   ],
   "metadata": {
    "collapsed": false,
    "pycharm": {
     "name": "#%%\n"
    }
   }
  },
  {
   "cell_type": "code",
   "execution_count": 17,
   "outputs": [
    {
     "data": {
      "text/plain": "        date         gender  users\n0 2020-06-14  Not specified    150\n1 2020-06-14           male    117\n2 2020-06-14         female     21",
      "text/html": "<div>\n<style scoped>\n    .dataframe tbody tr th:only-of-type {\n        vertical-align: middle;\n    }\n\n    .dataframe tbody tr th {\n        vertical-align: top;\n    }\n\n    .dataframe thead th {\n        text-align: right;\n    }\n</style>\n<table border=\"1\" class=\"dataframe\">\n  <thead>\n    <tr style=\"text-align: right;\">\n      <th></th>\n      <th>date</th>\n      <th>gender</th>\n      <th>users</th>\n    </tr>\n  </thead>\n  <tbody>\n    <tr>\n      <th>0</th>\n      <td>2020-06-14</td>\n      <td>Not specified</td>\n      <td>150</td>\n    </tr>\n    <tr>\n      <th>1</th>\n      <td>2020-06-14</td>\n      <td>male</td>\n      <td>117</td>\n    </tr>\n    <tr>\n      <th>2</th>\n      <td>2020-06-14</td>\n      <td>female</td>\n      <td>21</td>\n    </tr>\n  </tbody>\n</table>\n</div>"
     },
     "execution_count": 17,
     "metadata": {},
     "output_type": "execute_result"
    }
   ],
   "source": [
    "# Разделяем колонку 'date,gender,users' на отдельные колонки\n",
    "df[['date', 'gender', 'users']] = df['date,gender,users'].str.split(',', expand=True)\n",
    "\n",
    "# Преобразуем колонку 'date' в тип данных datetime\n",
    "df['date'] = pd.to_datetime(df['date'])\n",
    "\n",
    "# Преобразуем колонку 'users' в числовой тип данных\n",
    "df['users'] = df['users'].astype(int)\n",
    "\n",
    "# Удаляем старую колонку, теперь когда данные в ней распределены по новым колонкам\n",
    "df = df.drop('date,gender,users', axis=1)\n",
    "df"
   ],
   "metadata": {
    "collapsed": false,
    "pycharm": {
     "name": "#%%\n"
    }
   }
  },
  {
   "cell_type": "code",
   "execution_count": 19,
   "outputs": [],
   "source": [
    "text = req.text.splitlines()"
   ],
   "metadata": {
    "collapsed": false,
    "pycharm": {
     "name": "#%%\n"
    }
   }
  },
  {
   "cell_type": "code",
   "execution_count": 20,
   "outputs": [
    {
     "data": {
      "text/plain": "['\"date,gender,users\"',\n '\"2020-06-14,Not specified,150\"',\n '\"2020-06-14,male,117\"',\n '\"2020-06-14,female,21\"']"
     },
     "execution_count": 20,
     "metadata": {},
     "output_type": "execute_result"
    }
   ],
   "source": [
    "text"
   ],
   "metadata": {
    "collapsed": false,
    "pycharm": {
     "name": "#%%\n"
    }
   }
  },
  {
   "cell_type": "code",
   "execution_count": 21,
   "outputs": [
    {
     "data": {
      "text/plain": "['\"date', 'gender', 'users\"']"
     },
     "execution_count": 21,
     "metadata": {},
     "output_type": "execute_result"
    }
   ],
   "source": [
    "header = text[0].split(',')\n",
    "header"
   ],
   "metadata": {
    "collapsed": false,
    "pycharm": {
     "name": "#%%\n"
    }
   }
  },
  {
   "cell_type": "code",
   "execution_count": 23,
   "outputs": [
    {
     "data": {
      "text/plain": "[['\"2020-06-14', 'Not specified', '150\"'],\n ['\"2020-06-14', 'male', '117\"'],\n ['\"2020-06-14', 'female', '21\"']]"
     },
     "execution_count": 23,
     "metadata": {},
     "output_type": "execute_result"
    }
   ],
   "source": [
    "content = [row.split(',') for row in text[1:]]\n",
    "content"
   ],
   "metadata": {
    "collapsed": false,
    "pycharm": {
     "name": "#%%\n"
    }
   }
  },
  {
   "cell_type": "code",
   "execution_count": 24,
   "outputs": [
    {
     "data": {
      "text/plain": "         \"date         gender users\"\n0  \"2020-06-14  Not specified   150\"\n1  \"2020-06-14           male   117\"\n2  \"2020-06-14         female    21\"",
      "text/html": "<div>\n<style scoped>\n    .dataframe tbody tr th:only-of-type {\n        vertical-align: middle;\n    }\n\n    .dataframe tbody tr th {\n        vertical-align: top;\n    }\n\n    .dataframe thead th {\n        text-align: right;\n    }\n</style>\n<table border=\"1\" class=\"dataframe\">\n  <thead>\n    <tr style=\"text-align: right;\">\n      <th></th>\n      <th>\"date</th>\n      <th>gender</th>\n      <th>users\"</th>\n    </tr>\n  </thead>\n  <tbody>\n    <tr>\n      <th>0</th>\n      <td>\"2020-06-14</td>\n      <td>Not specified</td>\n      <td>150\"</td>\n    </tr>\n    <tr>\n      <th>1</th>\n      <td>\"2020-06-14</td>\n      <td>male</td>\n      <td>117\"</td>\n    </tr>\n    <tr>\n      <th>2</th>\n      <td>\"2020-06-14</td>\n      <td>female</td>\n      <td>21\"</td>\n    </tr>\n  </tbody>\n</table>\n</div>"
     },
     "execution_count": 24,
     "metadata": {},
     "output_type": "execute_result"
    }
   ],
   "source": [
    "df2 = pd.DataFrame(content, columns=header)\n",
    "df2"
   ],
   "metadata": {
    "collapsed": false,
    "pycharm": {
     "name": "#%%\n"
    }
   }
  },
  {
   "cell_type": "code",
   "execution_count": 28,
   "outputs": [
    {
     "data": {
      "text/plain": "         date         gender users\n0  2020-06-14  Not specified   150\n1  2020-06-14           male   117\n2  2020-06-14         female    21",
      "text/html": "<div>\n<style scoped>\n    .dataframe tbody tr th:only-of-type {\n        vertical-align: middle;\n    }\n\n    .dataframe tbody tr th {\n        vertical-align: top;\n    }\n\n    .dataframe thead th {\n        text-align: right;\n    }\n</style>\n<table border=\"1\" class=\"dataframe\">\n  <thead>\n    <tr style=\"text-align: right;\">\n      <th></th>\n      <th>date</th>\n      <th>gender</th>\n      <th>users</th>\n    </tr>\n  </thead>\n  <tbody>\n    <tr>\n      <th>0</th>\n      <td>2020-06-14</td>\n      <td>Not specified</td>\n      <td>150</td>\n    </tr>\n    <tr>\n      <th>1</th>\n      <td>2020-06-14</td>\n      <td>male</td>\n      <td>117</td>\n    </tr>\n    <tr>\n      <th>2</th>\n      <td>2020-06-14</td>\n      <td>female</td>\n      <td>21</td>\n    </tr>\n  </tbody>\n</table>\n</div>"
     },
     "execution_count": 28,
     "metadata": {},
     "output_type": "execute_result"
    }
   ],
   "source": [
    "# Уберем кавычки из заголовков столбцов\n",
    "df2.columns = df2.columns.str.strip('\"')\n",
    "\n",
    "# Уберем кавычки во всех текстовых столбцах DataFrame, используя метод .map() для каждой колонки отдельно.\n",
    "for column in df2.columns:\n",
    "    # Применяем .map() только к колонкам с текстовыми данными\n",
    "    if pd.api.types.is_string_dtype(df2[column]):\n",
    "        df2[column] = df2[column].map(lambda x: x.strip('\"'))\n",
    "\n",
    "df2"
   ],
   "metadata": {
    "collapsed": false,
    "pycharm": {
     "name": "#%%\n"
    }
   }
  },
  {
   "cell_type": "code",
   "execution_count": 33,
   "outputs": [
    {
     "data": {
      "text/plain": "0    52.0\n1    41.0\n2     7.0\nName: users, dtype: float64"
     },
     "execution_count": 33,
     "metadata": {},
     "output_type": "execute_result"
    }
   ],
   "source": [
    "df.users\\\n",
    "    .div(df.users.sum())\\\n",
    "    .mul(100)\\\n",
    "    .round(0)"
   ],
   "metadata": {
    "collapsed": false,
    "pycharm": {
     "name": "#%%\n"
    }
   }
  },
  {
   "cell_type": "markdown",
   "source": [
    "### 2) При помощи функции np.where создайте серию\n",
    "в которую будет записываться 1, если посещения были сделаны роботами с браузера, содержащего Chrome в названии\n",
    "и 0, в других случаях.\n",
    "Поместите получившуюся серию в переменную chrome_robots"
   ],
   "metadata": {
    "collapsed": false,
    "pycharm": {
     "name": "#%% md\n"
    }
   }
  },
  {
   "cell_type": "code",
   "execution_count": 40,
   "outputs": [
    {
     "data": {
      "text/plain": "         date           browser user_type  users\n0  2020-06-14     Google Chrome    People    139\n1  2020-06-14     Chrome Mobile    People     35\n2  2020-06-14     Google Chrome    Robots     28\n3  2020-06-14    Yandex Browser    People     22\n4  2020-06-14           Firefox    People     15\n5  2020-06-14            Safari    People     13\n6  2020-06-14           Firefox    Robots      8\n7  2020-06-14   Android Browser    People      8\n8  2020-06-14             Opera    People      5\n9  2020-06-14     Mobile Safari    People      5\n10 2020-06-14  Samsung Internet    People      5\n11 2020-06-14            Safari    Robots      2\n12 2020-06-14             UCWEB    Robots      2\n13 2020-06-14              Edge    Robots      2\n14 2020-06-14             Opera    Robots      1\n15 2020-06-14             UCWEB    People      1\n16 2020-06-14    Firefox Mobile    People      1\n17 2020-06-14    Yandex Browser    Robots      1\n18 2020-06-14   Android Browser    Robots      1\n19 2020-06-14     Chrome Mobile    Robots      1\n20 2020-06-14          Chromium    People      1\n21 2020-06-14          Chromium    Robots      1\n22 2020-06-14              Edge    People      1\n23 2020-06-14            CocCoc    People      1",
      "text/html": "<div>\n<style scoped>\n    .dataframe tbody tr th:only-of-type {\n        vertical-align: middle;\n    }\n\n    .dataframe tbody tr th {\n        vertical-align: top;\n    }\n\n    .dataframe thead th {\n        text-align: right;\n    }\n</style>\n<table border=\"1\" class=\"dataframe\">\n  <thead>\n    <tr style=\"text-align: right;\">\n      <th></th>\n      <th>date</th>\n      <th>browser</th>\n      <th>user_type</th>\n      <th>users</th>\n    </tr>\n  </thead>\n  <tbody>\n    <tr>\n      <th>0</th>\n      <td>2020-06-14</td>\n      <td>Google Chrome</td>\n      <td>People</td>\n      <td>139</td>\n    </tr>\n    <tr>\n      <th>1</th>\n      <td>2020-06-14</td>\n      <td>Chrome Mobile</td>\n      <td>People</td>\n      <td>35</td>\n    </tr>\n    <tr>\n      <th>2</th>\n      <td>2020-06-14</td>\n      <td>Google Chrome</td>\n      <td>Robots</td>\n      <td>28</td>\n    </tr>\n    <tr>\n      <th>3</th>\n      <td>2020-06-14</td>\n      <td>Yandex Browser</td>\n      <td>People</td>\n      <td>22</td>\n    </tr>\n    <tr>\n      <th>4</th>\n      <td>2020-06-14</td>\n      <td>Firefox</td>\n      <td>People</td>\n      <td>15</td>\n    </tr>\n    <tr>\n      <th>5</th>\n      <td>2020-06-14</td>\n      <td>Safari</td>\n      <td>People</td>\n      <td>13</td>\n    </tr>\n    <tr>\n      <th>6</th>\n      <td>2020-06-14</td>\n      <td>Firefox</td>\n      <td>Robots</td>\n      <td>8</td>\n    </tr>\n    <tr>\n      <th>7</th>\n      <td>2020-06-14</td>\n      <td>Android Browser</td>\n      <td>People</td>\n      <td>8</td>\n    </tr>\n    <tr>\n      <th>8</th>\n      <td>2020-06-14</td>\n      <td>Opera</td>\n      <td>People</td>\n      <td>5</td>\n    </tr>\n    <tr>\n      <th>9</th>\n      <td>2020-06-14</td>\n      <td>Mobile Safari</td>\n      <td>People</td>\n      <td>5</td>\n    </tr>\n    <tr>\n      <th>10</th>\n      <td>2020-06-14</td>\n      <td>Samsung Internet</td>\n      <td>People</td>\n      <td>5</td>\n    </tr>\n    <tr>\n      <th>11</th>\n      <td>2020-06-14</td>\n      <td>Safari</td>\n      <td>Robots</td>\n      <td>2</td>\n    </tr>\n    <tr>\n      <th>12</th>\n      <td>2020-06-14</td>\n      <td>UCWEB</td>\n      <td>Robots</td>\n      <td>2</td>\n    </tr>\n    <tr>\n      <th>13</th>\n      <td>2020-06-14</td>\n      <td>Edge</td>\n      <td>Robots</td>\n      <td>2</td>\n    </tr>\n    <tr>\n      <th>14</th>\n      <td>2020-06-14</td>\n      <td>Opera</td>\n      <td>Robots</td>\n      <td>1</td>\n    </tr>\n    <tr>\n      <th>15</th>\n      <td>2020-06-14</td>\n      <td>UCWEB</td>\n      <td>People</td>\n      <td>1</td>\n    </tr>\n    <tr>\n      <th>16</th>\n      <td>2020-06-14</td>\n      <td>Firefox Mobile</td>\n      <td>People</td>\n      <td>1</td>\n    </tr>\n    <tr>\n      <th>17</th>\n      <td>2020-06-14</td>\n      <td>Yandex Browser</td>\n      <td>Robots</td>\n      <td>1</td>\n    </tr>\n    <tr>\n      <th>18</th>\n      <td>2020-06-14</td>\n      <td>Android Browser</td>\n      <td>Robots</td>\n      <td>1</td>\n    </tr>\n    <tr>\n      <th>19</th>\n      <td>2020-06-14</td>\n      <td>Chrome Mobile</td>\n      <td>Robots</td>\n      <td>1</td>\n    </tr>\n    <tr>\n      <th>20</th>\n      <td>2020-06-14</td>\n      <td>Chromium</td>\n      <td>People</td>\n      <td>1</td>\n    </tr>\n    <tr>\n      <th>21</th>\n      <td>2020-06-14</td>\n      <td>Chromium</td>\n      <td>Robots</td>\n      <td>1</td>\n    </tr>\n    <tr>\n      <th>22</th>\n      <td>2020-06-14</td>\n      <td>Edge</td>\n      <td>People</td>\n      <td>1</td>\n    </tr>\n    <tr>\n      <th>23</th>\n      <td>2020-06-14</td>\n      <td>CocCoc</td>\n      <td>People</td>\n      <td>1</td>\n    </tr>\n  </tbody>\n</table>\n</div>"
     },
     "execution_count": 40,
     "metadata": {},
     "output_type": "execute_result"
    }
   ],
   "source": [
    "ya_metrica = pd.read_csv('https://stepik.org/media/attachments/lesson/361619/karpov_courses_test.csv', parse_dates=['date'])\n",
    "ya_metrica"
   ],
   "metadata": {
    "collapsed": false,
    "pycharm": {
     "name": "#%%\n"
    }
   }
  },
  {
   "cell_type": "code",
   "execution_count": 41,
   "outputs": [
    {
     "data": {
      "text/plain": "0     False\n1     False\n2      True\n3     False\n4     False\n5     False\n6      True\n7     False\n8     False\n9     False\n10    False\n11     True\n12     True\n13     True\n14     True\n15    False\n16    False\n17     True\n18     True\n19     True\n20    False\n21     True\n22    False\n23    False\nName: user_type, dtype: bool"
     },
     "execution_count": 41,
     "metadata": {},
     "output_type": "execute_result"
    }
   ],
   "source": [
    "ya_metrica.user_type == \"Robots\""
   ],
   "metadata": {
    "collapsed": false,
    "pycharm": {
     "name": "#%%\n"
    }
   }
  },
  {
   "cell_type": "code",
   "execution_count": 42,
   "outputs": [
    {
     "data": {
      "text/plain": "0      True\n1      True\n2      True\n3     False\n4     False\n5     False\n6     False\n7     False\n8     False\n9     False\n10    False\n11    False\n12    False\n13    False\n14    False\n15    False\n16    False\n17    False\n18    False\n19     True\n20    False\n21    False\n22    False\n23    False\nName: browser, dtype: bool"
     },
     "execution_count": 42,
     "metadata": {},
     "output_type": "execute_result"
    }
   ],
   "source": [
    "ya_metrica.browser.str.contains('Chrome')"
   ],
   "metadata": {
    "collapsed": false,
    "pycharm": {
     "name": "#%%\n"
    }
   }
  },
  {
   "cell_type": "code",
   "execution_count": 44,
   "outputs": [
    {
     "data": {
      "text/plain": "0     0\n1     0\n2     1\n3     0\n4     0\n5     0\n6     0\n7     0\n8     0\n9     0\n10    0\n11    0\n12    0\n13    0\n14    0\n15    0\n16    0\n17    0\n18    0\n19    1\n20    0\n21    0\n22    0\n23    0\ndtype: int32"
     },
     "execution_count": 44,
     "metadata": {},
     "output_type": "execute_result"
    }
   ],
   "source": [
    "chrome_robots = np.where((ya_metrica.user_type == \"Robots\") & (ya_metrica.browser.str.contains('Chrome')), 1, 0)\n",
    "chrome_robots = pd.Series(chrome_robots)\n",
    "chrome_robots"
   ],
   "metadata": {
    "collapsed": false,
    "pycharm": {
     "name": "#%%\n"
    }
   }
  },
  {
   "cell_type": "code",
   "execution_count": 45,
   "outputs": [],
   "source": [
    "correspondence = {\n",
    "    'People': 'Humans',\n",
    "    'Robots': 'Bots'\n",
    "}"
   ],
   "metadata": {
    "collapsed": false,
    "pycharm": {
     "name": "#%%\n"
    }
   }
  },
  {
   "cell_type": "code",
   "execution_count": 46,
   "outputs": [
    {
     "data": {
      "text/plain": "0     Humans\n1     Humans\n2       Bots\n3     Humans\n4     Humans\n5     Humans\n6       Bots\n7     Humans\n8     Humans\n9     Humans\n10    Humans\n11      Bots\n12      Bots\n13      Bots\n14      Bots\n15    Humans\n16    Humans\n17      Bots\n18      Bots\n19      Bots\n20    Humans\n21      Bots\n22    Humans\n23    Humans\nName: user_type, dtype: object"
     },
     "execution_count": 46,
     "metadata": {},
     "output_type": "execute_result"
    }
   ],
   "source": [
    "ya_metrica.user_type.map(correspondence)"
   ],
   "metadata": {
    "collapsed": false,
    "pycharm": {
     "name": "#%%\n"
    }
   }
  },
  {
   "cell_type": "markdown",
   "source": [
    "3) У вас есть датасет sample_ads.csv с данными о кликах и показах по объявлению, в этом датасете есть пропуски.\n",
    "Вычислите количество строк без пропусков в колонке click_type.\n",
    "Запишите ответ в переменную not_nan_count\n",
    "\n",
    "    ad_id - id объявления\n",
    "    user_id - id пользователя\n",
    "    click_type - тип клика (клик по заголовку объявления, клик по центру)\n",
    "\n",
    "not_nan_count = df.click_type.notna().sum()"
   ],
   "metadata": {
    "collapsed": false,
    "pycharm": {
     "name": "#%% md\n"
    }
   }
  },
  {
   "cell_type": "code",
   "execution_count": null,
   "outputs": [],
   "source": [],
   "metadata": {
    "collapsed": false,
    "pycharm": {
     "name": "#%%\n"
    }
   }
  },
  {
   "cell_type": "markdown",
   "source": [
    "4) ⭐️Задание со звёздочкой!⭐️\n",
    "В списке lst находятся различные элементы. Создайте списк new_list и сделайте следующее:\n",
    "- при помощи конструкции try except и цикла попробуйте преобразовать каждое значение в листе в int\n",
    "- если это получилось - добавьте преобразованное значение  в список new_list\n",
    "for element in lst:\n",
    "\tnew_list.append(int(element))"
   ],
   "metadata": {
    "collapsed": false,
    "pycharm": {
     "name": "#%% md\n"
    }
   }
  },
  {
   "cell_type": "code",
   "execution_count": null,
   "outputs": [],
   "source": [],
   "metadata": {
    "collapsed": false,
    "pycharm": {
     "name": "#%%\n"
    }
   }
  },
  {
   "cell_type": "markdown",
   "source": [
    "5) ⭐️Задание со звёздочкой!⭐️\n",
    "А теперь попробуем воспользоваться знаниями использования Telegram API. Отправьте себе в личку любое послание, а в ответ к этому шагу напишите ник бота, от имени которого будете отправлять сообщения."
   ],
   "metadata": {
    "collapsed": false,
    "pycharm": {
     "name": "#%% md\n"
    }
   }
  },
  {
   "cell_type": "code",
   "execution_count": null,
   "outputs": [],
   "source": [],
   "metadata": {
    "collapsed": false,
    "pycharm": {
     "name": "#%%\n"
    }
   }
  }
 ],
 "metadata": {
  "kernelspec": {
   "display_name": "Python 3",
   "language": "python",
   "name": "python3"
  },
  "language_info": {
   "codemirror_mode": {
    "name": "ipython",
    "version": 3
   },
   "file_extension": ".py",
   "mimetype": "text/x-python",
   "name": "python",
   "nbconvert_exporter": "python",
   "pygments_lexer": "ipython3",
   "version": "3.7.3"
  }
 },
 "nbformat": 4,
 "nbformat_minor": 4
}