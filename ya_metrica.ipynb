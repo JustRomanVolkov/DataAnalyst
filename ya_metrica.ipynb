{
 "cells": [
  {
   "cell_type": "code",
   "execution_count": 1,
   "metadata": {
    "collapsed": true,
    "pycharm": {
     "name": "#%%\n"
    }
   },
   "outputs": [],
   "source": [
    "import pandas as pd\n",
    "import requests\n",
    "from urllib.parse import urlencode\n",
    "import json\n",
    "import matplotlib\n",
    "import seaborn as sns"
   ]
  },
  {
   "cell_type": "markdown",
   "source": [
    "### 1. Создайте датафрейм на основе тестовой Яндекс.Метрики."
   ],
   "metadata": {
    "collapsed": false,
    "pycharm": {
     "name": "#%% md\n"
    }
   }
  },
  {
   "cell_type": "code",
   "execution_count": 2,
   "outputs": [],
   "source": [
    "url = 'https://api-metrika.yandex.net/stat/v1/data?'\n",
    "visits = f\"metrics=ym:s:visits&dimensions=ym:s:date&filters=ym:s:date=='2024-01-10'&dimensions=ym:s:isRobot&id=44147844\"\n",
    "visits_url = url + visits\n",
    "response = requests.get(visits_url)"
   ],
   "metadata": {
    "collapsed": false,
    "pycharm": {
     "name": "#%%\n"
    }
   }
  },
  {
   "cell_type": "code",
   "execution_count": 3,
   "outputs": [
    {
     "data": {
      "text/plain": "<Response [200]>"
     },
     "execution_count": 3,
     "metadata": {},
     "output_type": "execute_result"
    }
   ],
   "source": [
    "response"
   ],
   "metadata": {
    "collapsed": false,
    "pycharm": {
     "name": "#%%\n"
    }
   }
  },
  {
   "cell_type": "code",
   "execution_count": 4,
   "outputs": [
    {
     "data": {
      "text/plain": "{'query': {'ids': [44147844],\n  'dimensions': ['ym:s:date', 'ym:s:isRobot'],\n  'metrics': ['ym:s:visits'],\n  'sort': ['-ym:s:visits'],\n  'date1': '2024-01-04',\n  'date2': '2024-01-10',\n  'filters': \"ym:s:date=='2024-01-10'\",\n  'limit': 100,\n  'offset': 1,\n  'group': 'Week',\n  'auto_group_size': '1',\n  'attr_name': '',\n  'quantile': '50',\n  'offline_window': '21',\n  'attribution': 'LastSign',\n  'currency': 'RUB',\n  'adfox_event_id': '0'},\n 'data': [{'dimensions': [{'name': '2024-01-10'},\n    {'name': 'People', 'id': 'no'}],\n   'metrics': [547.0]},\n  {'dimensions': [{'name': '2024-01-10'}, {'name': 'Robots', 'id': 'yes'}],\n   'metrics': [95.0]}],\n 'total_rows': 2,\n 'total_rows_rounded': False,\n 'sampled': False,\n 'contains_sensitive_data': False,\n 'sample_share': 1.0,\n 'sample_size': 4743,\n 'sample_space': 4743,\n 'data_lag': 0,\n 'totals': [642.0],\n 'min': [95.0],\n 'max': [547.0]}"
     },
     "execution_count": 4,
     "metadata": {},
     "output_type": "execute_result"
    }
   ],
   "source": [
    "json_data = response.json()\n",
    "json_data"
   ],
   "metadata": {
    "collapsed": false,
    "pycharm": {
     "name": "#%%\n"
    }
   }
  },
  {
   "cell_type": "code",
   "execution_count": 5,
   "outputs": [
    {
     "name": "stdout",
     "output_type": "stream",
     "text": [
      "{'dimensions': [{'name': '2024-01-10'}, {'name': 'People', 'id': 'no'}], 'metrics': [547.0]}\n",
      "{'dimensions': [{'name': '2024-01-10'}, {'name': 'Robots', 'id': 'yes'}], 'metrics': [95.0]}\n"
     ]
    }
   ],
   "source": [
    "df = pd.DataFrame()\n",
    "\n",
    "for record in json_data['data']:\n",
    "    print(record)\n",
    "    temp_data = record['dimensions']\n",
    "\n",
    "    temp_date = temp_data[0]['name']\n",
    "    temp_type = temp_data[1]['name']\n",
    "    temp_visits = record['metrics'][0]\n",
    "\n",
    "    temp_df = pd.DataFrame([[temp_date, temp_type, temp_visits]])\n",
    "    df = pd.concat([df, temp_df], axis=0)"
   ],
   "metadata": {
    "collapsed": false,
    "pycharm": {
     "name": "#%%\n"
    }
   }
  },
  {
   "cell_type": "code",
   "execution_count": 6,
   "outputs": [
    {
     "data": {
      "text/plain": "            0       1      2\n0  2024-01-10  People  547.0\n0  2024-01-10  Robots   95.0",
      "text/html": "<div>\n<style scoped>\n    .dataframe tbody tr th:only-of-type {\n        vertical-align: middle;\n    }\n\n    .dataframe tbody tr th {\n        vertical-align: top;\n    }\n\n    .dataframe thead th {\n        text-align: right;\n    }\n</style>\n<table border=\"1\" class=\"dataframe\">\n  <thead>\n    <tr style=\"text-align: right;\">\n      <th></th>\n      <th>0</th>\n      <th>1</th>\n      <th>2</th>\n    </tr>\n  </thead>\n  <tbody>\n    <tr>\n      <th>0</th>\n      <td>2024-01-10</td>\n      <td>People</td>\n      <td>547.0</td>\n    </tr>\n    <tr>\n      <th>0</th>\n      <td>2024-01-10</td>\n      <td>Robots</td>\n      <td>95.0</td>\n    </tr>\n  </tbody>\n</table>\n</div>"
     },
     "execution_count": 6,
     "metadata": {},
     "output_type": "execute_result"
    }
   ],
   "source": [
    "df"
   ],
   "metadata": {
    "collapsed": false,
    "pycharm": {
     "name": "#%%\n"
    }
   }
  },
  {
   "cell_type": "markdown",
   "source": [
    "Соединим всё что написали выше, чтобы собрать датафрейм за несколько дат."
   ],
   "metadata": {
    "collapsed": false,
    "pycharm": {
     "name": "#%% md\n"
    }
   }
  },
  {
   "cell_type": "code",
   "execution_count": 7,
   "outputs": [
    {
     "name": "stdout",
     "output_type": "stream",
     "text": [
      "{'dimensions': [{'name': '2024-01-08'}, {'name': 'People', 'id': 'no'}], 'metrics': [666.0]}\n",
      "{'dimensions': [{'name': '2024-01-08'}, {'name': 'Robots', 'id': 'yes'}], 'metrics': [56.0]}\n",
      "{'dimensions': [{'name': '2024-01-09'}, {'name': 'People', 'id': 'no'}], 'metrics': [720.0]}\n",
      "{'dimensions': [{'name': '2024-01-09'}, {'name': 'Robots', 'id': 'yes'}], 'metrics': [87.0]}\n",
      "{'dimensions': [{'name': '2024-01-10'}, {'name': 'People', 'id': 'no'}], 'metrics': [547.0]}\n",
      "{'dimensions': [{'name': '2024-01-10'}, {'name': 'Robots', 'id': 'yes'}], 'metrics': [95.0]}\n"
     ]
    }
   ],
   "source": [
    "df = pd.DataFrame()\n",
    "url = 'https://api-metrika.yandex.net/stat/v1/data?'\n",
    "\n",
    "dates = ['2024-01-08', '2024-01-09', '2024-01-10']\n",
    "for date in dates:\n",
    "    visits = f\"metrics=ym:s:visits&dimensions=ym:s:date&filters=ym:s:date=='{date}'&dimensions=ym:s:isRobot&id=44147844\"\n",
    "    visits_url = url + visits\n",
    "    response = requests.get(visits_url)\n",
    "\n",
    "    json_data = response.json()\n",
    "\n",
    "    for record in json_data['data']:\n",
    "        print(record)\n",
    "        temp_data = record['dimensions']\n",
    "\n",
    "        temp_date = temp_data[0]['name']\n",
    "        temp_type = temp_data[1]['name']\n",
    "        temp_visits = record['metrics'][0]\n",
    "\n",
    "        temp_df = pd.DataFrame([[temp_date, temp_type, temp_visits]])\n",
    "        df = pd.concat([df, temp_df], axis=0)"
   ],
   "metadata": {
    "collapsed": false,
    "pycharm": {
     "name": "#%%\n"
    }
   }
  },
  {
   "cell_type": "code",
   "execution_count": 8,
   "outputs": [
    {
     "data": {
      "text/plain": "            0       1      2\n0  2024-01-08  People  666.0\n0  2024-01-08  Robots   56.0\n0  2024-01-09  People  720.0\n0  2024-01-09  Robots   87.0\n0  2024-01-10  People  547.0\n0  2024-01-10  Robots   95.0",
      "text/html": "<div>\n<style scoped>\n    .dataframe tbody tr th:only-of-type {\n        vertical-align: middle;\n    }\n\n    .dataframe tbody tr th {\n        vertical-align: top;\n    }\n\n    .dataframe thead th {\n        text-align: right;\n    }\n</style>\n<table border=\"1\" class=\"dataframe\">\n  <thead>\n    <tr style=\"text-align: right;\">\n      <th></th>\n      <th>0</th>\n      <th>1</th>\n      <th>2</th>\n    </tr>\n  </thead>\n  <tbody>\n    <tr>\n      <th>0</th>\n      <td>2024-01-08</td>\n      <td>People</td>\n      <td>666.0</td>\n    </tr>\n    <tr>\n      <th>0</th>\n      <td>2024-01-08</td>\n      <td>Robots</td>\n      <td>56.0</td>\n    </tr>\n    <tr>\n      <th>0</th>\n      <td>2024-01-09</td>\n      <td>People</td>\n      <td>720.0</td>\n    </tr>\n    <tr>\n      <th>0</th>\n      <td>2024-01-09</td>\n      <td>Robots</td>\n      <td>87.0</td>\n    </tr>\n    <tr>\n      <th>0</th>\n      <td>2024-01-10</td>\n      <td>People</td>\n      <td>547.0</td>\n    </tr>\n    <tr>\n      <th>0</th>\n      <td>2024-01-10</td>\n      <td>Robots</td>\n      <td>95.0</td>\n    </tr>\n  </tbody>\n</table>\n</div>"
     },
     "execution_count": 8,
     "metadata": {},
     "output_type": "execute_result"
    }
   ],
   "source": [
    "df"
   ],
   "metadata": {
    "collapsed": false,
    "pycharm": {
     "name": "#%%\n"
    }
   }
  },
  {
   "cell_type": "code",
   "execution_count": 9,
   "outputs": [],
   "source": [
    "df.columns = ['date', 'type', 'visits']"
   ],
   "metadata": {
    "collapsed": false,
    "pycharm": {
     "name": "#%%\n"
    }
   }
  },
  {
   "cell_type": "markdown",
   "source": [
    "df"
   ],
   "metadata": {
    "collapsed": false,
    "pycharm": {
     "name": "#%% md\n"
    }
   }
  },
  {
   "cell_type": "markdown",
   "source": [
    "Альтернативный способ создания ссылки"
   ],
   "metadata": {
    "collapsed": false,
    "pycharm": {
     "name": "#%% md\n"
    }
   }
  },
  {
   "cell_type": "code",
   "execution_count": 10,
   "outputs": [
    {
     "name": "stdout",
     "output_type": "stream",
     "text": [
      "metrics=ym%3As%3Avisits&dimensions=ym%3As%3Adate&dimensions=ym%3As%3AisRobot&filters=ym%3As%3Adate%3D%3D%272024-01-08%27&id=44147844\n",
      "{'dimensions': [{'name': '2024-01-08'}, {'name': 'People', 'id': 'no'}], 'metrics': [666.0]}\n",
      "{'dimensions': [{'name': '2024-01-08'}, {'name': 'Robots', 'id': 'yes'}], 'metrics': [56.0]}\n",
      "metrics=ym%3As%3Avisits&dimensions=ym%3As%3Adate&dimensions=ym%3As%3AisRobot&filters=ym%3As%3Adate%3D%3D%272024-01-09%27&id=44147844\n",
      "{'dimensions': [{'name': '2024-01-09'}, {'name': 'People', 'id': 'no'}], 'metrics': [720.0]}\n",
      "{'dimensions': [{'name': '2024-01-09'}, {'name': 'Robots', 'id': 'yes'}], 'metrics': [87.0]}\n",
      "metrics=ym%3As%3Avisits&dimensions=ym%3As%3Adate&dimensions=ym%3As%3AisRobot&filters=ym%3As%3Adate%3D%3D%272024-01-10%27&id=44147844\n",
      "{'dimensions': [{'name': '2024-01-10'}, {'name': 'People', 'id': 'no'}], 'metrics': [547.0]}\n",
      "{'dimensions': [{'name': '2024-01-10'}, {'name': 'Robots', 'id': 'yes'}], 'metrics': [95.0]}\n"
     ]
    }
   ],
   "source": [
    "url = 'https://api-metrika.yandex.net/stat/v1/data?'\n",
    "\n",
    "dates = ['2024-01-08', '2024-01-09', '2024-01-10']\n",
    "\n",
    "\n",
    "\n",
    "df2 = pd.DataFrame()\n",
    "\n",
    "for date in dates:\n",
    "    params = {\n",
    "        'metrics': 'ym:s:visits',\n",
    "        'dimensions': ['ym:s:date', 'ym:s:isRobot'],\n",
    "        'filters': f\"ym:s:date=='{date}'\",\n",
    "        'id': 44147844\n",
    "    }\n",
    "\n",
    "    visits = urlencode(params, doseq=True)\n",
    "    print(visits)\n",
    "\n",
    "    visits_url = url + visits\n",
    "    response = requests.get(visits_url)\n",
    "\n",
    "    json_data = response.json()\n",
    "\n",
    "    for record in json_data['data']:\n",
    "        print(record)\n",
    "        temp_data = record['dimensions']\n",
    "\n",
    "        temp_date = temp_data[0]['name']\n",
    "        temp_type = temp_data[1]['name']\n",
    "        temp_visits = record['metrics'][0]\n",
    "\n",
    "        temp_df = pd.DataFrame([[temp_date, temp_type, temp_visits]])\n",
    "        df2 = pd.concat([df2, temp_df], axis=0)"
   ],
   "metadata": {
    "collapsed": false,
    "pycharm": {
     "name": "#%%\n"
    }
   }
  },
  {
   "cell_type": "code",
   "execution_count": 11,
   "outputs": [
    {
     "data": {
      "text/plain": "<Response [200]>"
     },
     "execution_count": 11,
     "metadata": {},
     "output_type": "execute_result"
    }
   ],
   "source": [
    "response"
   ],
   "metadata": {
    "collapsed": false,
    "pycharm": {
     "name": "#%%\n"
    }
   }
  },
  {
   "cell_type": "code",
   "execution_count": 12,
   "outputs": [
    {
     "data": {
      "text/plain": "            0       1      2\n0  2024-01-08  People  666.0\n0  2024-01-08  Robots   56.0\n0  2024-01-09  People  720.0\n0  2024-01-09  Robots   87.0\n0  2024-01-10  People  547.0\n0  2024-01-10  Robots   95.0",
      "text/html": "<div>\n<style scoped>\n    .dataframe tbody tr th:only-of-type {\n        vertical-align: middle;\n    }\n\n    .dataframe tbody tr th {\n        vertical-align: top;\n    }\n\n    .dataframe thead th {\n        text-align: right;\n    }\n</style>\n<table border=\"1\" class=\"dataframe\">\n  <thead>\n    <tr style=\"text-align: right;\">\n      <th></th>\n      <th>0</th>\n      <th>1</th>\n      <th>2</th>\n    </tr>\n  </thead>\n  <tbody>\n    <tr>\n      <th>0</th>\n      <td>2024-01-08</td>\n      <td>People</td>\n      <td>666.0</td>\n    </tr>\n    <tr>\n      <th>0</th>\n      <td>2024-01-08</td>\n      <td>Robots</td>\n      <td>56.0</td>\n    </tr>\n    <tr>\n      <th>0</th>\n      <td>2024-01-09</td>\n      <td>People</td>\n      <td>720.0</td>\n    </tr>\n    <tr>\n      <th>0</th>\n      <td>2024-01-09</td>\n      <td>Robots</td>\n      <td>87.0</td>\n    </tr>\n    <tr>\n      <th>0</th>\n      <td>2024-01-10</td>\n      <td>People</td>\n      <td>547.0</td>\n    </tr>\n    <tr>\n      <th>0</th>\n      <td>2024-01-10</td>\n      <td>Robots</td>\n      <td>95.0</td>\n    </tr>\n  </tbody>\n</table>\n</div>"
     },
     "execution_count": 12,
     "metadata": {},
     "output_type": "execute_result"
    }
   ],
   "source": [
    "df2"
   ],
   "metadata": {
    "collapsed": false,
    "pycharm": {
     "name": "#%%\n"
    }
   }
  },
  {
   "cell_type": "code",
   "execution_count": 13,
   "outputs": [],
   "source": [
    "df2.columns = ['date', 'type', 'visits']"
   ],
   "metadata": {
    "collapsed": false,
    "pycharm": {
     "name": "#%%\n"
    }
   }
  },
  {
   "cell_type": "code",
   "execution_count": 14,
   "outputs": [
    {
     "data": {
      "text/plain": "True"
     },
     "execution_count": 14,
     "metadata": {},
     "output_type": "execute_result"
    }
   ],
   "source": [
    "(df == df2).all().all()"
   ],
   "metadata": {
    "collapsed": false,
    "pycharm": {
     "name": "#%%\n"
    }
   }
  },
  {
   "cell_type": "code",
   "execution_count": 15,
   "outputs": [
    {
     "data": {
      "text/plain": "<Axes: xlabel='date', ylabel='visits'>"
     },
     "execution_count": 15,
     "metadata": {},
     "output_type": "execute_result"
    },
    {
     "data": {
      "text/plain": "<Figure size 1200x800 with 1 Axes>",
      "image/png": "[encoded data removed]"
     },
     "metadata": {},
     "output_type": "display_data"
    }
   ],
   "source": [
    "sns.set(style='whitegrid',\n",
    "        rc={'figure.figsize': (12,8)}\n",
    ")\n",
    "sns.barplot(data=df,\n",
    "            x='date',\n",
    "            y='visits',\n",
    "            hue='type')"
   ],
   "metadata": {
    "collapsed": false,
    "pycharm": {
     "name": "#%%\n"
    }
   }
  }
 ],
 "metadata": {
  "kernelspec": {
   "display_name": "Python 3",
   "language": "python",
   "name": "python3"
  },
  "language_info": {
   "codemirror_mode": {
    "name": "ipython",
    "version": 2
   },
   "file_extension": ".py",
   "mimetype": "text/x-python",
   "name": "python",
   "nbconvert_exporter": "python",
   "pygments_lexer": "ipython2",
   "version": "2.7.6"
  }
 },
 "nbformat": 4,
 "nbformat_minor": 0
}