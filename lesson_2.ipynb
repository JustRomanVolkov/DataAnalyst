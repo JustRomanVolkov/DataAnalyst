{
 "cells": [
  {
   "cell_type": "code",
   "execution_count": 6,
   "metadata": {
    "pycharm": {
     "name": "#%%\n"
    }
   },
   "outputs": [],
   "source": [
    "import pandas as pd\n",
    "from datetime import datetime"
   ]
  },
  {
   "cell_type": "code",
   "execution_count": 7,
   "metadata": {
    "pycharm": {
     "name": "#%%\n"
    }
   },
   "outputs": [],
   "source": [
    "def send_product_report(file_path):\n",
    "    df = pd.read_csv(file_path, \n",
    "                 encoding='windows-1251', sep=';')  \n",
    "    \n",
    "    df = df.rename(columns={'Номер': 'number', \n",
    "                   'Дата создания': 'create_date', \n",
    "                   'Дата оплаты': 'payment_date', \n",
    "                   'Title': 'tittle', \n",
    "                   'Статус': 'status',\n",
    "                   'Заработано': 'money', \n",
    "                   'Город': 'city', \n",
    "                   'Платежная система': 'payment_system'})    \n",
    "    \n",
    "    all_money = df.money.sum()\n",
    "    \n",
    "    money_title = df \\\n",
    "        .query(\"status == 'Завершен'\") \\\n",
    "        .groupby(['tittle'], as_index=False) \\\n",
    "        .aggregate({'money': 'sum', 'number': 'count'}) \\\n",
    "        .sort_values('money', ascending=False) \\\n",
    "        .rename(columns={'number': 'success_orders'})    \n",
    "    \n",
    "    today_day = datetime.today().strftime('%Y-%m-%d')\n",
    "    file_name = 'money_title_{}.csv'\n",
    "    file_name = file_name.format(today_day)    \n",
    "    \n",
    "    if int(money_title.money.sum()) == int(all_money):\n",
    "        print('OK! File {} is written.'.format(file_name))\n",
    "        money_title.to_csv(file_name, index=False)\n",
    "    else:\n",
    "        print('ERROR!')  \n",
    "        \n",
    "    return money_title"
   ]
  },
  {
   "cell_type": "code",
   "execution_count": 8,
   "metadata": {
    "pycharm": {
     "name": "#%%\n"
    }
   },
   "outputs": [],
   "source": [
    "file_path = 'https://stepik.org/media/attachments/lesson/383514/lesson_1_data.csv'"
   ]
  },
  {
   "cell_type": "code",
   "execution_count": 9,
   "metadata": {
    "pycharm": {
     "name": "#%%\n"
    }
   },
   "outputs": [
    {
     "name": "stdout",
     "output_type": "stream",
     "text": [
      "OK! File money_title_2023-12-28.csv is written.\n"
     ]
    }
   ],
   "source": [
    "df = send_product_report(file_path)"
   ]
  },
  {
   "cell_type": "code",
   "execution_count": 10,
   "metadata": {
    "pycharm": {
     "name": "#%%\n"
    }
   },
   "outputs": [],
   "source": [
    "df = pd.read_csv('https://stepik.org/media/attachments/lesson/383514/lesson_1_data.csv',\n",
    "                 encoding='windows-1251', sep=';')"
   ]
  },
  {
   "cell_type": "code",
   "execution_count": 11,
   "metadata": {
    "pycharm": {
     "name": "#%%\n"
    }
   },
   "outputs": [
    {
     "data": {
      "text/plain": "       Номер     Дата создания       Дата оплаты  \\\n287  1064720   30.12.2019 9:42  30.12.2019 12:49   \n288  1064724  30.12.2019 11:32               NaN   \n289  1064775   31.12.2019 2:17   31.12.2019 2:22   \n290  1064793  31.12.2019 16:40  01.01.2020 14:29   \n291  1064796  31.12.2019 17:29  31.12.2019 17:32   \n\n                                                 Title    Статус  Заработано  \\\n287  Подписка «ОНЛАЙН ДИЕТОЛОГ» с ежемесячным автос...  Завершен     2935.44   \n288                        Курс обучения «Консультант»   Отменен        0.00   \n289                        Курс обучения «Консультант»  Завершен     7423.92   \n290  Подписка «ОНЛАЙН ДИЕТОЛОГ» с ежемесячным автос...  Завершен     2935.44   \n291  Курс от Школы Диетологов. Повышение квалификац...  Завершен     9898.56   \n\n                  Город                 Платежная система  \n287   Самарская область                      Яндекс.Касса  \n288                 NaN                               NaN  \n289                 NaN  Сбербанк эквайринг,Бонусный счет  \n290  Республика Карелия                      Яндекс.Касса  \n291                 Уфа  Сбербанк эквайринг,Бонусный счет  ",
      "text/html": "<div>\n<style scoped>\n    .dataframe tbody tr th:only-of-type {\n        vertical-align: middle;\n    }\n\n    .dataframe tbody tr th {\n        vertical-align: top;\n    }\n\n    .dataframe thead th {\n        text-align: right;\n    }\n</style>\n<table border=\"1\" class=\"dataframe\">\n  <thead>\n    <tr style=\"text-align: right;\">\n      <th></th>\n      <th>Номер</th>\n      <th>Дата создания</th>\n      <th>Дата оплаты</th>\n      <th>Title</th>\n      <th>Статус</th>\n      <th>Заработано</th>\n      <th>Город</th>\n      <th>Платежная система</th>\n    </tr>\n  </thead>\n  <tbody>\n    <tr>\n      <th>287</th>\n      <td>1064720</td>\n      <td>30.12.2019 9:42</td>\n      <td>30.12.2019 12:49</td>\n      <td>Подписка «ОНЛАЙН ДИЕТОЛОГ» с ежемесячным автос...</td>\n      <td>Завершен</td>\n      <td>2935.44</td>\n      <td>Самарская область</td>\n      <td>Яндекс.Касса</td>\n    </tr>\n    <tr>\n      <th>288</th>\n      <td>1064724</td>\n      <td>30.12.2019 11:32</td>\n      <td>NaN</td>\n      <td>Курс обучения «Консультант»</td>\n      <td>Отменен</td>\n      <td>0.00</td>\n      <td>NaN</td>\n      <td>NaN</td>\n    </tr>\n    <tr>\n      <th>289</th>\n      <td>1064775</td>\n      <td>31.12.2019 2:17</td>\n      <td>31.12.2019 2:22</td>\n      <td>Курс обучения «Консультант»</td>\n      <td>Завершен</td>\n      <td>7423.92</td>\n      <td>NaN</td>\n      <td>Сбербанк эквайринг,Бонусный счет</td>\n    </tr>\n    <tr>\n      <th>290</th>\n      <td>1064793</td>\n      <td>31.12.2019 16:40</td>\n      <td>01.01.2020 14:29</td>\n      <td>Подписка «ОНЛАЙН ДИЕТОЛОГ» с ежемесячным автос...</td>\n      <td>Завершен</td>\n      <td>2935.44</td>\n      <td>Республика Карелия</td>\n      <td>Яндекс.Касса</td>\n    </tr>\n    <tr>\n      <th>291</th>\n      <td>1064796</td>\n      <td>31.12.2019 17:29</td>\n      <td>31.12.2019 17:32</td>\n      <td>Курс от Школы Диетологов. Повышение квалификац...</td>\n      <td>Завершен</td>\n      <td>9898.56</td>\n      <td>Уфа</td>\n      <td>Сбербанк эквайринг,Бонусный счет</td>\n    </tr>\n  </tbody>\n</table>\n</div>"
     },
     "execution_count": 11,
     "metadata": {},
     "output_type": "execute_result"
    }
   ],
   "source": [
    "df.tail()"
   ]
  },
  {
   "cell_type": "code",
   "execution_count": 12,
   "metadata": {
    "pycharm": {
     "name": "#%%\n"
    }
   },
   "outputs": [
    {
     "data": {
      "text/plain": "(292, 8)"
     },
     "execution_count": 12,
     "metadata": {},
     "output_type": "execute_result"
    }
   ],
   "source": [
    "df.shape"
   ]
  },
  {
   "cell_type": "code",
   "execution_count": 13,
   "metadata": {
    "pycharm": {
     "name": "#%%\n"
    }
   },
   "outputs": [
    {
     "data": {
      "text/plain": "Номер                  int64\nДата создания         object\nДата оплаты           object\nTitle                 object\nСтатус                object\nЗаработано           float64\nГород                 object\nПлатежная система     object\ndtype: object"
     },
     "execution_count": 13,
     "metadata": {},
     "output_type": "execute_result"
    }
   ],
   "source": [
    "df.dtypes"
   ]
  },
  {
   "cell_type": "code",
   "execution_count": 14,
   "metadata": {
    "pycharm": {
     "name": "#%%\n"
    }
   },
   "outputs": [
    {
     "data": {
      "text/plain": "              Номер    Заработано\ncount  2.920000e+02    292.000000\nmean   1.063745e+06   3397.615034\nstd    4.438688e+02   5771.572829\nmin    1.062823e+06      0.000000\n25%    1.063608e+06      0.000000\n50%    1.063698e+06   2935.440000\n75%    1.063807e+06   2935.440000\nmax    1.064796e+06  42750.000000",
      "text/html": "<div>\n<style scoped>\n    .dataframe tbody tr th:only-of-type {\n        vertical-align: middle;\n    }\n\n    .dataframe tbody tr th {\n        vertical-align: top;\n    }\n\n    .dataframe thead th {\n        text-align: right;\n    }\n</style>\n<table border=\"1\" class=\"dataframe\">\n  <thead>\n    <tr style=\"text-align: right;\">\n      <th></th>\n      <th>Номер</th>\n      <th>Заработано</th>\n    </tr>\n  </thead>\n  <tbody>\n    <tr>\n      <th>count</th>\n      <td>2.920000e+02</td>\n      <td>292.000000</td>\n    </tr>\n    <tr>\n      <th>mean</th>\n      <td>1.063745e+06</td>\n      <td>3397.615034</td>\n    </tr>\n    <tr>\n      <th>std</th>\n      <td>4.438688e+02</td>\n      <td>5771.572829</td>\n    </tr>\n    <tr>\n      <th>min</th>\n      <td>1.062823e+06</td>\n      <td>0.000000</td>\n    </tr>\n    <tr>\n      <th>25%</th>\n      <td>1.063608e+06</td>\n      <td>0.000000</td>\n    </tr>\n    <tr>\n      <th>50%</th>\n      <td>1.063698e+06</td>\n      <td>2935.440000</td>\n    </tr>\n    <tr>\n      <th>75%</th>\n      <td>1.063807e+06</td>\n      <td>2935.440000</td>\n    </tr>\n    <tr>\n      <th>max</th>\n      <td>1.064796e+06</td>\n      <td>42750.000000</td>\n    </tr>\n  </tbody>\n</table>\n</div>"
     },
     "execution_count": 14,
     "metadata": {},
     "output_type": "execute_result"
    }
   ],
   "source": [
    "df.describe()"
   ]
  },
  {
   "cell_type": "code",
   "execution_count": 15,
   "metadata": {
    "pycharm": {
     "name": "#%%\n"
    }
   },
   "outputs": [
    {
     "data": {
      "text/plain": "Index(['Номер', 'Дата создания', 'Дата оплаты', 'Title', 'Статус',\n       'Заработано', 'Город', 'Платежная система'],\n      dtype='object')"
     },
     "execution_count": 15,
     "metadata": {},
     "output_type": "execute_result"
    }
   ],
   "source": [
    "df.columns"
   ]
  },
  {
   "cell_type": "code",
   "execution_count": 16,
   "metadata": {
    "pycharm": {
     "name": "#%%\n"
    }
   },
   "outputs": [],
   "source": [
    "df = df.rename(columns={'Номер': 'number', \n",
    "               'Дата создания': 'create_date', \n",
    "               'Дата оплаты': 'payment_date', \n",
    "               'Title': 'tittle', \n",
    "               'Статус': 'status',\n",
    "               'Заработано': 'money', \n",
    "               'Город': 'city', \n",
    "               'Платежная система': 'payment_system'})"
   ]
  },
  {
   "cell_type": "code",
   "execution_count": 17,
   "metadata": {
    "pycharm": {
     "name": "#%%\n"
    }
   },
   "outputs": [
    {
     "data": {
      "text/plain": "      number       create_date      payment_date  \\\n287  1064720   30.12.2019 9:42  30.12.2019 12:49   \n288  1064724  30.12.2019 11:32               NaN   \n289  1064775   31.12.2019 2:17   31.12.2019 2:22   \n290  1064793  31.12.2019 16:40  01.01.2020 14:29   \n291  1064796  31.12.2019 17:29  31.12.2019 17:32   \n\n                                                tittle    status    money  \\\n287  Подписка «ОНЛАЙН ДИЕТОЛОГ» с ежемесячным автос...  Завершен  2935.44   \n288                        Курс обучения «Консультант»   Отменен     0.00   \n289                        Курс обучения «Консультант»  Завершен  7423.92   \n290  Подписка «ОНЛАЙН ДИЕТОЛОГ» с ежемесячным автос...  Завершен  2935.44   \n291  Курс от Школы Диетологов. Повышение квалификац...  Завершен  9898.56   \n\n                   city                    payment_system  \n287   Самарская область                      Яндекс.Касса  \n288                 NaN                               NaN  \n289                 NaN  Сбербанк эквайринг,Бонусный счет  \n290  Республика Карелия                      Яндекс.Касса  \n291                 Уфа  Сбербанк эквайринг,Бонусный счет  ",
      "text/html": "<div>\n<style scoped>\n    .dataframe tbody tr th:only-of-type {\n        vertical-align: middle;\n    }\n\n    .dataframe tbody tr th {\n        vertical-align: top;\n    }\n\n    .dataframe thead th {\n        text-align: right;\n    }\n</style>\n<table border=\"1\" class=\"dataframe\">\n  <thead>\n    <tr style=\"text-align: right;\">\n      <th></th>\n      <th>number</th>\n      <th>create_date</th>\n      <th>payment_date</th>\n      <th>tittle</th>\n      <th>status</th>\n      <th>money</th>\n      <th>city</th>\n      <th>payment_system</th>\n    </tr>\n  </thead>\n  <tbody>\n    <tr>\n      <th>287</th>\n      <td>1064720</td>\n      <td>30.12.2019 9:42</td>\n      <td>30.12.2019 12:49</td>\n      <td>Подписка «ОНЛАЙН ДИЕТОЛОГ» с ежемесячным автос...</td>\n      <td>Завершен</td>\n      <td>2935.44</td>\n      <td>Самарская область</td>\n      <td>Яндекс.Касса</td>\n    </tr>\n    <tr>\n      <th>288</th>\n      <td>1064724</td>\n      <td>30.12.2019 11:32</td>\n      <td>NaN</td>\n      <td>Курс обучения «Консультант»</td>\n      <td>Отменен</td>\n      <td>0.00</td>\n      <td>NaN</td>\n      <td>NaN</td>\n    </tr>\n    <tr>\n      <th>289</th>\n      <td>1064775</td>\n      <td>31.12.2019 2:17</td>\n      <td>31.12.2019 2:22</td>\n      <td>Курс обучения «Консультант»</td>\n      <td>Завершен</td>\n      <td>7423.92</td>\n      <td>NaN</td>\n      <td>Сбербанк эквайринг,Бонусный счет</td>\n    </tr>\n    <tr>\n      <th>290</th>\n      <td>1064793</td>\n      <td>31.12.2019 16:40</td>\n      <td>01.01.2020 14:29</td>\n      <td>Подписка «ОНЛАЙН ДИЕТОЛОГ» с ежемесячным автос...</td>\n      <td>Завершен</td>\n      <td>2935.44</td>\n      <td>Республика Карелия</td>\n      <td>Яндекс.Касса</td>\n    </tr>\n    <tr>\n      <th>291</th>\n      <td>1064796</td>\n      <td>31.12.2019 17:29</td>\n      <td>31.12.2019 17:32</td>\n      <td>Курс от Школы Диетологов. Повышение квалификац...</td>\n      <td>Завершен</td>\n      <td>9898.56</td>\n      <td>Уфа</td>\n      <td>Сбербанк эквайринг,Бонусный счет</td>\n    </tr>\n  </tbody>\n</table>\n</div>"
     },
     "execution_count": 17,
     "metadata": {},
     "output_type": "execute_result"
    }
   ],
   "source": [
    "df.tail()"
   ]
  },
  {
   "cell_type": "code",
   "execution_count": 18,
   "metadata": {
    "pycharm": {
     "name": "#%%\n"
    }
   },
   "outputs": [
    {
     "data": {
      "text/plain": "                        tittle    status\n0      Курс обучения «Эксперт»  Завершен\n1      Курс обучения «Эксперт»  Завершен\n2   Курс обучения «Специалист»   Отменен\n3  Курс обучения «Консультант»   Отменен\n4      Курс обучения «Эксперт»   Отменен",
      "text/html": "<div>\n<style scoped>\n    .dataframe tbody tr th:only-of-type {\n        vertical-align: middle;\n    }\n\n    .dataframe tbody tr th {\n        vertical-align: top;\n    }\n\n    .dataframe thead th {\n        text-align: right;\n    }\n</style>\n<table border=\"1\" class=\"dataframe\">\n  <thead>\n    <tr style=\"text-align: right;\">\n      <th></th>\n      <th>tittle</th>\n      <th>status</th>\n    </tr>\n  </thead>\n  <tbody>\n    <tr>\n      <th>0</th>\n      <td>Курс обучения «Эксперт»</td>\n      <td>Завершен</td>\n    </tr>\n    <tr>\n      <th>1</th>\n      <td>Курс обучения «Эксперт»</td>\n      <td>Завершен</td>\n    </tr>\n    <tr>\n      <th>2</th>\n      <td>Курс обучения «Специалист»</td>\n      <td>Отменен</td>\n    </tr>\n    <tr>\n      <th>3</th>\n      <td>Курс обучения «Консультант»</td>\n      <td>Отменен</td>\n    </tr>\n    <tr>\n      <th>4</th>\n      <td>Курс обучения «Эксперт»</td>\n      <td>Отменен</td>\n    </tr>\n  </tbody>\n</table>\n</div>"
     },
     "execution_count": 18,
     "metadata": {},
     "output_type": "execute_result"
    }
   ],
   "source": [
    "df[['tittle', 'status']].head()"
   ]
  },
  {
   "cell_type": "code",
   "execution_count": 19,
   "metadata": {
    "pycharm": {
     "name": "#%%\n"
    }
   },
   "outputs": [],
   "source": [
    "all_money = df.money.sum()"
   ]
  },
  {
   "cell_type": "code",
   "execution_count": 20,
   "metadata": {
    "pycharm": {
     "name": "#%%\n"
    }
   },
   "outputs": [
    {
     "data": {
      "text/plain": "992103.5900000001"
     },
     "execution_count": 20,
     "metadata": {},
     "output_type": "execute_result"
    }
   ],
   "source": [
    "all_money"
   ]
  },
  {
   "cell_type": "code",
   "execution_count": 21,
   "metadata": {
    "pycharm": {
     "name": "#%%\n"
    }
   },
   "outputs": [],
   "source": [
    "money_by_city = df \\\n",
    "    .groupby(['tittle', 'city'], as_index=False) \\\n",
    "    .aggregate({'money': 'sum'}) \\\n",
    "    .sort_values('money', ascending=False)"
   ]
  },
  {
   "cell_type": "code",
   "execution_count": 22,
   "metadata": {
    "pycharm": {
     "name": "#%%\n"
    }
   },
   "outputs": [],
   "source": [
    "money_by_city.to_csv('money_by_city.csv', index=False)"
   ]
  },
  {
   "cell_type": "markdown",
   "source": [],
   "metadata": {
    "collapsed": false,
    "pycharm": {
     "name": "#%% md\n"
    }
   }
  },
  {
   "cell_type": "code",
   "execution_count": 23,
   "metadata": {
    "pycharm": {
     "name": "#%%\n"
    }
   },
   "outputs": [],
   "source": [
    "money_title = df \\\n",
    "    .query(\"status == 'Завершен'\") \\\n",
    "    .groupby(['tittle'], as_index=False) \\\n",
    "    .aggregate({'money': 'sum', 'number': 'count'}) \\\n",
    "    .sort_values('money', ascending=False) \\\n",
    "    .rename(columns={'number': 'success_orders'})"
   ]
  },
  {
   "cell_type": "code",
   "execution_count": 24,
   "metadata": {
    "pycharm": {
     "name": "#%%\n"
    }
   },
   "outputs": [],
   "source": [
    "today_day = datetime.today().strftime('%Y-%m-%d')\n",
    "file_name = 'money_title_{}.csv'\n",
    "file_name = file_name.format(today_day)"
   ]
  },
  {
   "cell_type": "code",
   "execution_count": 25,
   "metadata": {
    "pycharm": {
     "name": "#%%\n"
    }
   },
   "outputs": [
    {
     "name": "stdout",
     "output_type": "stream",
     "text": [
      "OK! File money_title_2023-12-28.csv is written.\n"
     ]
    }
   ],
   "source": [
    "if int(money_title.money.sum()) == int(all_money):\n",
    "    print('OK! File {} is written.'.format(file_name))\n",
    "    money_title.to_csv(file_name, index=False)\n",
    "else:\n",
    "    print('ERROR!')"
   ]
  }
 ],
 "metadata": {
  "kernelspec": {
   "display_name": "Python 3",
   "language": "python",
   "name": "python3"
  },
  "language_info": {
   "codemirror_mode": {
    "name": "ipython",
    "version": 3
   },
   "file_extension": ".py",
   "mimetype": "text/x-python",
   "name": "python",
   "nbconvert_exporter": "python",
   "pygments_lexer": "ipython3",
   "version": "3.7.3"
  }
 },
 "nbformat": 4,
 "nbformat_minor": 4
}