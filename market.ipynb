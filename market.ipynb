{
 "cells": [
  {
   "cell_type": "markdown",
   "source": [
    "1. Соберите все данные из папки data в один датафрэйм, имеющий следующие столбцы: колонки из самих файлов (product_id, quantity), а также имя пользователя (name), и дата этих покупок (date, соответствует названию папки, где лежит папка с пользователем)\n",
    "\n",
    "data.zip\n",
    "└── data\n",
    "   ├── 2020-12-30\n",
    "   │  ├── FirstName_LastName1\n",
    "   │  │  └── data.csv\n",
    "   │  ├── FirstName_LastName2\n",
    "   │  │   └── data.csv\n",
    "   │  └── FirstName_LastName3\n",
    "   │      └── data.csv\n",
    "   ├── 2020-12-31\n",
    "      ├── FirstName_LastName1\n",
    "      │   └── data.csv\n",
    "      └── FirstName_LastName5\n",
    "          └── data.csv"
   ],
   "metadata": {
    "collapsed": false,
    "pycharm": {
     "name": "#%% md\n"
    }
   }
  },
  {
   "cell_type": "code",
   "execution_count": 83,
   "outputs": [],
   "source": [
    "import os\n",
    "import zipfile\n",
    "import pandas as pd\n",
    "import numpy as np\n",
    "import seaborn as sns\n",
    "import matplotlib.pyplot as plt"
   ],
   "metadata": {
    "collapsed": false,
    "pycharm": {
     "name": "#%%\n"
    }
   }
  },
  {
   "cell_type": "code",
   "execution_count": 84,
   "outputs": [],
   "source": [
    "df = pd.DataFrame()"
   ],
   "metadata": {
    "collapsed": false,
    "pycharm": {
     "name": "#%%\n"
    }
   }
  },
  {
   "cell_type": "code",
   "execution_count": 85,
   "outputs": [
    {
     "data": {
      "text/plain": "'C:\\\\Users\\\\R\\\\PycharmProjects\\\\pythonProject1'"
     },
     "execution_count": 85,
     "metadata": {},
     "output_type": "execute_result"
    }
   ],
   "source": [
    "os.getcwd()"
   ],
   "metadata": {
    "collapsed": false,
    "pycharm": {
     "name": "#%%\n"
    }
   }
  },
  {
   "cell_type": "code",
   "execution_count": 86,
   "metadata": {
    "collapsed": true,
    "pycharm": {
     "name": "#%%\n"
    }
   },
   "outputs": [],
   "source": [
    "# открываем архив\n",
    "with zipfile.ZipFile('data/data.zip', 'r') as zip_ref:\n",
    "    # Список всех файлов и папок в архиве\n",
    "    zip_contents = zip_ref.namelist()\n",
    "\n",
    "    # Перебор всех файлов в архиве\n",
    "    for file in zip_contents:\n",
    "        # Проверка, является ли файл CSV файлом\n",
    "        if file.endswith('.csv'):\n",
    "            _, date, name, _ = file.split('/')\n",
    "            # Открытие CSV файла из архива\n",
    "            with zip_ref.open(file) as csv_file:\n",
    "                # Чтение содержимого файла в DataFrame\n",
    "                temp_df = pd.read_csv(csv_file)\n",
    "                temp_df['name'] = name\n",
    "                temp_df['date'] = date\n",
    "                # добавление информации в основной датафрейм\n",
    "                df = pd.concat((df, temp_df), axis=0)"
   ]
  },
  {
   "cell_type": "code",
   "execution_count": 87,
   "outputs": [],
   "source": [
    "df['date'] = pd.to_datetime(df['date'])\n",
    "df.drop(columns=['Unnamed: 0'], inplace=True)\n",
    "df.reset_index(drop=True, inplace=True)"
   ],
   "metadata": {
    "collapsed": false,
    "pycharm": {
     "name": "#%%\n"
    }
   }
  },
  {
   "cell_type": "code",
   "execution_count": 88,
   "outputs": [
    {
     "data": {
      "text/plain": "     product_id  quantity              name       date\n0            82         4    Vasiliy_Ivanov 2020-12-09\n1            74         2    Vasiliy_Ivanov 2020-12-09\n2            54         3    Vasiliy_Ivanov 2020-12-09\n3            64         2  Rostislav_Petrov 2020-12-09\n4            66         4  Rostislav_Petrov 2020-12-09\n..          ...       ...               ...        ...\n156          57         1    Alexey_Smirnov 2020-12-03\n157          14         2    Alexey_Smirnov 2020-12-03\n158          52         1    Alexey_Smirnov 2020-12-03\n159           1         4    Alexey_Smirnov 2020-12-03\n160          94         4    Alexey_Smirnov 2020-12-03\n\n[161 rows x 4 columns]",
      "text/html": "<div>\n<style scoped>\n    .dataframe tbody tr th:only-of-type {\n        vertical-align: middle;\n    }\n\n    .dataframe tbody tr th {\n        vertical-align: top;\n    }\n\n    .dataframe thead th {\n        text-align: right;\n    }\n</style>\n<table border=\"1\" class=\"dataframe\">\n  <thead>\n    <tr style=\"text-align: right;\">\n      <th></th>\n      <th>product_id</th>\n      <th>quantity</th>\n      <th>name</th>\n      <th>date</th>\n    </tr>\n  </thead>\n  <tbody>\n    <tr>\n      <th>0</th>\n      <td>82</td>\n      <td>4</td>\n      <td>Vasiliy_Ivanov</td>\n      <td>2020-12-09</td>\n    </tr>\n    <tr>\n      <th>1</th>\n      <td>74</td>\n      <td>2</td>\n      <td>Vasiliy_Ivanov</td>\n      <td>2020-12-09</td>\n    </tr>\n    <tr>\n      <th>2</th>\n      <td>54</td>\n      <td>3</td>\n      <td>Vasiliy_Ivanov</td>\n      <td>2020-12-09</td>\n    </tr>\n    <tr>\n      <th>3</th>\n      <td>64</td>\n      <td>2</td>\n      <td>Rostislav_Petrov</td>\n      <td>2020-12-09</td>\n    </tr>\n    <tr>\n      <th>4</th>\n      <td>66</td>\n      <td>4</td>\n      <td>Rostislav_Petrov</td>\n      <td>2020-12-09</td>\n    </tr>\n    <tr>\n      <th>...</th>\n      <td>...</td>\n      <td>...</td>\n      <td>...</td>\n      <td>...</td>\n    </tr>\n    <tr>\n      <th>156</th>\n      <td>57</td>\n      <td>1</td>\n      <td>Alexey_Smirnov</td>\n      <td>2020-12-03</td>\n    </tr>\n    <tr>\n      <th>157</th>\n      <td>14</td>\n      <td>2</td>\n      <td>Alexey_Smirnov</td>\n      <td>2020-12-03</td>\n    </tr>\n    <tr>\n      <th>158</th>\n      <td>52</td>\n      <td>1</td>\n      <td>Alexey_Smirnov</td>\n      <td>2020-12-03</td>\n    </tr>\n    <tr>\n      <th>159</th>\n      <td>1</td>\n      <td>4</td>\n      <td>Alexey_Smirnov</td>\n      <td>2020-12-03</td>\n    </tr>\n    <tr>\n      <th>160</th>\n      <td>94</td>\n      <td>4</td>\n      <td>Alexey_Smirnov</td>\n      <td>2020-12-03</td>\n    </tr>\n  </tbody>\n</table>\n<p>161 rows × 4 columns</p>\n</div>"
     },
     "execution_count": 88,
     "metadata": {},
     "output_type": "execute_result"
    }
   ],
   "source": [
    "df"
   ],
   "metadata": {
    "collapsed": false,
    "pycharm": {
     "name": "#%%\n"
    }
   }
  },
  {
   "cell_type": "markdown",
   "source": [
    "2. Выясните, какой пользователь купил больше всего товаров. Если их несколько, то перечислите имена через запятую с пробелом и в алфавитном порядке."
   ],
   "metadata": {
    "collapsed": false,
    "pycharm": {
     "name": "#%% md\n"
    }
   }
  },
  {
   "cell_type": "code",
   "execution_count": 89,
   "outputs": [
    {
     "data": {
      "text/plain": "                   quantity\nname                       \nAlexey_Smirnov           52\nPetr_Smirnov             52\nAnton_Smirnov            45\nPetr_Fedorov             34\nKirill_Fedorov           28\nRostislav_Petrov         28\nVasiliy_Ivanov           27\nAlexey_Fedorov           24\nAnton_Ivanov             23\nPetr_Ivanov              21\nAnton_Petrov             18\nKirill_Smirnov           17\nAlexey_Ivanov            17\nRostislav_Smirnov        17\nRostislav_Fedorov        16\nVasiliy_Fedorov          15\nPetr_Petrov              14\nKirill_Petrov             9\nRostislav_Ivanov          9\nAlexey_Petrov             7\nVasiliy_Petrov            7",
      "text/html": "<div>\n<style scoped>\n    .dataframe tbody tr th:only-of-type {\n        vertical-align: middle;\n    }\n\n    .dataframe tbody tr th {\n        vertical-align: top;\n    }\n\n    .dataframe thead th {\n        text-align: right;\n    }\n</style>\n<table border=\"1\" class=\"dataframe\">\n  <thead>\n    <tr style=\"text-align: right;\">\n      <th></th>\n      <th>quantity</th>\n    </tr>\n    <tr>\n      <th>name</th>\n      <th></th>\n    </tr>\n  </thead>\n  <tbody>\n    <tr>\n      <th>Alexey_Smirnov</th>\n      <td>52</td>\n    </tr>\n    <tr>\n      <th>Petr_Smirnov</th>\n      <td>52</td>\n    </tr>\n    <tr>\n      <th>Anton_Smirnov</th>\n      <td>45</td>\n    </tr>\n    <tr>\n      <th>Petr_Fedorov</th>\n      <td>34</td>\n    </tr>\n    <tr>\n      <th>Kirill_Fedorov</th>\n      <td>28</td>\n    </tr>\n    <tr>\n      <th>Rostislav_Petrov</th>\n      <td>28</td>\n    </tr>\n    <tr>\n      <th>Vasiliy_Ivanov</th>\n      <td>27</td>\n    </tr>\n    <tr>\n      <th>Alexey_Fedorov</th>\n      <td>24</td>\n    </tr>\n    <tr>\n      <th>Anton_Ivanov</th>\n      <td>23</td>\n    </tr>\n    <tr>\n      <th>Petr_Ivanov</th>\n      <td>21</td>\n    </tr>\n    <tr>\n      <th>Anton_Petrov</th>\n      <td>18</td>\n    </tr>\n    <tr>\n      <th>Kirill_Smirnov</th>\n      <td>17</td>\n    </tr>\n    <tr>\n      <th>Alexey_Ivanov</th>\n      <td>17</td>\n    </tr>\n    <tr>\n      <th>Rostislav_Smirnov</th>\n      <td>17</td>\n    </tr>\n    <tr>\n      <th>Rostislav_Fedorov</th>\n      <td>16</td>\n    </tr>\n    <tr>\n      <th>Vasiliy_Fedorov</th>\n      <td>15</td>\n    </tr>\n    <tr>\n      <th>Petr_Petrov</th>\n      <td>14</td>\n    </tr>\n    <tr>\n      <th>Kirill_Petrov</th>\n      <td>9</td>\n    </tr>\n    <tr>\n      <th>Rostislav_Ivanov</th>\n      <td>9</td>\n    </tr>\n    <tr>\n      <th>Alexey_Petrov</th>\n      <td>7</td>\n    </tr>\n    <tr>\n      <th>Vasiliy_Petrov</th>\n      <td>7</td>\n    </tr>\n  </tbody>\n</table>\n</div>"
     },
     "execution_count": 89,
     "metadata": {},
     "output_type": "execute_result"
    }
   ],
   "source": [
    "customer_purchases = df\\\n",
    "    .groupby('name')\\\n",
    "    .agg({'quantity': 'sum'})\\\n",
    "    .sort_values(by='quantity', ascending=False)\n",
    "\n",
    "customer_purchases"
   ],
   "metadata": {
    "collapsed": false,
    "pycharm": {
     "name": "#%%\n"
    }
   }
  },
  {
   "cell_type": "code",
   "execution_count": 90,
   "outputs": [
    {
     "data": {
      "text/plain": "52"
     },
     "execution_count": 90,
     "metadata": {},
     "output_type": "execute_result"
    }
   ],
   "source": [
    "max_num_purchases = customer_purchases.quantity.max()\n",
    "max_num_purchases"
   ],
   "metadata": {
    "collapsed": false,
    "pycharm": {
     "name": "#%%\n"
    }
   }
  },
  {
   "cell_type": "code",
   "execution_count": 91,
   "outputs": [
    {
     "data": {
      "text/plain": "['Alexey_Smirnov', 'Petr_Smirnov']"
     },
     "execution_count": 91,
     "metadata": {},
     "output_type": "execute_result"
    }
   ],
   "source": [
    "top_customers = customer_purchases.query('quantity == @max_num_purchases').index.to_list()\n",
    "top_customers"
   ],
   "metadata": {
    "collapsed": false,
    "pycharm": {
     "name": "#%%\n"
    }
   }
  },
  {
   "cell_type": "markdown",
   "source": [
    "3. Найдите топ-10 товаров по числу проданных единиц за всё время и постройте барплот."
   ],
   "metadata": {
    "collapsed": false,
    "pycharm": {
     "name": "#%% md\n"
    }
   }
  },
  {
   "cell_type": "code",
   "execution_count": 92,
   "outputs": [
    {
     "data": {
      "text/plain": "    product_id  quantity\n22          27        20\n42          56        18\n21          24        15\n51          74        15\n32          41        14\n27          34        13\n66          94        13\n46          66        13\n65          92        12\n38          50        12",
      "text/html": "<div>\n<style scoped>\n    .dataframe tbody tr th:only-of-type {\n        vertical-align: middle;\n    }\n\n    .dataframe tbody tr th {\n        vertical-align: top;\n    }\n\n    .dataframe thead th {\n        text-align: right;\n    }\n</style>\n<table border=\"1\" class=\"dataframe\">\n  <thead>\n    <tr style=\"text-align: right;\">\n      <th></th>\n      <th>product_id</th>\n      <th>quantity</th>\n    </tr>\n  </thead>\n  <tbody>\n    <tr>\n      <th>22</th>\n      <td>27</td>\n      <td>20</td>\n    </tr>\n    <tr>\n      <th>42</th>\n      <td>56</td>\n      <td>18</td>\n    </tr>\n    <tr>\n      <th>21</th>\n      <td>24</td>\n      <td>15</td>\n    </tr>\n    <tr>\n      <th>51</th>\n      <td>74</td>\n      <td>15</td>\n    </tr>\n    <tr>\n      <th>32</th>\n      <td>41</td>\n      <td>14</td>\n    </tr>\n    <tr>\n      <th>27</th>\n      <td>34</td>\n      <td>13</td>\n    </tr>\n    <tr>\n      <th>66</th>\n      <td>94</td>\n      <td>13</td>\n    </tr>\n    <tr>\n      <th>46</th>\n      <td>66</td>\n      <td>13</td>\n    </tr>\n    <tr>\n      <th>65</th>\n      <td>92</td>\n      <td>12</td>\n    </tr>\n    <tr>\n      <th>38</th>\n      <td>50</td>\n      <td>12</td>\n    </tr>\n  </tbody>\n</table>\n</div>"
     },
     "execution_count": 92,
     "metadata": {},
     "output_type": "execute_result"
    }
   ],
   "source": [
    "top_10_product_id = df\\\n",
    "                    .groupby('product_id', as_index=False)\\\n",
    "                    .agg({'quantity': 'sum'})\\\n",
    "                    .sort_values(by='quantity', ascending=False)\\\n",
    "                    .head(10)\n",
    "\n",
    "top_10_product_id"
   ],
   "metadata": {
    "collapsed": false,
    "pycharm": {
     "name": "#%%\n"
    }
   }
  },
  {
   "cell_type": "code",
   "execution_count": 93,
   "outputs": [
    {
     "data": {
      "text/plain": "<Axes: xlabel='product_id', ylabel='quantity'>"
     },
     "execution_count": 93,
     "metadata": {},
     "output_type": "execute_result"
    },
    {
     "data": {
      "text/plain": "<Figure size 640x480 with 1 Axes>",
      "image/png": "[encoded data removed]"
     },
     "metadata": {},
     "output_type": "display_data"
    }
   ],
   "source": [
    "sns.barplot(data=top_10_product_id, x='product_id', y='quantity')"
   ],
   "metadata": {
    "collapsed": false,
    "pycharm": {
     "name": "#%%\n"
    }
   }
  },
  {
   "cell_type": "markdown",
   "source": [
    "4. Сколько было продано единиц товара с product_id==56?\n"
   ],
   "metadata": {
    "collapsed": false,
    "pycharm": {
     "name": "#%% md\n"
    }
   }
  },
  {
   "cell_type": "code",
   "execution_count": 94,
   "outputs": [
    {
     "data": {
      "text/plain": "    product_id  quantity\n42          56        18",
      "text/html": "<div>\n<style scoped>\n    .dataframe tbody tr th:only-of-type {\n        vertical-align: middle;\n    }\n\n    .dataframe tbody tr th {\n        vertical-align: top;\n    }\n\n    .dataframe thead th {\n        text-align: right;\n    }\n</style>\n<table border=\"1\" class=\"dataframe\">\n  <thead>\n    <tr style=\"text-align: right;\">\n      <th></th>\n      <th>product_id</th>\n      <th>quantity</th>\n    </tr>\n  </thead>\n  <tbody>\n    <tr>\n      <th>42</th>\n      <td>56</td>\n      <td>18</td>\n    </tr>\n  </tbody>\n</table>\n</div>"
     },
     "execution_count": 94,
     "metadata": {},
     "output_type": "execute_result"
    }
   ],
   "source": [
    "top_10_product_id.query('product_id == 56')"
   ],
   "metadata": {
    "collapsed": false,
    "pycharm": {
     "name": "#%%\n"
    }
   }
  },
  {
   "cell_type": "markdown",
   "source": [
    "5. Визуализируйте продажи по дням недели."
   ],
   "metadata": {
    "collapsed": false,
    "pycharm": {
     "name": "#%% md\n"
    }
   }
  },
  {
   "cell_type": "code",
   "execution_count": 108,
   "outputs": [
    {
     "data": {
      "text/plain": "        days  quantity\n0     Friday       113\n1     Monday        94\n2   Saturday        61\n3     Sunday        15\n4   Thursday        60\n5    Tuesday        68\n6  Wednesday        69",
      "text/html": "<div>\n<style scoped>\n    .dataframe tbody tr th:only-of-type {\n        vertical-align: middle;\n    }\n\n    .dataframe tbody tr th {\n        vertical-align: top;\n    }\n\n    .dataframe thead th {\n        text-align: right;\n    }\n</style>\n<table border=\"1\" class=\"dataframe\">\n  <thead>\n    <tr style=\"text-align: right;\">\n      <th></th>\n      <th>days</th>\n      <th>quantity</th>\n    </tr>\n  </thead>\n  <tbody>\n    <tr>\n      <th>0</th>\n      <td>Friday</td>\n      <td>113</td>\n    </tr>\n    <tr>\n      <th>1</th>\n      <td>Monday</td>\n      <td>94</td>\n    </tr>\n    <tr>\n      <th>2</th>\n      <td>Saturday</td>\n      <td>61</td>\n    </tr>\n    <tr>\n      <th>3</th>\n      <td>Sunday</td>\n      <td>15</td>\n    </tr>\n    <tr>\n      <th>4</th>\n      <td>Thursday</td>\n      <td>60</td>\n    </tr>\n    <tr>\n      <th>5</th>\n      <td>Tuesday</td>\n      <td>68</td>\n    </tr>\n    <tr>\n      <th>6</th>\n      <td>Wednesday</td>\n      <td>69</td>\n    </tr>\n  </tbody>\n</table>\n</div>"
     },
     "execution_count": 108,
     "metadata": {},
     "output_type": "execute_result"
    }
   ],
   "source": [
    "sales_by_days = df[['product_id', 'quantity']].copy()\n",
    "sales_by_days['days'] = df['date'].dt.day_name()\n",
    "\n",
    "sales_by_days = sales_by_days.groupby('days', as_index=False).agg({'quantity':'sum'})\n",
    "sales_by_days"
   ],
   "metadata": {
    "collapsed": false,
    "pycharm": {
     "name": "#%%\n"
    }
   }
  },
  {
   "cell_type": "code",
   "execution_count": 109,
   "outputs": [
    {
     "data": {
      "text/plain": "<Figure size 800x400 with 1 Axes>",
      "image/png": "[encoded data removed]"
     },
     "metadata": {},
     "output_type": "display_data"
    }
   ],
   "source": [
    "plt.figure(figsize=(8, 4))  # Размеры можно адаптировать по вашему усмотрению\n",
    "order=['Monday', 'Tuesday', 'Wednesday', 'Tuesday', 'Friday', 'Saturday', 'Sunday']\n",
    "sns.barplot(data=sales_by_days, x='days', y='quantity', order=order)\n",
    "plt.xticks(rotation=45)\n",
    "plt.show()"
   ],
   "metadata": {
    "collapsed": false,
    "pycharm": {
     "name": "#%%\n"
    }
   }
  },
  {
   "cell_type": "markdown",
   "source": [
    "6. Сколько пользователей приобрели какой-либо товар повторно (более 1 раза)?\n",
    "Повтором считать покупку товара с одинаковым product_id, совершенную в разные дни."
   ],
   "metadata": {
    "collapsed": false,
    "pycharm": {
     "name": "#%% md\n"
    }
   }
  },
  {
   "cell_type": "code",
   "execution_count": 122,
   "outputs": [
    {
     "data": {
      "text/plain": "                         date\nname         product_id      \nAnton_Ivanov 15             2\nPetr_Fedorov 94             2",
      "text/html": "<div>\n<style scoped>\n    .dataframe tbody tr th:only-of-type {\n        vertical-align: middle;\n    }\n\n    .dataframe tbody tr th {\n        vertical-align: top;\n    }\n\n    .dataframe thead th {\n        text-align: right;\n    }\n</style>\n<table border=\"1\" class=\"dataframe\">\n  <thead>\n    <tr style=\"text-align: right;\">\n      <th></th>\n      <th></th>\n      <th>date</th>\n    </tr>\n    <tr>\n      <th>name</th>\n      <th>product_id</th>\n      <th></th>\n    </tr>\n  </thead>\n  <tbody>\n    <tr>\n      <th>Anton_Ivanov</th>\n      <th>15</th>\n      <td>2</td>\n    </tr>\n    <tr>\n      <th>Petr_Fedorov</th>\n      <th>94</th>\n      <td>2</td>\n    </tr>\n  </tbody>\n</table>\n</div>"
     },
     "execution_count": 122,
     "metadata": {},
     "output_type": "execute_result"
    }
   ],
   "source": [
    "repeat_purchases = df\\\n",
    "    .groupby(['name', 'product_id'])\\\n",
    "    .agg({'date': pd.Series.nunique})\\\n",
    "    .query('date > 1')\n",
    "\n",
    "repeat_purchases"
   ],
   "metadata": {
    "collapsed": false,
    "pycharm": {
     "name": "#%%\n"
    }
   }
  },
  {
   "cell_type": "code",
   "execution_count": 139,
   "outputs": [
    {
     "data": {
      "text/plain": "['Anton_Ivanov', 'Petr_Fedorov']"
     },
     "execution_count": 139,
     "metadata": {},
     "output_type": "execute_result"
    }
   ],
   "source": [
    "repeat_purchases.index.get_level_values('name').tolist()"
   ],
   "metadata": {
    "collapsed": false,
    "pycharm": {
     "name": "#%%\n"
    }
   }
  }
 ],
 "metadata": {
  "kernelspec": {
   "display_name": "Python 3",
   "language": "python",
   "name": "python3"
  },
  "language_info": {
   "codemirror_mode": {
    "name": "ipython",
    "version": 2
   },
   "file_extension": ".py",
   "mimetype": "text/x-python",
   "name": "python",
   "nbconvert_exporter": "python",
   "pygments_lexer": "ipython2",
   "version": "2.7.6"
  }
 },
 "nbformat": 4,
 "nbformat_minor": 0
}