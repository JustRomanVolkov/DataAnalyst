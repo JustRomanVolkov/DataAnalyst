{
 "cells": [
  {
   "cell_type": "code",
   "execution_count": 27,
   "metadata": {
    "pycharm": {
     "name": "#%%\n"
    }
   },
   "outputs": [],
   "source": [
    "import pandas as pd\n",
    "import numpy as np\n",
    "import seaborn as sns\n",
    "import matplotlib.pyplot as plt\n",
    "\n",
    "%matplotlib inline\n",
    "\n",
    "sns.set_theme(style=\"white\", context=\"talk\")\n",
    "rs = np.random.RandomState(8)"
   ]
  },
  {
   "cell_type": "code",
   "execution_count": 47,
   "metadata": {
    "pycharm": {
     "name": "#%%\n"
    }
   },
   "outputs": [],
   "source": [
    "df = pd.read_csv('https://stepik.org/media/attachments/lesson/383523/lesson_3_data__1_.csv', encoding='windows-1251')"
   ]
  },
  {
   "cell_type": "code",
   "execution_count": 48,
   "metadata": {
    "pycharm": {
     "name": "#%%\n"
    }
   },
   "outputs": [
    {
     "data": {
      "text/plain": "   Unnamed: 0                  tk  pl         dia        hs         tc  \\\n0        1242  120071109002055793   1  2007/11/09  0.505729  110000761   \n1        1243  120070601004053633   1  2007/06/01  0.588519  110000761   \n2        1244  120070928004076410   1  2007/09/28  0.785498   28491841   \n3        1245  120070616003074261   1  2007/06/16  0.550961   95931501   \n4        1246  120070519001018477   1  2007/05/19  0.804954   93265591   \n\n        cta  id_art  id_subsubfam   id_subfam  ...   id_famn  id_seccion  \\\n0  11000076   21895  101070640100  1010706401  ...  10107064       10107   \n1  11000076   21816  101070640100  1010706401  ...  10107064       10107   \n2   2849184  562840  101070640100  1010706401  ...  10107064       10107   \n3   9593150   28914  101070640100  1010706401  ...  10107064       10107   \n4   9326559  159867  101070640100  1010706401  ...  10107064       10107   \n\n   id_subagr  id_agr   vta  uni  id_artn                              art_sp  \\\n0        101       1  0.68  1.0    21895  MARAVILLA        500 G Store_Brand   \n1        101       1  0.38  1.0    21816  FIDEO CABELLIN   500 G Store_Brand   \n2        101       1  1.55  2.0   562840        SPAGUETTI Nє 5 500 G Brand_1   \n3        101       1  1.03  2.0    28914       FIDEO FIDEUБ      500 Brand_7   \n4        101       1  1.09  1.0   159867      MACARRONES  GRATINAR 5 Brand_2   \n\n                 fam_sp fam_en  \n0  PASTA ALIMENTICIA SE  pasta  \n1  PASTA ALIMENTICIA SE  pasta  \n2  PASTA ALIMENTICIA SE  pasta  \n3  PASTA ALIMENTICIA SE  pasta  \n4  PASTA ALIMENTICIA SE  pasta  \n\n[5 rows x 21 columns]",
      "text/html": "<div>\n<style scoped>\n    .dataframe tbody tr th:only-of-type {\n        vertical-align: middle;\n    }\n\n    .dataframe tbody tr th {\n        vertical-align: top;\n    }\n\n    .dataframe thead th {\n        text-align: right;\n    }\n</style>\n<table border=\"1\" class=\"dataframe\">\n  <thead>\n    <tr style=\"text-align: right;\">\n      <th></th>\n      <th>Unnamed: 0</th>\n      <th>tk</th>\n      <th>pl</th>\n      <th>dia</th>\n      <th>hs</th>\n      <th>tc</th>\n      <th>cta</th>\n      <th>id_art</th>\n      <th>id_subsubfam</th>\n      <th>id_subfam</th>\n      <th>...</th>\n      <th>id_famn</th>\n      <th>id_seccion</th>\n      <th>id_subagr</th>\n      <th>id_agr</th>\n      <th>vta</th>\n      <th>uni</th>\n      <th>id_artn</th>\n      <th>art_sp</th>\n      <th>fam_sp</th>\n      <th>fam_en</th>\n    </tr>\n  </thead>\n  <tbody>\n    <tr>\n      <th>0</th>\n      <td>1242</td>\n      <td>120071109002055793</td>\n      <td>1</td>\n      <td>2007/11/09</td>\n      <td>0.505729</td>\n      <td>110000761</td>\n      <td>11000076</td>\n      <td>21895</td>\n      <td>101070640100</td>\n      <td>1010706401</td>\n      <td>...</td>\n      <td>10107064</td>\n      <td>10107</td>\n      <td>101</td>\n      <td>1</td>\n      <td>0.68</td>\n      <td>1.0</td>\n      <td>21895</td>\n      <td>MARAVILLA        500 G Store_Brand</td>\n      <td>PASTA ALIMENTICIA SE</td>\n      <td>pasta</td>\n    </tr>\n    <tr>\n      <th>1</th>\n      <td>1243</td>\n      <td>120070601004053633</td>\n      <td>1</td>\n      <td>2007/06/01</td>\n      <td>0.588519</td>\n      <td>110000761</td>\n      <td>11000076</td>\n      <td>21816</td>\n      <td>101070640100</td>\n      <td>1010706401</td>\n      <td>...</td>\n      <td>10107064</td>\n      <td>10107</td>\n      <td>101</td>\n      <td>1</td>\n      <td>0.38</td>\n      <td>1.0</td>\n      <td>21816</td>\n      <td>FIDEO CABELLIN   500 G Store_Brand</td>\n      <td>PASTA ALIMENTICIA SE</td>\n      <td>pasta</td>\n    </tr>\n    <tr>\n      <th>2</th>\n      <td>1244</td>\n      <td>120070928004076410</td>\n      <td>1</td>\n      <td>2007/09/28</td>\n      <td>0.785498</td>\n      <td>28491841</td>\n      <td>2849184</td>\n      <td>562840</td>\n      <td>101070640100</td>\n      <td>1010706401</td>\n      <td>...</td>\n      <td>10107064</td>\n      <td>10107</td>\n      <td>101</td>\n      <td>1</td>\n      <td>1.55</td>\n      <td>2.0</td>\n      <td>562840</td>\n      <td>SPAGUETTI Nє 5 500 G Brand_1</td>\n      <td>PASTA ALIMENTICIA SE</td>\n      <td>pasta</td>\n    </tr>\n    <tr>\n      <th>3</th>\n      <td>1245</td>\n      <td>120070616003074261</td>\n      <td>1</td>\n      <td>2007/06/16</td>\n      <td>0.550961</td>\n      <td>95931501</td>\n      <td>9593150</td>\n      <td>28914</td>\n      <td>101070640100</td>\n      <td>1010706401</td>\n      <td>...</td>\n      <td>10107064</td>\n      <td>10107</td>\n      <td>101</td>\n      <td>1</td>\n      <td>1.03</td>\n      <td>2.0</td>\n      <td>28914</td>\n      <td>FIDEO FIDEUБ      500 Brand_7</td>\n      <td>PASTA ALIMENTICIA SE</td>\n      <td>pasta</td>\n    </tr>\n    <tr>\n      <th>4</th>\n      <td>1246</td>\n      <td>120070519001018477</td>\n      <td>1</td>\n      <td>2007/05/19</td>\n      <td>0.804954</td>\n      <td>93265591</td>\n      <td>9326559</td>\n      <td>159867</td>\n      <td>101070640100</td>\n      <td>1010706401</td>\n      <td>...</td>\n      <td>10107064</td>\n      <td>10107</td>\n      <td>101</td>\n      <td>1</td>\n      <td>1.09</td>\n      <td>1.0</td>\n      <td>159867</td>\n      <td>MACARRONES  GRATINAR 5 Brand_2</td>\n      <td>PASTA ALIMENTICIA SE</td>\n      <td>pasta</td>\n    </tr>\n  </tbody>\n</table>\n<p>5 rows × 21 columns</p>\n</div>"
     },
     "execution_count": 48,
     "metadata": {},
     "output_type": "execute_result"
    }
   ],
   "source": [
    "df.head()"
   ]
  },
  {
   "cell_type": "code",
   "execution_count": 49,
   "metadata": {
    "pycharm": {
     "name": "#%%\n"
    }
   },
   "outputs": [],
   "source": [
    "user_df = df[['tc', 'art_sp']]"
   ]
  },
  {
   "cell_type": "code",
   "execution_count": 50,
   "metadata": {
    "pycharm": {
     "name": "#%%\n"
    }
   },
   "outputs": [
    {
     "data": {
      "text/plain": "               tc                              art_sp\n0       110000761  MARAVILLA        500 G Store_Brand\n1       110000761  FIDEO CABELLIN   500 G Store_Brand\n2        28491841        SPAGUETTI Nє 5 500 G Brand_1\n3        95931501       FIDEO FIDEUБ      500 Brand_7\n4        93265591      MACARRONES  GRATINAR 5 Brand_2\n...           ...                                 ...\n48124    45518841      FIDEOS 0         500 G Brand_4\n48125   110824211      PLUMAS 3         500 G Brand_4\n48126  1408670389  MACARRONES       500 G Store_Brand\n48127  1408670389  SPAGHETTI        500 G Store_Brand\n48128    48582221  SPAGHETTINI      500 G Store_Brand\n\n[48129 rows x 2 columns]",
      "text/html": "<div>\n<style scoped>\n    .dataframe tbody tr th:only-of-type {\n        vertical-align: middle;\n    }\n\n    .dataframe tbody tr th {\n        vertical-align: top;\n    }\n\n    .dataframe thead th {\n        text-align: right;\n    }\n</style>\n<table border=\"1\" class=\"dataframe\">\n  <thead>\n    <tr style=\"text-align: right;\">\n      <th></th>\n      <th>tc</th>\n      <th>art_sp</th>\n    </tr>\n  </thead>\n  <tbody>\n    <tr>\n      <th>0</th>\n      <td>110000761</td>\n      <td>MARAVILLA        500 G Store_Brand</td>\n    </tr>\n    <tr>\n      <th>1</th>\n      <td>110000761</td>\n      <td>FIDEO CABELLIN   500 G Store_Brand</td>\n    </tr>\n    <tr>\n      <th>2</th>\n      <td>28491841</td>\n      <td>SPAGUETTI Nє 5 500 G Brand_1</td>\n    </tr>\n    <tr>\n      <th>3</th>\n      <td>95931501</td>\n      <td>FIDEO FIDEUБ      500 Brand_7</td>\n    </tr>\n    <tr>\n      <th>4</th>\n      <td>93265591</td>\n      <td>MACARRONES  GRATINAR 5 Brand_2</td>\n    </tr>\n    <tr>\n      <th>...</th>\n      <td>...</td>\n      <td>...</td>\n    </tr>\n    <tr>\n      <th>48124</th>\n      <td>45518841</td>\n      <td>FIDEOS 0         500 G Brand_4</td>\n    </tr>\n    <tr>\n      <th>48125</th>\n      <td>110824211</td>\n      <td>PLUMAS 3         500 G Brand_4</td>\n    </tr>\n    <tr>\n      <th>48126</th>\n      <td>1408670389</td>\n      <td>MACARRONES       500 G Store_Brand</td>\n    </tr>\n    <tr>\n      <th>48127</th>\n      <td>1408670389</td>\n      <td>SPAGHETTI        500 G Store_Brand</td>\n    </tr>\n    <tr>\n      <th>48128</th>\n      <td>48582221</td>\n      <td>SPAGHETTINI      500 G Store_Brand</td>\n    </tr>\n  </tbody>\n</table>\n<p>48129 rows × 2 columns</p>\n</div>"
     },
     "execution_count": 50,
     "metadata": {},
     "output_type": "execute_result"
    }
   ],
   "source": [
    "user_df"
   ]
  },
  {
   "cell_type": "code",
   "execution_count": 51,
   "metadata": {
    "pycharm": {
     "name": "#%%\n"
    }
   },
   "outputs": [],
   "source": [
    "user_df = user_df.rename(columns={'tc': 'user_id', 'art_sp': 'brand_info'})"
   ]
  },
  {
   "cell_type": "code",
   "execution_count": 52,
   "metadata": {
    "pycharm": {
     "name": "#%%\n"
    }
   },
   "outputs": [
    {
     "data": {
      "text/plain": "     user_id                          brand_info\n0  110000761  MARAVILLA        500 G Store_Brand\n1  110000761  FIDEO CABELLIN   500 G Store_Brand\n2   28491841        SPAGUETTI Nє 5 500 G Brand_1\n3   95931501       FIDEO FIDEUБ      500 Brand_7\n4   93265591      MACARRONES  GRATINAR 5 Brand_2",
      "text/html": "<div>\n<style scoped>\n    .dataframe tbody tr th:only-of-type {\n        vertical-align: middle;\n    }\n\n    .dataframe tbody tr th {\n        vertical-align: top;\n    }\n\n    .dataframe thead th {\n        text-align: right;\n    }\n</style>\n<table border=\"1\" class=\"dataframe\">\n  <thead>\n    <tr style=\"text-align: right;\">\n      <th></th>\n      <th>user_id</th>\n      <th>brand_info</th>\n    </tr>\n  </thead>\n  <tbody>\n    <tr>\n      <th>0</th>\n      <td>110000761</td>\n      <td>MARAVILLA        500 G Store_Brand</td>\n    </tr>\n    <tr>\n      <th>1</th>\n      <td>110000761</td>\n      <td>FIDEO CABELLIN   500 G Store_Brand</td>\n    </tr>\n    <tr>\n      <th>2</th>\n      <td>28491841</td>\n      <td>SPAGUETTI Nє 5 500 G Brand_1</td>\n    </tr>\n    <tr>\n      <th>3</th>\n      <td>95931501</td>\n      <td>FIDEO FIDEUБ      500 Brand_7</td>\n    </tr>\n    <tr>\n      <th>4</th>\n      <td>93265591</td>\n      <td>MACARRONES  GRATINAR 5 Brand_2</td>\n    </tr>\n  </tbody>\n</table>\n</div>"
     },
     "execution_count": 52,
     "metadata": {},
     "output_type": "execute_result"
    }
   ],
   "source": [
    "user_df.head()"
   ]
  },
  {
   "cell_type": "code",
   "execution_count": 53,
   "metadata": {
    "pycharm": {
     "name": "#%%\n"
    }
   },
   "outputs": [],
   "source": [
    "def split_brand(brand_name_data):\n",
    "    return brand_name_data.split(' ')[-1]"
   ]
  },
  {
   "cell_type": "code",
   "execution_count": 54,
   "metadata": {
    "pycharm": {
     "name": "#%%\n"
    }
   },
   "outputs": [],
   "source": [
    "user_df['brand_name'] = user_df.brand_info.apply(split_brand)"
   ]
  },
  {
   "cell_type": "code",
   "execution_count": 55,
   "metadata": {
    "pycharm": {
     "name": "#%%\n"
    }
   },
   "outputs": [],
   "source": [
    "# user_df['brand_name'] = user_df.brand_info.apply(lambda x: x.split(' ')[-1])\n",
    "# используем lambda функцию, чтобы разрезать строку по пробелу и взять последний элемент"
   ]
  },
  {
   "cell_type": "code",
   "execution_count": 56,
   "metadata": {
    "pycharm": {
     "name": "#%%\n"
    }
   },
   "outputs": [
    {
     "data": {
      "text/plain": "     user_id                          brand_info   brand_name\n0  110000761  MARAVILLA        500 G Store_Brand  Store_Brand\n1  110000761  FIDEO CABELLIN   500 G Store_Brand  Store_Brand\n2   28491841        SPAGUETTI Nє 5 500 G Brand_1      Brand_1\n3   95931501       FIDEO FIDEUБ      500 Brand_7      Brand_7\n4   93265591      MACARRONES  GRATINAR 5 Brand_2      Brand_2",
      "text/html": "<div>\n<style scoped>\n    .dataframe tbody tr th:only-of-type {\n        vertical-align: middle;\n    }\n\n    .dataframe tbody tr th {\n        vertical-align: top;\n    }\n\n    .dataframe thead th {\n        text-align: right;\n    }\n</style>\n<table border=\"1\" class=\"dataframe\">\n  <thead>\n    <tr style=\"text-align: right;\">\n      <th></th>\n      <th>user_id</th>\n      <th>brand_info</th>\n      <th>brand_name</th>\n    </tr>\n  </thead>\n  <tbody>\n    <tr>\n      <th>0</th>\n      <td>110000761</td>\n      <td>MARAVILLA        500 G Store_Brand</td>\n      <td>Store_Brand</td>\n    </tr>\n    <tr>\n      <th>1</th>\n      <td>110000761</td>\n      <td>FIDEO CABELLIN   500 G Store_Brand</td>\n      <td>Store_Brand</td>\n    </tr>\n    <tr>\n      <th>2</th>\n      <td>28491841</td>\n      <td>SPAGUETTI Nє 5 500 G Brand_1</td>\n      <td>Brand_1</td>\n    </tr>\n    <tr>\n      <th>3</th>\n      <td>95931501</td>\n      <td>FIDEO FIDEUБ      500 Brand_7</td>\n      <td>Brand_7</td>\n    </tr>\n    <tr>\n      <th>4</th>\n      <td>93265591</td>\n      <td>MACARRONES  GRATINAR 5 Brand_2</td>\n      <td>Brand_2</td>\n    </tr>\n  </tbody>\n</table>\n</div>"
     },
     "execution_count": 56,
     "metadata": {},
     "output_type": "execute_result"
    }
   ],
   "source": [
    "user_df.head()"
   ]
  },
  {
   "cell_type": "code",
   "execution_count": 57,
   "metadata": {
    "pycharm": {
     "name": "#%%\n"
    }
   },
   "outputs": [],
   "source": [
    "users_purchases = user_df.groupby('user_id', as_index=False) \\\n",
    "    .agg({'brand_name': 'count'}) \\\n",
    "    .rename(columns={'brand_name': 'purchases'})"
   ]
  },
  {
   "cell_type": "code",
   "execution_count": 58,
   "outputs": [
    {
     "data": {
      "text/plain": "            user_id     purchases\ncount  1.176400e+04  11764.000000\nmean   7.690517e+07      4.091210\nstd    1.622210e+08      4.573143\nmin   -1.236395e+09      1.000000\n25%    1.503761e+07      1.000000\n50%    4.682179e+07      2.000000\n75%    9.311601e+07      5.000000\nmax    1.408849e+09     60.000000",
      "text/html": "<div>\n<style scoped>\n    .dataframe tbody tr th:only-of-type {\n        vertical-align: middle;\n    }\n\n    .dataframe tbody tr th {\n        vertical-align: top;\n    }\n\n    .dataframe thead th {\n        text-align: right;\n    }\n</style>\n<table border=\"1\" class=\"dataframe\">\n  <thead>\n    <tr style=\"text-align: right;\">\n      <th></th>\n      <th>user_id</th>\n      <th>purchases</th>\n    </tr>\n  </thead>\n  <tbody>\n    <tr>\n      <th>count</th>\n      <td>1.176400e+04</td>\n      <td>11764.000000</td>\n    </tr>\n    <tr>\n      <th>mean</th>\n      <td>7.690517e+07</td>\n      <td>4.091210</td>\n    </tr>\n    <tr>\n      <th>std</th>\n      <td>1.622210e+08</td>\n      <td>4.573143</td>\n    </tr>\n    <tr>\n      <th>min</th>\n      <td>-1.236395e+09</td>\n      <td>1.000000</td>\n    </tr>\n    <tr>\n      <th>25%</th>\n      <td>1.503761e+07</td>\n      <td>1.000000</td>\n    </tr>\n    <tr>\n      <th>50%</th>\n      <td>4.682179e+07</td>\n      <td>2.000000</td>\n    </tr>\n    <tr>\n      <th>75%</th>\n      <td>9.311601e+07</td>\n      <td>5.000000</td>\n    </tr>\n    <tr>\n      <th>max</th>\n      <td>1.408849e+09</td>\n      <td>60.000000</td>\n    </tr>\n  </tbody>\n</table>\n</div>"
     },
     "execution_count": 58,
     "metadata": {},
     "output_type": "execute_result"
    }
   ],
   "source": [
    "users_purchases.describe()"
   ],
   "metadata": {
    "collapsed": false,
    "pycharm": {
     "name": "#%%\n"
    }
   }
  },
  {
   "cell_type": "code",
   "execution_count": 59,
   "outputs": [
    {
     "data": {
      "text/plain": "2.0"
     },
     "execution_count": 59,
     "metadata": {},
     "output_type": "execute_result"
    }
   ],
   "source": [
    "users_purchases.purchases.median()"
   ],
   "metadata": {
    "collapsed": false,
    "pycharm": {
     "name": "#%%\n"
    }
   }
  },
  {
   "cell_type": "code",
   "execution_count": 60,
   "outputs": [],
   "source": [
    "users_purchases=users_purchases.query('purchases >= 5')"
   ],
   "metadata": {
    "collapsed": false,
    "pycharm": {
     "name": "#%%\n"
    }
   }
  },
  {
   "cell_type": "code",
   "execution_count": 61,
   "outputs": [
    {
     "data": {
      "text/plain": "user_id      28425471.0\npurchases           7.0\ndtype: float64"
     },
     "execution_count": 61,
     "metadata": {},
     "output_type": "execute_result"
    }
   ],
   "source": [
    "users_purchases.median()"
   ],
   "metadata": {
    "collapsed": false,
    "pycharm": {
     "name": "#%%\n"
    }
   }
  },
  {
   "cell_type": "code",
   "execution_count": 62,
   "outputs": [
    {
     "data": {
      "text/plain": "    user_id  purchases\n1      1031          6\n2      4241          5\n11    25971          7\n14    40911         27\n16    45181          5",
      "text/html": "<div>\n<style scoped>\n    .dataframe tbody tr th:only-of-type {\n        vertical-align: middle;\n    }\n\n    .dataframe tbody tr th {\n        vertical-align: top;\n    }\n\n    .dataframe thead th {\n        text-align: right;\n    }\n</style>\n<table border=\"1\" class=\"dataframe\">\n  <thead>\n    <tr style=\"text-align: right;\">\n      <th></th>\n      <th>user_id</th>\n      <th>purchases</th>\n    </tr>\n  </thead>\n  <tbody>\n    <tr>\n      <th>1</th>\n      <td>1031</td>\n      <td>6</td>\n    </tr>\n    <tr>\n      <th>2</th>\n      <td>4241</td>\n      <td>5</td>\n    </tr>\n    <tr>\n      <th>11</th>\n      <td>25971</td>\n      <td>7</td>\n    </tr>\n    <tr>\n      <th>14</th>\n      <td>40911</td>\n      <td>27</td>\n    </tr>\n    <tr>\n      <th>16</th>\n      <td>45181</td>\n      <td>5</td>\n    </tr>\n  </tbody>\n</table>\n</div>"
     },
     "execution_count": 62,
     "metadata": {},
     "output_type": "execute_result"
    }
   ],
   "source": [
    "users_purchases.head()"
   ],
   "metadata": {
    "collapsed": false,
    "pycharm": {
     "name": "#%%\n"
    }
   }
  },
  {
   "cell_type": "code",
   "execution_count": 63,
   "outputs": [
    {
     "data": {
      "text/plain": "   user_id   brand_name  brand_info\n1     1031      Brand_3           1\n2     1031  Store_Brand           5",
      "text/html": "<div>\n<style scoped>\n    .dataframe tbody tr th:only-of-type {\n        vertical-align: middle;\n    }\n\n    .dataframe tbody tr th {\n        vertical-align: top;\n    }\n\n    .dataframe thead th {\n        text-align: right;\n    }\n</style>\n<table border=\"1\" class=\"dataframe\">\n  <thead>\n    <tr style=\"text-align: right;\">\n      <th></th>\n      <th>user_id</th>\n      <th>brand_name</th>\n      <th>brand_info</th>\n    </tr>\n  </thead>\n  <tbody>\n    <tr>\n      <th>1</th>\n      <td>1031</td>\n      <td>Brand_3</td>\n      <td>1</td>\n    </tr>\n    <tr>\n      <th>2</th>\n      <td>1031</td>\n      <td>Store_Brand</td>\n      <td>5</td>\n    </tr>\n  </tbody>\n</table>\n</div>"
     },
     "execution_count": 63,
     "metadata": {},
     "output_type": "execute_result"
    }
   ],
   "source": [
    "user_df.groupby(['user_id', 'brand_name'], as_index=False)\\\n",
    "    .agg({'brand_info': 'count'})\\\n",
    "    .query('user_id==1031')"
   ],
   "metadata": {
    "collapsed": false,
    "pycharm": {
     "name": "#%%\n"
    }
   }
  },
  {
   "cell_type": "code",
   "execution_count": 64,
   "outputs": [],
   "source": [
    "lovely_brand_purchases_df = user_df.groupby(['user_id', 'brand_name'], as_index=False) \\\n",
    "    .agg({'brand_info': 'count'}) \\\n",
    "    .sort_values(['user_id', 'brand_info'], ascending=[False, False]) \\\n",
    "    .groupby('user_id') \\\n",
    "    .head(1) \\\n",
    "    .rename(columns={'brand_name': 'lovely_brand','brand_info': 'lovely_brand_purchases'})"
   ],
   "metadata": {
    "collapsed": false,
    "pycharm": {
     "name": "#%%\n"
    }
   }
  },
  {
   "cell_type": "code",
   "execution_count": 65,
   "outputs": [
    {
     "data": {
      "text/plain": "          user_id lovely_brand  lovely_brand_purchases\n18187  1408849249  Store_Brand                       1\n18186  1408840919  Store_Brand                       1\n18185  1408832719      Brand_4                       3\n18184  1408825059      Brand_1                       1\n18183  1408817589  Store_Brand                       2\n...           ...          ...                     ...\n6           17312      Brand_1                       1\n5           17311      Brand_4                       2\n3            4241      Brand_4                       3\n2            1031  Store_Brand                       5\n0     -1236394515      Brand_4                       1\n\n[11764 rows x 3 columns]",
      "text/html": "<div>\n<style scoped>\n    .dataframe tbody tr th:only-of-type {\n        vertical-align: middle;\n    }\n\n    .dataframe tbody tr th {\n        vertical-align: top;\n    }\n\n    .dataframe thead th {\n        text-align: right;\n    }\n</style>\n<table border=\"1\" class=\"dataframe\">\n  <thead>\n    <tr style=\"text-align: right;\">\n      <th></th>\n      <th>user_id</th>\n      <th>lovely_brand</th>\n      <th>lovely_brand_purchases</th>\n    </tr>\n  </thead>\n  <tbody>\n    <tr>\n      <th>18187</th>\n      <td>1408849249</td>\n      <td>Store_Brand</td>\n      <td>1</td>\n    </tr>\n    <tr>\n      <th>18186</th>\n      <td>1408840919</td>\n      <td>Store_Brand</td>\n      <td>1</td>\n    </tr>\n    <tr>\n      <th>18185</th>\n      <td>1408832719</td>\n      <td>Brand_4</td>\n      <td>3</td>\n    </tr>\n    <tr>\n      <th>18184</th>\n      <td>1408825059</td>\n      <td>Brand_1</td>\n      <td>1</td>\n    </tr>\n    <tr>\n      <th>18183</th>\n      <td>1408817589</td>\n      <td>Store_Brand</td>\n      <td>2</td>\n    </tr>\n    <tr>\n      <th>...</th>\n      <td>...</td>\n      <td>...</td>\n      <td>...</td>\n    </tr>\n    <tr>\n      <th>6</th>\n      <td>17312</td>\n      <td>Brand_1</td>\n      <td>1</td>\n    </tr>\n    <tr>\n      <th>5</th>\n      <td>17311</td>\n      <td>Brand_4</td>\n      <td>2</td>\n    </tr>\n    <tr>\n      <th>3</th>\n      <td>4241</td>\n      <td>Brand_4</td>\n      <td>3</td>\n    </tr>\n    <tr>\n      <th>2</th>\n      <td>1031</td>\n      <td>Store_Brand</td>\n      <td>5</td>\n    </tr>\n    <tr>\n      <th>0</th>\n      <td>-1236394515</td>\n      <td>Brand_4</td>\n      <td>1</td>\n    </tr>\n  </tbody>\n</table>\n<p>11764 rows × 3 columns</p>\n</div>"
     },
     "execution_count": 65,
     "metadata": {},
     "output_type": "execute_result"
    }
   ],
   "source": [
    "lovely_brand_purchases_df"
   ],
   "metadata": {
    "collapsed": false,
    "pycharm": {
     "name": "#%%\n"
    }
   }
  },
  {
   "cell_type": "code",
   "execution_count": 66,
   "metadata": {
    "pycharm": {
     "name": "#%%\n"
    }
   },
   "outputs": [],
   "source": [
    "users_unique_brands = user_df.groupby('user_id', as_index=False) \\\n",
    "    .agg({'brand_name': pd.Series.nunique}) \\\n",
    "    .rename(columns={'brand_name': 'unique_brands'})"
   ]
  },
  {
   "cell_type": "code",
   "execution_count": 67,
   "outputs": [
    {
     "data": {
      "text/plain": "          user_id  unique_brands\n0     -1236394515              1\n1            1031              2\n2            4241              2\n3           17311              1\n4           17312              2\n...           ...            ...\n11759  1408817589              2\n11760  1408825059              1\n11761  1408832719              1\n11762  1408840919              1\n11763  1408849249              1\n\n[11764 rows x 2 columns]",
      "text/html": "<div>\n<style scoped>\n    .dataframe tbody tr th:only-of-type {\n        vertical-align: middle;\n    }\n\n    .dataframe tbody tr th {\n        vertical-align: top;\n    }\n\n    .dataframe thead th {\n        text-align: right;\n    }\n</style>\n<table border=\"1\" class=\"dataframe\">\n  <thead>\n    <tr style=\"text-align: right;\">\n      <th></th>\n      <th>user_id</th>\n      <th>unique_brands</th>\n    </tr>\n  </thead>\n  <tbody>\n    <tr>\n      <th>0</th>\n      <td>-1236394515</td>\n      <td>1</td>\n    </tr>\n    <tr>\n      <th>1</th>\n      <td>1031</td>\n      <td>2</td>\n    </tr>\n    <tr>\n      <th>2</th>\n      <td>4241</td>\n      <td>2</td>\n    </tr>\n    <tr>\n      <th>3</th>\n      <td>17311</td>\n      <td>1</td>\n    </tr>\n    <tr>\n      <th>4</th>\n      <td>17312</td>\n      <td>2</td>\n    </tr>\n    <tr>\n      <th>...</th>\n      <td>...</td>\n      <td>...</td>\n    </tr>\n    <tr>\n      <th>11759</th>\n      <td>1408817589</td>\n      <td>2</td>\n    </tr>\n    <tr>\n      <th>11760</th>\n      <td>1408825059</td>\n      <td>1</td>\n    </tr>\n    <tr>\n      <th>11761</th>\n      <td>1408832719</td>\n      <td>1</td>\n    </tr>\n    <tr>\n      <th>11762</th>\n      <td>1408840919</td>\n      <td>1</td>\n    </tr>\n    <tr>\n      <th>11763</th>\n      <td>1408849249</td>\n      <td>1</td>\n    </tr>\n  </tbody>\n</table>\n<p>11764 rows × 2 columns</p>\n</div>"
     },
     "execution_count": 67,
     "metadata": {},
     "output_type": "execute_result"
    }
   ],
   "source": [
    "users_unique_brands"
   ],
   "metadata": {
    "collapsed": false,
    "pycharm": {
     "name": "#%%\n"
    }
   }
  },
  {
   "cell_type": "code",
   "execution_count": 68,
   "outputs": [],
   "source": [
    "??pd.DataFrame.merge"
   ],
   "metadata": {
    "collapsed": false,
    "pycharm": {
     "name": "#%%\n"
    }
   }
  },
  {
   "cell_type": "code",
   "execution_count": 72,
   "metadata": {
    "pycharm": {
     "name": "#%%\n"
    }
   },
   "outputs": [],
   "source": [
    "loyalty_df = users_purchases \\\n",
    "    .merge(users_unique_brands, on='user_id', how='inner') \\\n",
    "    .merge(lovely_brand_purchases_df, on='user_id', how='inner')"
   ]
  },
  {
   "cell_type": "code",
   "execution_count": 76,
   "metadata": {
    "pycharm": {
     "name": "#%%\n"
    }
   },
   "outputs": [
    {
     "data": {
      "text/plain": "         user_id  purchases  unique_brands lovely_brand  \\\n0           1031          6              2  Store_Brand   \n1           4241          5              2      Brand_4   \n2          25971          7              2  Store_Brand   \n3          40911         27              5      Brand_4   \n4          45181          5              4  Store_Brand   \n...          ...        ...            ...          ...   \n3378  1408767189          5              1      Brand_4   \n3379  1408783189         10              2  Store_Brand   \n3380  1408783379          6              2      Brand_1   \n3381  1408798879          8              3  Store_Brand   \n3382  1408810219          9              2      Brand_2   \n\n      lovely_brand_purchases  \n0                          5  \n1                          3  \n2                          5  \n3                         19  \n4                          2  \n...                      ...  \n3378                       5  \n3379                       8  \n3380                       4  \n3381                       4  \n3382                       6  \n\n[3383 rows x 5 columns]",
      "text/html": "<div>\n<style scoped>\n    .dataframe tbody tr th:only-of-type {\n        vertical-align: middle;\n    }\n\n    .dataframe tbody tr th {\n        vertical-align: top;\n    }\n\n    .dataframe thead th {\n        text-align: right;\n    }\n</style>\n<table border=\"1\" class=\"dataframe\">\n  <thead>\n    <tr style=\"text-align: right;\">\n      <th></th>\n      <th>user_id</th>\n      <th>purchases</th>\n      <th>unique_brands</th>\n      <th>lovely_brand</th>\n      <th>lovely_brand_purchases</th>\n    </tr>\n  </thead>\n  <tbody>\n    <tr>\n      <th>0</th>\n      <td>1031</td>\n      <td>6</td>\n      <td>2</td>\n      <td>Store_Brand</td>\n      <td>5</td>\n    </tr>\n    <tr>\n      <th>1</th>\n      <td>4241</td>\n      <td>5</td>\n      <td>2</td>\n      <td>Brand_4</td>\n      <td>3</td>\n    </tr>\n    <tr>\n      <th>2</th>\n      <td>25971</td>\n      <td>7</td>\n      <td>2</td>\n      <td>Store_Brand</td>\n      <td>5</td>\n    </tr>\n    <tr>\n      <th>3</th>\n      <td>40911</td>\n      <td>27</td>\n      <td>5</td>\n      <td>Brand_4</td>\n      <td>19</td>\n    </tr>\n    <tr>\n      <th>4</th>\n      <td>45181</td>\n      <td>5</td>\n      <td>4</td>\n      <td>Store_Brand</td>\n      <td>2</td>\n    </tr>\n    <tr>\n      <th>...</th>\n      <td>...</td>\n      <td>...</td>\n      <td>...</td>\n      <td>...</td>\n      <td>...</td>\n    </tr>\n    <tr>\n      <th>3378</th>\n      <td>1408767189</td>\n      <td>5</td>\n      <td>1</td>\n      <td>Brand_4</td>\n      <td>5</td>\n    </tr>\n    <tr>\n      <th>3379</th>\n      <td>1408783189</td>\n      <td>10</td>\n      <td>2</td>\n      <td>Store_Brand</td>\n      <td>8</td>\n    </tr>\n    <tr>\n      <th>3380</th>\n      <td>1408783379</td>\n      <td>6</td>\n      <td>2</td>\n      <td>Brand_1</td>\n      <td>4</td>\n    </tr>\n    <tr>\n      <th>3381</th>\n      <td>1408798879</td>\n      <td>8</td>\n      <td>3</td>\n      <td>Store_Brand</td>\n      <td>4</td>\n    </tr>\n    <tr>\n      <th>3382</th>\n      <td>1408810219</td>\n      <td>9</td>\n      <td>2</td>\n      <td>Brand_2</td>\n      <td>6</td>\n    </tr>\n  </tbody>\n</table>\n<p>3383 rows × 5 columns</p>\n</div>"
     },
     "execution_count": 76,
     "metadata": {},
     "output_type": "execute_result"
    }
   ],
   "source": [
    "loyalty_df"
   ]
  },
  {
   "cell_type": "code",
   "execution_count": 77,
   "metadata": {
    "pycharm": {
     "name": "#%%\n"
    }
   },
   "outputs": [],
   "source": [
    "loyal_users = loyalty_df[loyalty_df.unique_brands == 1]"
   ]
  },
  {
   "cell_type": "code",
   "execution_count": 112,
   "metadata": {
    "pycharm": {
     "name": "#%%\n"
    }
   },
   "outputs": [],
   "source": [
    "loyalty_df['loyalty_score'] = loyalty_df.lovely_brand_purchases / loyalty_df.purchases"
   ]
  },
  {
   "cell_type": "code",
   "execution_count": 141,
   "metadata": {
    "pycharm": {
     "name": "#%%\n"
    }
   },
   "outputs": [
    {
     "data": {
      "text/plain": "         user_id  purchases  unique_brands lovely_brand  \\\n13         86281         14              1      Brand_4   \n18         94961          6              1      Brand_4   \n29        132061          9              1      Brand_4   \n30        134281          6              1      Brand_4   \n35        157311         12              1      Brand_4   \n...          ...        ...            ...          ...   \n3372  1010244089          9              1  Store_Brand   \n3374  1010247239          5              1      Brand_4   \n3376  1010274559          5              1      Brand_4   \n3377  1110091379          5              1      Brand_1   \n3378  1408767189          5              1      Brand_4   \n\n      lovely_brand_purchases  \n13                        14  \n18                         6  \n29                         9  \n30                         6  \n35                        12  \n...                      ...  \n3372                       9  \n3374                       5  \n3376                       5  \n3377                       5  \n3378                       5  \n\n[911 rows x 5 columns]",
      "text/html": "<div>\n<style scoped>\n    .dataframe tbody tr th:only-of-type {\n        vertical-align: middle;\n    }\n\n    .dataframe tbody tr th {\n        vertical-align: top;\n    }\n\n    .dataframe thead th {\n        text-align: right;\n    }\n</style>\n<table border=\"1\" class=\"dataframe\">\n  <thead>\n    <tr style=\"text-align: right;\">\n      <th></th>\n      <th>user_id</th>\n      <th>purchases</th>\n      <th>unique_brands</th>\n      <th>lovely_brand</th>\n      <th>lovely_brand_purchases</th>\n    </tr>\n  </thead>\n  <tbody>\n    <tr>\n      <th>13</th>\n      <td>86281</td>\n      <td>14</td>\n      <td>1</td>\n      <td>Brand_4</td>\n      <td>14</td>\n    </tr>\n    <tr>\n      <th>18</th>\n      <td>94961</td>\n      <td>6</td>\n      <td>1</td>\n      <td>Brand_4</td>\n      <td>6</td>\n    </tr>\n    <tr>\n      <th>29</th>\n      <td>132061</td>\n      <td>9</td>\n      <td>1</td>\n      <td>Brand_4</td>\n      <td>9</td>\n    </tr>\n    <tr>\n      <th>30</th>\n      <td>134281</td>\n      <td>6</td>\n      <td>1</td>\n      <td>Brand_4</td>\n      <td>6</td>\n    </tr>\n    <tr>\n      <th>35</th>\n      <td>157311</td>\n      <td>12</td>\n      <td>1</td>\n      <td>Brand_4</td>\n      <td>12</td>\n    </tr>\n    <tr>\n      <th>...</th>\n      <td>...</td>\n      <td>...</td>\n      <td>...</td>\n      <td>...</td>\n      <td>...</td>\n    </tr>\n    <tr>\n      <th>3372</th>\n      <td>1010244089</td>\n      <td>9</td>\n      <td>1</td>\n      <td>Store_Brand</td>\n      <td>9</td>\n    </tr>\n    <tr>\n      <th>3374</th>\n      <td>1010247239</td>\n      <td>5</td>\n      <td>1</td>\n      <td>Brand_4</td>\n      <td>5</td>\n    </tr>\n    <tr>\n      <th>3376</th>\n      <td>1010274559</td>\n      <td>5</td>\n      <td>1</td>\n      <td>Brand_4</td>\n      <td>5</td>\n    </tr>\n    <tr>\n      <th>3377</th>\n      <td>1110091379</td>\n      <td>5</td>\n      <td>1</td>\n      <td>Brand_1</td>\n      <td>5</td>\n    </tr>\n    <tr>\n      <th>3378</th>\n      <td>1408767189</td>\n      <td>5</td>\n      <td>1</td>\n      <td>Brand_4</td>\n      <td>5</td>\n    </tr>\n  </tbody>\n</table>\n<p>911 rows × 5 columns</p>\n</div>"
     },
     "execution_count": 141,
     "metadata": {},
     "output_type": "execute_result"
    }
   ],
   "source": [
    "loyal_users"
   ]
  },
  {
   "cell_type": "code",
   "execution_count": 86,
   "metadata": {
    "pycharm": {
     "name": "#%%\n"
    }
   },
   "outputs": [
    {
     "data": {
      "text/plain": "<Figure size 640x480 with 1 Axes>",
      "image/png": "[encoded data removed]"
     },
     "metadata": {},
     "output_type": "display_data"
    }
   ],
   "source": [
    "ax = sns.histplot(loyalty_df.loyalty_score)"
   ]
  },
  {
   "cell_type": "code",
   "execution_count": 111,
   "outputs": [
    {
     "data": {
      "text/plain": "count    3383.000000\nmean        0.759356\nstd         0.198331\nmin         0.200000\n25%         0.600000\n50%         0.800000\n75%         1.000000\nmax         1.000000\nName: loyalty_score, dtype: float64"
     },
     "execution_count": 111,
     "metadata": {},
     "output_type": "execute_result"
    }
   ],
   "source": [
    "loyalty_df.loyalty_score.describe()"
   ],
   "metadata": {
    "collapsed": false,
    "pycharm": {
     "name": "#%%\n"
    }
   }
  },
  {
   "cell_type": "code",
   "execution_count": 117,
   "outputs": [
    {
     "data": {
      "text/plain": "767"
     },
     "execution_count": 117,
     "metadata": {},
     "output_type": "execute_result"
    }
   ],
   "source": [
    "loyalty_df.query('loyalty_score > 0.9 and lovely_brand == \"Brand_4\"').shape[0]"
   ],
   "metadata": {
    "collapsed": false,
    "pycharm": {
     "name": "#%%\n"
    }
   }
  },
  {
   "cell_type": "code",
   "execution_count": 136,
   "metadata": {
    "pycharm": {
     "name": "#%%\n"
    }
   },
   "outputs": [],
   "source": [
    "brands_loyalty = loyalty_df.groupby('lovely_brand', as_index=False) \\\n",
    "    .agg({'loyalty_score': 'median', 'user_id': 'count'})\\\n",
    "    .rename(columns={'user_id':'user_count'})\\\n",
    "    .sort_values(by='loyalty_score', ascending=False)"
   ]
  },
  {
   "cell_type": "code",
   "execution_count": 137,
   "outputs": [
    {
     "data": {
      "text/plain": "  lovely_brand  loyalty_score  user_count\n3      Brand_4       0.818182        2041\n6  Store_Brand       0.750000         715\n0      Brand_1       0.679487         410\n1      Brand_2       0.600000          88\n4      Brand_5       0.600000           5\n2      Brand_3       0.500000         115\n5      Brand_7       0.444444           9",
      "text/html": "<div>\n<style scoped>\n    .dataframe tbody tr th:only-of-type {\n        vertical-align: middle;\n    }\n\n    .dataframe tbody tr th {\n        vertical-align: top;\n    }\n\n    .dataframe thead th {\n        text-align: right;\n    }\n</style>\n<table border=\"1\" class=\"dataframe\">\n  <thead>\n    <tr style=\"text-align: right;\">\n      <th></th>\n      <th>lovely_brand</th>\n      <th>loyalty_score</th>\n      <th>user_count</th>\n    </tr>\n  </thead>\n  <tbody>\n    <tr>\n      <th>3</th>\n      <td>Brand_4</td>\n      <td>0.818182</td>\n      <td>2041</td>\n    </tr>\n    <tr>\n      <th>6</th>\n      <td>Store_Brand</td>\n      <td>0.750000</td>\n      <td>715</td>\n    </tr>\n    <tr>\n      <th>0</th>\n      <td>Brand_1</td>\n      <td>0.679487</td>\n      <td>410</td>\n    </tr>\n    <tr>\n      <th>1</th>\n      <td>Brand_2</td>\n      <td>0.600000</td>\n      <td>88</td>\n    </tr>\n    <tr>\n      <th>4</th>\n      <td>Brand_5</td>\n      <td>0.600000</td>\n      <td>5</td>\n    </tr>\n    <tr>\n      <th>2</th>\n      <td>Brand_3</td>\n      <td>0.500000</td>\n      <td>115</td>\n    </tr>\n    <tr>\n      <th>5</th>\n      <td>Brand_7</td>\n      <td>0.444444</td>\n      <td>9</td>\n    </tr>\n  </tbody>\n</table>\n</div>"
     },
     "execution_count": 137,
     "metadata": {},
     "output_type": "execute_result"
    }
   ],
   "source": [
    "brands_loyalty"
   ],
   "metadata": {
    "collapsed": false,
    "pycharm": {
     "name": "#%%\n"
    }
   }
  },
  {
   "cell_type": "code",
   "execution_count": 138,
   "metadata": {
    "pycharm": {
     "name": "#%%\n"
    }
   },
   "outputs": [
    {
     "data": {
      "text/plain": "<Figure size 640x480 with 1 Axes>",
      "image/png": "[encoded data removed]"
     },
     "metadata": {},
     "output_type": "display_data"
    }
   ],
   "source": [
    "ax=sns.barplot(x=\"lovely_brand\", y=\"loyalty_score\", data=brands_loyalty)"
   ]
  },
  {
   "cell_type": "code",
   "execution_count": 139,
   "metadata": {
    "pycharm": {
     "name": "#%%\n"
    }
   },
   "outputs": [
    {
     "data": {
      "text/plain": "<Figure size 640x480 with 1 Axes>",
      "image/png": "[encoded data removed]"
     },
     "metadata": {},
     "output_type": "display_data"
    }
   ],
   "source": [
    "ax2=sns.barplot(x=\"lovely_brand\", y=\"user_count\", data=brands_loyalty)"
   ]
  },
  {
   "cell_type": "markdown",
   "source": [
    "Вывод: Бренд 4 имеет максимальную лояльность (767 покупателей из 3383)"
   ],
   "metadata": {
    "collapsed": false,
    "pycharm": {
     "name": "#%% md\n"
    }
   }
  },
  {
   "cell_type": "markdown",
   "source": [
    "journey_id – уникальный id поездки\n",
    "user_id – id пользователя\n",
    "driver_id – id водителя\n",
    "taxi_id – id машины\n",
    "icon – тип поездки\n",
    "start_type – тип заказа (asap, reserved, delayed)\n",
    "start_at – время начала поездки\n",
    "start_lat – исходное местоположение пользователя, широта\n",
    "start_lon – исходное местоположение пользователя, долгота\n",
    "end_at – время окончания поездки\n",
    "end_lat – итоговое местоположение, широта\n",
    "end_lon – итоговое местоположение, долгота\n",
    "end_state – состояние заказа\n",
    "driver_start_lat – исходное местоположение водителя, широта\n",
    "driver_start_lon – исходное местоположение водителя, долгота\n",
    "arrived_at – время прибытия водителя\n",
    "source – платформа, с которой сделан заказ\n",
    "driver_score – оценка водителя клиентом\n",
    "rider_score – оценка клиента водителем"
   ],
   "metadata": {
    "collapsed": false,
    "pycharm": {
     "name": "#%% md\n"
    }
   }
  },
  {
   "cell_type": "code",
   "execution_count": 22,
   "outputs": [],
   "source": [
    "taxi = pd.read_csv('https://stepik.org/media/attachments/lesson/359240/taxi_peru.csv', sep=';', parse_dates=['start_at', 'end_at', 'arrived_at'])"
   ],
   "metadata": {
    "collapsed": false,
    "pycharm": {
     "name": "#%%\n"
    }
   }
  },
  {
   "cell_type": "code",
   "execution_count": 23,
   "outputs": [
    {
     "data": {
      "text/plain": "                             journey_id                           user_id  \\\n0      23a1406fc6a11d866e3c82f22eed4d4c  0e9af5bbf1edfe591b54ecdfd7e91e26   \n1      dd2af4715d0dc16eded53afc0e243577  a553c46e3a22fb9c326aeb3d72b3334e   \n2      dd91e131888064bf7df3ce08f3d4b4ad  a553c46e3a22fb9c326aeb3d72b3334e   \n3      dd2af4715d0dc16eded53afc0e2466d0  a553c46e3a22fb9c326aeb3d72b3334e   \n4      85b7eabcf5d84e42dc7629b7d27781af  56772d544fdfa589a020a1ff894a86f7   \n...                                 ...                               ...   \n23106  4a18ea5737ce0ffecaf20b305a0e2c86  8998bb370b5f0cec43a373adebba0c72   \n23107  f1e4317f2c17991dd90d1cd17ae0d399  5f8a6ffef0ea5df78a8ee890267b60ec   \n23108  1e44c0fd0a266c3719ff30410b257bce  c0ffb6f6cd801004dd8609c12277c2d1   \n23109  7073883383b89ad289e864022150cdd7  c0ffb6f6cd801004dd8609c12277c2d1   \n23110  b7dea45c3cc92b9efd5a4905e69ff9bf  c0ffb6f6cd801004dd8609c12277c2d1   \n\n                              driver_id                           taxi_id  \\\n0      583949a89a9ee17d19e3ca4f137b6b4c  b12f4f09c783e29fe0d0ea624530db56   \n1                                   NaN                               NaN   \n2                                   NaN                               NaN   \n3                                   NaN                               NaN   \n4      d665fb9f75ef5d9cd0fd89479380ba78  0accdd3aa5a322f4129fa20b53278c69   \n...                                 ...                               ...   \n23106  d665fb9f75ef5d9cd0fd89479380ba78  16cbe35db7fff70fbc8251b4cda9fdc9   \n23107  17c21284245ff240c7212732991c2373  716a697375634f32a06d692b0448f13d   \n23108  4851ee4c867c9b49b909c1adb76c31e9  4851ee4c867c9b49b909c1adb76c538e   \n23109  56f59b58bcbbd1cdabc3652e713134c2  924d4f0e7554566623e8ebb3904a7b0c   \n23110  924d4f0e7554566623e8ebb390491d08  924d4f0e7554566623e8ebb390491492   \n\n            icon start_type            start_at     start_lat     start_lon  \\\n0      executive       asap 2010-11-16 16:44:00  -12,13983536  -77,02355957   \n1      executive       asap 2010-06-01 00:34:00  -12,13874817  -76,99536133   \n2      executive       asap 2010-05-31 05:01:00  -12,12453079  -77,02780151   \n3      executive       asap 2010-06-01 00:29:00  -12,13885117  -76,99530029   \n4      executive   reserved 2010-09-11 23:55:00  -12,08995438  -76,92626953   \n...          ...        ...                 ...           ...           ...   \n23106  executive   reserved 2010-07-31 13:15:00  -12,08974075  -77,04699707   \n23107  executive       asap 2010-10-02 05:26:00  -12,09253011  -77,02875271   \n23108  executive       asap 2010-09-21 09:56:00   -12,1275637  -77,02642288   \n23109  executive   reserved 2010-04-29 04:30:00    -12,019468   -77,1077669   \n23110  executive       asap 2010-03-16 19:58:00   -12,1334974   -77,0272581   \n\n                   end_at       end_lat       end_lon     end_state  \\\n0     2010-11-16 17:29:00  -12,05537033   -77,0413208      drop off   \n1     2010-06-01 00:37:00  -12,12465668  -77,02886963     not found   \n2     2010-05-31 05:04:00  -12,13883209  -76,99530029     not found   \n3     2010-06-01 00:32:00  -12,12458801  -77,02896118     not found   \n4     2010-09-12 01:07:00  -12,02223206  -77,10638428      drop off   \n...                   ...           ...           ...           ...   \n23106 2010-07-31 13:27:00  -12,08352661  -77,05044556      drop off   \n23107 2010-10-02 05:56:00  -12,07776001  -77,05623798      drop off   \n23108 2010-09-21 10:18:00  -12,10529838  -77,04735249      drop off   \n23109 2010-04-29 05:11:00  -12,09909987  -77,03475013      drop off   \n23110 2010-03-16 20:02:00    -12,029174     -76,93977  rider cancel   \n\n      driver_start_lat driver_start_lon          arrived_at   source  \\\n0         -12,10825481      -77,0272739 2010-11-16 17:02:00   iPhone   \n1                  NaN              NaN                 NaT   iPhone   \n2                  NaN              NaN                 NaT   iPhone   \n3                  NaN              NaN                 NaT   iPhone   \n4         -12,08311558      -76,9277072 2010-09-11 23:50:00   iPhone   \n...                ...              ...                 ...      ...   \n23106     -12,08973527     -77,04787016 2010-07-31 13:15:00   iPhone   \n23107     -12,10639693     -77,04028948 2010-10-02 05:39:00  Android   \n23108     -12,12605017     -77,01882491 2010-09-21 10:05:00  Android   \n23109      -12,0710933     -77,09855131 2010-04-29 04:23:00  Android   \n23110     -12,09586711     -77,07372552                 NaT      web   \n\n       driver_score  rider_score  \n0               5.0          5.0  \n1               NaN          NaN  \n2               NaN          NaN  \n3               NaN          NaN  \n4               4.0          5.0  \n...             ...          ...  \n23106           5.0          5.0  \n23107           NaN          5.0  \n23108           0.0          0.0  \n23109           NaN          5.0  \n23110           NaN          NaN  \n\n[23111 rows x 19 columns]",
      "text/html": "<div>\n<style scoped>\n    .dataframe tbody tr th:only-of-type {\n        vertical-align: middle;\n    }\n\n    .dataframe tbody tr th {\n        vertical-align: top;\n    }\n\n    .dataframe thead th {\n        text-align: right;\n    }\n</style>\n<table border=\"1\" class=\"dataframe\">\n  <thead>\n    <tr style=\"text-align: right;\">\n      <th></th>\n      <th>journey_id</th>\n      <th>user_id</th>\n      <th>driver_id</th>\n      <th>taxi_id</th>\n      <th>icon</th>\n      <th>start_type</th>\n      <th>start_at</th>\n      <th>start_lat</th>\n      <th>start_lon</th>\n      <th>end_at</th>\n      <th>end_lat</th>\n      <th>end_lon</th>\n      <th>end_state</th>\n      <th>driver_start_lat</th>\n      <th>driver_start_lon</th>\n      <th>arrived_at</th>\n      <th>source</th>\n      <th>driver_score</th>\n      <th>rider_score</th>\n    </tr>\n  </thead>\n  <tbody>\n    <tr>\n      <th>0</th>\n      <td>23a1406fc6a11d866e3c82f22eed4d4c</td>\n      <td>0e9af5bbf1edfe591b54ecdfd7e91e26</td>\n      <td>583949a89a9ee17d19e3ca4f137b6b4c</td>\n      <td>b12f4f09c783e29fe0d0ea624530db56</td>\n      <td>executive</td>\n      <td>asap</td>\n      <td>2010-11-16 16:44:00</td>\n      <td>-12,13983536</td>\n      <td>-77,02355957</td>\n      <td>2010-11-16 17:29:00</td>\n      <td>-12,05537033</td>\n      <td>-77,0413208</td>\n      <td>drop off</td>\n      <td>-12,10825481</td>\n      <td>-77,0272739</td>\n      <td>2010-11-16 17:02:00</td>\n      <td>iPhone</td>\n      <td>5.0</td>\n      <td>5.0</td>\n    </tr>\n    <tr>\n      <th>1</th>\n      <td>dd2af4715d0dc16eded53afc0e243577</td>\n      <td>a553c46e3a22fb9c326aeb3d72b3334e</td>\n      <td>NaN</td>\n      <td>NaN</td>\n      <td>executive</td>\n      <td>asap</td>\n      <td>2010-06-01 00:34:00</td>\n      <td>-12,13874817</td>\n      <td>-76,99536133</td>\n      <td>2010-06-01 00:37:00</td>\n      <td>-12,12465668</td>\n      <td>-77,02886963</td>\n      <td>not found</td>\n      <td>NaN</td>\n      <td>NaN</td>\n      <td>NaT</td>\n      <td>iPhone</td>\n      <td>NaN</td>\n      <td>NaN</td>\n    </tr>\n    <tr>\n      <th>2</th>\n      <td>dd91e131888064bf7df3ce08f3d4b4ad</td>\n      <td>a553c46e3a22fb9c326aeb3d72b3334e</td>\n      <td>NaN</td>\n      <td>NaN</td>\n      <td>executive</td>\n      <td>asap</td>\n      <td>2010-05-31 05:01:00</td>\n      <td>-12,12453079</td>\n      <td>-77,02780151</td>\n      <td>2010-05-31 05:04:00</td>\n      <td>-12,13883209</td>\n      <td>-76,99530029</td>\n      <td>not found</td>\n      <td>NaN</td>\n      <td>NaN</td>\n      <td>NaT</td>\n      <td>iPhone</td>\n      <td>NaN</td>\n      <td>NaN</td>\n    </tr>\n    <tr>\n      <th>3</th>\n      <td>dd2af4715d0dc16eded53afc0e2466d0</td>\n      <td>a553c46e3a22fb9c326aeb3d72b3334e</td>\n      <td>NaN</td>\n      <td>NaN</td>\n      <td>executive</td>\n      <td>asap</td>\n      <td>2010-06-01 00:29:00</td>\n      <td>-12,13885117</td>\n      <td>-76,99530029</td>\n      <td>2010-06-01 00:32:00</td>\n      <td>-12,12458801</td>\n      <td>-77,02896118</td>\n      <td>not found</td>\n      <td>NaN</td>\n      <td>NaN</td>\n      <td>NaT</td>\n      <td>iPhone</td>\n      <td>NaN</td>\n      <td>NaN</td>\n    </tr>\n    <tr>\n      <th>4</th>\n      <td>85b7eabcf5d84e42dc7629b7d27781af</td>\n      <td>56772d544fdfa589a020a1ff894a86f7</td>\n      <td>d665fb9f75ef5d9cd0fd89479380ba78</td>\n      <td>0accdd3aa5a322f4129fa20b53278c69</td>\n      <td>executive</td>\n      <td>reserved</td>\n      <td>2010-09-11 23:55:00</td>\n      <td>-12,08995438</td>\n      <td>-76,92626953</td>\n      <td>2010-09-12 01:07:00</td>\n      <td>-12,02223206</td>\n      <td>-77,10638428</td>\n      <td>drop off</td>\n      <td>-12,08311558</td>\n      <td>-76,9277072</td>\n      <td>2010-09-11 23:50:00</td>\n      <td>iPhone</td>\n      <td>4.0</td>\n      <td>5.0</td>\n    </tr>\n    <tr>\n      <th>...</th>\n      <td>...</td>\n      <td>...</td>\n      <td>...</td>\n      <td>...</td>\n      <td>...</td>\n      <td>...</td>\n      <td>...</td>\n      <td>...</td>\n      <td>...</td>\n      <td>...</td>\n      <td>...</td>\n      <td>...</td>\n      <td>...</td>\n      <td>...</td>\n      <td>...</td>\n      <td>...</td>\n      <td>...</td>\n      <td>...</td>\n      <td>...</td>\n    </tr>\n    <tr>\n      <th>23106</th>\n      <td>4a18ea5737ce0ffecaf20b305a0e2c86</td>\n      <td>8998bb370b5f0cec43a373adebba0c72</td>\n      <td>d665fb9f75ef5d9cd0fd89479380ba78</td>\n      <td>16cbe35db7fff70fbc8251b4cda9fdc9</td>\n      <td>executive</td>\n      <td>reserved</td>\n      <td>2010-07-31 13:15:00</td>\n      <td>-12,08974075</td>\n      <td>-77,04699707</td>\n      <td>2010-07-31 13:27:00</td>\n      <td>-12,08352661</td>\n      <td>-77,05044556</td>\n      <td>drop off</td>\n      <td>-12,08973527</td>\n      <td>-77,04787016</td>\n      <td>2010-07-31 13:15:00</td>\n      <td>iPhone</td>\n      <td>5.0</td>\n      <td>5.0</td>\n    </tr>\n    <tr>\n      <th>23107</th>\n      <td>f1e4317f2c17991dd90d1cd17ae0d399</td>\n      <td>5f8a6ffef0ea5df78a8ee890267b60ec</td>\n      <td>17c21284245ff240c7212732991c2373</td>\n      <td>716a697375634f32a06d692b0448f13d</td>\n      <td>executive</td>\n      <td>asap</td>\n      <td>2010-10-02 05:26:00</td>\n      <td>-12,09253011</td>\n      <td>-77,02875271</td>\n      <td>2010-10-02 05:56:00</td>\n      <td>-12,07776001</td>\n      <td>-77,05623798</td>\n      <td>drop off</td>\n      <td>-12,10639693</td>\n      <td>-77,04028948</td>\n      <td>2010-10-02 05:39:00</td>\n      <td>Android</td>\n      <td>NaN</td>\n      <td>5.0</td>\n    </tr>\n    <tr>\n      <th>23108</th>\n      <td>1e44c0fd0a266c3719ff30410b257bce</td>\n      <td>c0ffb6f6cd801004dd8609c12277c2d1</td>\n      <td>4851ee4c867c9b49b909c1adb76c31e9</td>\n      <td>4851ee4c867c9b49b909c1adb76c538e</td>\n      <td>executive</td>\n      <td>asap</td>\n      <td>2010-09-21 09:56:00</td>\n      <td>-12,1275637</td>\n      <td>-77,02642288</td>\n      <td>2010-09-21 10:18:00</td>\n      <td>-12,10529838</td>\n      <td>-77,04735249</td>\n      <td>drop off</td>\n      <td>-12,12605017</td>\n      <td>-77,01882491</td>\n      <td>2010-09-21 10:05:00</td>\n      <td>Android</td>\n      <td>0.0</td>\n      <td>0.0</td>\n    </tr>\n    <tr>\n      <th>23109</th>\n      <td>7073883383b89ad289e864022150cdd7</td>\n      <td>c0ffb6f6cd801004dd8609c12277c2d1</td>\n      <td>56f59b58bcbbd1cdabc3652e713134c2</td>\n      <td>924d4f0e7554566623e8ebb3904a7b0c</td>\n      <td>executive</td>\n      <td>reserved</td>\n      <td>2010-04-29 04:30:00</td>\n      <td>-12,019468</td>\n      <td>-77,1077669</td>\n      <td>2010-04-29 05:11:00</td>\n      <td>-12,09909987</td>\n      <td>-77,03475013</td>\n      <td>drop off</td>\n      <td>-12,0710933</td>\n      <td>-77,09855131</td>\n      <td>2010-04-29 04:23:00</td>\n      <td>Android</td>\n      <td>NaN</td>\n      <td>5.0</td>\n    </tr>\n    <tr>\n      <th>23110</th>\n      <td>b7dea45c3cc92b9efd5a4905e69ff9bf</td>\n      <td>c0ffb6f6cd801004dd8609c12277c2d1</td>\n      <td>924d4f0e7554566623e8ebb390491d08</td>\n      <td>924d4f0e7554566623e8ebb390491492</td>\n      <td>executive</td>\n      <td>asap</td>\n      <td>2010-03-16 19:58:00</td>\n      <td>-12,1334974</td>\n      <td>-77,0272581</td>\n      <td>2010-03-16 20:02:00</td>\n      <td>-12,029174</td>\n      <td>-76,93977</td>\n      <td>rider cancel</td>\n      <td>-12,09586711</td>\n      <td>-77,07372552</td>\n      <td>NaT</td>\n      <td>web</td>\n      <td>NaN</td>\n      <td>NaN</td>\n    </tr>\n  </tbody>\n</table>\n<p>23111 rows × 19 columns</p>\n</div>"
     },
     "execution_count": 23,
     "metadata": {},
     "output_type": "execute_result"
    }
   ],
   "source": [
    "taxi"
   ],
   "metadata": {
    "collapsed": false,
    "pycharm": {
     "name": "#%%\n"
    }
   }
  },
  {
   "cell_type": "markdown",
   "source": [],
   "metadata": {
    "collapsed": false,
    "pycharm": {
     "name": "#%% md\n"
    }
   }
  },
  {
   "cell_type": "code",
   "execution_count": 45,
   "outputs": [
    {
     "data": {
      "text/plain": "    source  proportion\n0   iPhone       42.37\n1      web       33.20\n2  Android       21.35\n3     iPad        2.48\n4      Wap        0.59",
      "text/html": "<div>\n<style scoped>\n    .dataframe tbody tr th:only-of-type {\n        vertical-align: middle;\n    }\n\n    .dataframe tbody tr th {\n        vertical-align: top;\n    }\n\n    .dataframe thead th {\n        text-align: right;\n    }\n</style>\n<table border=\"1\" class=\"dataframe\">\n  <thead>\n    <tr style=\"text-align: right;\">\n      <th></th>\n      <th>source</th>\n      <th>proportion</th>\n    </tr>\n  </thead>\n  <tbody>\n    <tr>\n      <th>0</th>\n      <td>iPhone</td>\n      <td>42.37</td>\n    </tr>\n    <tr>\n      <th>1</th>\n      <td>web</td>\n      <td>33.20</td>\n    </tr>\n    <tr>\n      <th>2</th>\n      <td>Android</td>\n      <td>21.35</td>\n    </tr>\n    <tr>\n      <th>3</th>\n      <td>iPad</td>\n      <td>2.48</td>\n    </tr>\n    <tr>\n      <th>4</th>\n      <td>Wap</td>\n      <td>0.59</td>\n    </tr>\n  </tbody>\n</table>\n</div>"
     },
     "execution_count": 45,
     "metadata": {},
     "output_type": "execute_result"
    }
   ],
   "source": [
    "source_proportion = round(taxi.source.value_counts(normalize=True, dropna=True).mul(100), 2).reset_index() # normalize=True <<< вместо векторного деления на taxi.shape[0]\n",
    "source_proportion"
   ],
   "metadata": {
    "collapsed": false,
    "pycharm": {
     "name": "#%%\n"
    }
   }
  },
  {
   "cell_type": "code",
   "execution_count": 52,
   "outputs": [
    {
     "data": {
      "text/plain": "'iPhone'"
     },
     "execution_count": 52,
     "metadata": {},
     "output_type": "execute_result"
    }
   ],
   "source": [
    "most_popular_source = source_proportion.sort_values(by='proportion', ascending=False).loc[0]['source']\n",
    "most_popular_source"
   ],
   "metadata": {
    "collapsed": false,
    "pycharm": {
     "name": "#%%\n"
    }
   }
  },
  {
   "cell_type": "code",
   "execution_count": 80,
   "outputs": [
    {
     "data": {
      "text/plain": "<Figure size 400x200 with 1 Axes>",
      "image/png": "[encoded data removed]"
     },
     "metadata": {},
     "output_type": "display_data"
    }
   ],
   "source": [
    "# Set up the matplotlib figure\n",
    "f, (ax) = plt.subplots(1, 1, figsize=(4, 2), sharex=True)\n",
    "\n",
    "# Generate some sequential data\n",
    "x = np.array(list(source_proportion.source))\n",
    "y = np.array(list(source_proportion.proportion))\n",
    "sns.barplot(x=x, y=y, hue=x, palette=\"rocket\", ax=ax, data=source_proportion)\n",
    "ax.axhline(0, color=\"k\", clip_on=False)\n",
    "ax.set(xlabel='Platform', ylabel='Proportion') # подписываем оси\n",
    "\n",
    "\n",
    "# Finalize the plot\n",
    "sns.despine()"
   ],
   "metadata": {
    "collapsed": false,
    "pycharm": {
     "name": "#%%\n"
    }
   }
  },
  {
   "cell_type": "code",
   "execution_count": 85,
   "outputs": [
    {
     "data": {
      "text/plain": "<Figure size 400x300 with 1 Axes>",
      "image/png": "[encoded data removed]"
     },
     "metadata": {},
     "output_type": "display_data"
    }
   ],
   "source": [
    "plt.figure(figsize=(4,3)) # указываем размер графика, чтобы он был побольше\n",
    "a = sns.countplot(x='icon', data=taxi) # строим и записываем в переменную\n",
    "a.set(xlabel='Icon', ylabel='Count') # подписываем оси\n",
    "sns.despine() # убрать часть рамки графика\n",
    "plt.show()"
   ],
   "metadata": {
    "collapsed": false,
    "pycharm": {
     "name": "#%%\n"
    }
   }
  },
  {
   "cell_type": "code",
   "execution_count": 86,
   "outputs": [
    {
     "data": {
      "text/plain": "<Figure size 1000x600 with 1 Axes>",
      "image/png": "[encoded data removed]"
     },
     "metadata": {},
     "output_type": "display_data"
    }
   ],
   "source": [
    "plt.figure(figsize=(10,6)) # указываем размер графика, чтобы он был побольше\n",
    "sns.countplot(data=taxi, hue='end_state', x='source') # строим график с нужными параметрами\n",
    "plt.show()"
   ],
   "metadata": {
    "collapsed": false,
    "pycharm": {
     "name": "#%%\n"
    }
   }
  },
  {
   "cell_type": "code",
   "execution_count": null,
   "outputs": [],
   "source": [],
   "metadata": {
    "collapsed": false,
    "pycharm": {
     "name": "#%%\n"
    }
   }
  }
 ],
 "metadata": {
  "kernelspec": {
   "display_name": "Python 3",
   "language": "python",
   "name": "python3"
  },
  "language_info": {
   "codemirror_mode": {
    "name": "ipython",
    "version": 3
   },
   "file_extension": ".py",
   "mimetype": "text/x-python",
   "name": "python",
   "nbconvert_exporter": "python",
   "pygments_lexer": "ipython3",
   "version": "3.7.3"
  }
 },
 "nbformat": 4,
 "nbformat_minor": 4
}