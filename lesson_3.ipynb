{
 "cells": [
  {
   "cell_type": "code",
   "execution_count": 46,
   "metadata": {
    "pycharm": {
     "name": "#%%\n"
    }
   },
   "outputs": [],
   "source": [
    "import pandas as pd\n",
    "\n",
    "import seaborn as sns\n",
    "import matplotlib.pyplot as plt\n",
    "\n",
    "%matplotlib inline"
   ]
  },
  {
   "cell_type": "code",
   "execution_count": 47,
   "metadata": {
    "pycharm": {
     "name": "#%%\n"
    }
   },
   "outputs": [],
   "source": [
    "df = pd.read_csv('https://stepik.org/media/attachments/lesson/383523/lesson_3_data__1_.csv', encoding='windows-1251')"
   ]
  },
  {
   "cell_type": "code",
   "execution_count": 48,
   "metadata": {
    "pycharm": {
     "name": "#%%\n"
    }
   },
   "outputs": [
    {
     "data": {
      "text/plain": "   Unnamed: 0                  tk  pl         dia        hs         tc  \\\n0        1242  120071109002055793   1  2007/11/09  0.505729  110000761   \n1        1243  120070601004053633   1  2007/06/01  0.588519  110000761   \n2        1244  120070928004076410   1  2007/09/28  0.785498   28491841   \n3        1245  120070616003074261   1  2007/06/16  0.550961   95931501   \n4        1246  120070519001018477   1  2007/05/19  0.804954   93265591   \n\n        cta  id_art  id_subsubfam   id_subfam  ...   id_famn  id_seccion  \\\n0  11000076   21895  101070640100  1010706401  ...  10107064       10107   \n1  11000076   21816  101070640100  1010706401  ...  10107064       10107   \n2   2849184  562840  101070640100  1010706401  ...  10107064       10107   \n3   9593150   28914  101070640100  1010706401  ...  10107064       10107   \n4   9326559  159867  101070640100  1010706401  ...  10107064       10107   \n\n   id_subagr  id_agr   vta  uni  id_artn                              art_sp  \\\n0        101       1  0.68  1.0    21895  MARAVILLA        500 G Store_Brand   \n1        101       1  0.38  1.0    21816  FIDEO CABELLIN   500 G Store_Brand   \n2        101       1  1.55  2.0   562840        SPAGUETTI Nє 5 500 G Brand_1   \n3        101       1  1.03  2.0    28914       FIDEO FIDEUБ      500 Brand_7   \n4        101       1  1.09  1.0   159867      MACARRONES  GRATINAR 5 Brand_2   \n\n                 fam_sp fam_en  \n0  PASTA ALIMENTICIA SE  pasta  \n1  PASTA ALIMENTICIA SE  pasta  \n2  PASTA ALIMENTICIA SE  pasta  \n3  PASTA ALIMENTICIA SE  pasta  \n4  PASTA ALIMENTICIA SE  pasta  \n\n[5 rows x 21 columns]",
      "text/html": "<div>\n<style scoped>\n    .dataframe tbody tr th:only-of-type {\n        vertical-align: middle;\n    }\n\n    .dataframe tbody tr th {\n        vertical-align: top;\n    }\n\n    .dataframe thead th {\n        text-align: right;\n    }\n</style>\n<table border=\"1\" class=\"dataframe\">\n  <thead>\n    <tr style=\"text-align: right;\">\n      <th></th>\n      <th>Unnamed: 0</th>\n      <th>tk</th>\n      <th>pl</th>\n      <th>dia</th>\n      <th>hs</th>\n      <th>tc</th>\n      <th>cta</th>\n      <th>id_art</th>\n      <th>id_subsubfam</th>\n      <th>id_subfam</th>\n      <th>...</th>\n      <th>id_famn</th>\n      <th>id_seccion</th>\n      <th>id_subagr</th>\n      <th>id_agr</th>\n      <th>vta</th>\n      <th>uni</th>\n      <th>id_artn</th>\n      <th>art_sp</th>\n      <th>fam_sp</th>\n      <th>fam_en</th>\n    </tr>\n  </thead>\n  <tbody>\n    <tr>\n      <th>0</th>\n      <td>1242</td>\n      <td>120071109002055793</td>\n      <td>1</td>\n      <td>2007/11/09</td>\n      <td>0.505729</td>\n      <td>110000761</td>\n      <td>11000076</td>\n      <td>21895</td>\n      <td>101070640100</td>\n      <td>1010706401</td>\n      <td>...</td>\n      <td>10107064</td>\n      <td>10107</td>\n      <td>101</td>\n      <td>1</td>\n      <td>0.68</td>\n      <td>1.0</td>\n      <td>21895</td>\n      <td>MARAVILLA        500 G Store_Brand</td>\n      <td>PASTA ALIMENTICIA SE</td>\n      <td>pasta</td>\n    </tr>\n    <tr>\n      <th>1</th>\n      <td>1243</td>\n      <td>120070601004053633</td>\n      <td>1</td>\n      <td>2007/06/01</td>\n      <td>0.588519</td>\n      <td>110000761</td>\n      <td>11000076</td>\n      <td>21816</td>\n      <td>101070640100</td>\n      <td>1010706401</td>\n      <td>...</td>\n      <td>10107064</td>\n      <td>10107</td>\n      <td>101</td>\n      <td>1</td>\n      <td>0.38</td>\n      <td>1.0</td>\n      <td>21816</td>\n      <td>FIDEO CABELLIN   500 G Store_Brand</td>\n      <td>PASTA ALIMENTICIA SE</td>\n      <td>pasta</td>\n    </tr>\n    <tr>\n      <th>2</th>\n      <td>1244</td>\n      <td>120070928004076410</td>\n      <td>1</td>\n      <td>2007/09/28</td>\n      <td>0.785498</td>\n      <td>28491841</td>\n      <td>2849184</td>\n      <td>562840</td>\n      <td>101070640100</td>\n      <td>1010706401</td>\n      <td>...</td>\n      <td>10107064</td>\n      <td>10107</td>\n      <td>101</td>\n      <td>1</td>\n      <td>1.55</td>\n      <td>2.0</td>\n      <td>562840</td>\n      <td>SPAGUETTI Nє 5 500 G Brand_1</td>\n      <td>PASTA ALIMENTICIA SE</td>\n      <td>pasta</td>\n    </tr>\n    <tr>\n      <th>3</th>\n      <td>1245</td>\n      <td>120070616003074261</td>\n      <td>1</td>\n      <td>2007/06/16</td>\n      <td>0.550961</td>\n      <td>95931501</td>\n      <td>9593150</td>\n      <td>28914</td>\n      <td>101070640100</td>\n      <td>1010706401</td>\n      <td>...</td>\n      <td>10107064</td>\n      <td>10107</td>\n      <td>101</td>\n      <td>1</td>\n      <td>1.03</td>\n      <td>2.0</td>\n      <td>28914</td>\n      <td>FIDEO FIDEUБ      500 Brand_7</td>\n      <td>PASTA ALIMENTICIA SE</td>\n      <td>pasta</td>\n    </tr>\n    <tr>\n      <th>4</th>\n      <td>1246</td>\n      <td>120070519001018477</td>\n      <td>1</td>\n      <td>2007/05/19</td>\n      <td>0.804954</td>\n      <td>93265591</td>\n      <td>9326559</td>\n      <td>159867</td>\n      <td>101070640100</td>\n      <td>1010706401</td>\n      <td>...</td>\n      <td>10107064</td>\n      <td>10107</td>\n      <td>101</td>\n      <td>1</td>\n      <td>1.09</td>\n      <td>1.0</td>\n      <td>159867</td>\n      <td>MACARRONES  GRATINAR 5 Brand_2</td>\n      <td>PASTA ALIMENTICIA SE</td>\n      <td>pasta</td>\n    </tr>\n  </tbody>\n</table>\n<p>5 rows × 21 columns</p>\n</div>"
     },
     "execution_count": 48,
     "metadata": {},
     "output_type": "execute_result"
    }
   ],
   "source": [
    "df.head()"
   ]
  },
  {
   "cell_type": "code",
   "execution_count": 49,
   "metadata": {
    "pycharm": {
     "name": "#%%\n"
    }
   },
   "outputs": [],
   "source": [
    "user_df = df[['tc', 'art_sp']]"
   ]
  },
  {
   "cell_type": "code",
   "execution_count": 50,
   "metadata": {
    "pycharm": {
     "name": "#%%\n"
    }
   },
   "outputs": [
    {
     "data": {
      "text/plain": "               tc                              art_sp\n0       110000761  MARAVILLA        500 G Store_Brand\n1       110000761  FIDEO CABELLIN   500 G Store_Brand\n2        28491841        SPAGUETTI Nє 5 500 G Brand_1\n3        95931501       FIDEO FIDEUБ      500 Brand_7\n4        93265591      MACARRONES  GRATINAR 5 Brand_2\n...           ...                                 ...\n48124    45518841      FIDEOS 0         500 G Brand_4\n48125   110824211      PLUMAS 3         500 G Brand_4\n48126  1408670389  MACARRONES       500 G Store_Brand\n48127  1408670389  SPAGHETTI        500 G Store_Brand\n48128    48582221  SPAGHETTINI      500 G Store_Brand\n\n[48129 rows x 2 columns]",
      "text/html": "<div>\n<style scoped>\n    .dataframe tbody tr th:only-of-type {\n        vertical-align: middle;\n    }\n\n    .dataframe tbody tr th {\n        vertical-align: top;\n    }\n\n    .dataframe thead th {\n        text-align: right;\n    }\n</style>\n<table border=\"1\" class=\"dataframe\">\n  <thead>\n    <tr style=\"text-align: right;\">\n      <th></th>\n      <th>tc</th>\n      <th>art_sp</th>\n    </tr>\n  </thead>\n  <tbody>\n    <tr>\n      <th>0</th>\n      <td>110000761</td>\n      <td>MARAVILLA        500 G Store_Brand</td>\n    </tr>\n    <tr>\n      <th>1</th>\n      <td>110000761</td>\n      <td>FIDEO CABELLIN   500 G Store_Brand</td>\n    </tr>\n    <tr>\n      <th>2</th>\n      <td>28491841</td>\n      <td>SPAGUETTI Nє 5 500 G Brand_1</td>\n    </tr>\n    <tr>\n      <th>3</th>\n      <td>95931501</td>\n      <td>FIDEO FIDEUБ      500 Brand_7</td>\n    </tr>\n    <tr>\n      <th>4</th>\n      <td>93265591</td>\n      <td>MACARRONES  GRATINAR 5 Brand_2</td>\n    </tr>\n    <tr>\n      <th>...</th>\n      <td>...</td>\n      <td>...</td>\n    </tr>\n    <tr>\n      <th>48124</th>\n      <td>45518841</td>\n      <td>FIDEOS 0         500 G Brand_4</td>\n    </tr>\n    <tr>\n      <th>48125</th>\n      <td>110824211</td>\n      <td>PLUMAS 3         500 G Brand_4</td>\n    </tr>\n    <tr>\n      <th>48126</th>\n      <td>1408670389</td>\n      <td>MACARRONES       500 G Store_Brand</td>\n    </tr>\n    <tr>\n      <th>48127</th>\n      <td>1408670389</td>\n      <td>SPAGHETTI        500 G Store_Brand</td>\n    </tr>\n    <tr>\n      <th>48128</th>\n      <td>48582221</td>\n      <td>SPAGHETTINI      500 G Store_Brand</td>\n    </tr>\n  </tbody>\n</table>\n<p>48129 rows × 2 columns</p>\n</div>"
     },
     "execution_count": 50,
     "metadata": {},
     "output_type": "execute_result"
    }
   ],
   "source": [
    "user_df"
   ]
  },
  {
   "cell_type": "code",
   "execution_count": 51,
   "metadata": {
    "pycharm": {
     "name": "#%%\n"
    }
   },
   "outputs": [],
   "source": [
    "user_df = user_df.rename(columns={'tc': 'user_id', 'art_sp': 'brand_info'})"
   ]
  },
  {
   "cell_type": "code",
   "execution_count": 52,
   "metadata": {
    "pycharm": {
     "name": "#%%\n"
    }
   },
   "outputs": [
    {
     "data": {
      "text/plain": "     user_id                          brand_info\n0  110000761  MARAVILLA        500 G Store_Brand\n1  110000761  FIDEO CABELLIN   500 G Store_Brand\n2   28491841        SPAGUETTI Nє 5 500 G Brand_1\n3   95931501       FIDEO FIDEUБ      500 Brand_7\n4   93265591      MACARRONES  GRATINAR 5 Brand_2",
      "text/html": "<div>\n<style scoped>\n    .dataframe tbody tr th:only-of-type {\n        vertical-align: middle;\n    }\n\n    .dataframe tbody tr th {\n        vertical-align: top;\n    }\n\n    .dataframe thead th {\n        text-align: right;\n    }\n</style>\n<table border=\"1\" class=\"dataframe\">\n  <thead>\n    <tr style=\"text-align: right;\">\n      <th></th>\n      <th>user_id</th>\n      <th>brand_info</th>\n    </tr>\n  </thead>\n  <tbody>\n    <tr>\n      <th>0</th>\n      <td>110000761</td>\n      <td>MARAVILLA        500 G Store_Brand</td>\n    </tr>\n    <tr>\n      <th>1</th>\n      <td>110000761</td>\n      <td>FIDEO CABELLIN   500 G Store_Brand</td>\n    </tr>\n    <tr>\n      <th>2</th>\n      <td>28491841</td>\n      <td>SPAGUETTI Nє 5 500 G Brand_1</td>\n    </tr>\n    <tr>\n      <th>3</th>\n      <td>95931501</td>\n      <td>FIDEO FIDEUБ      500 Brand_7</td>\n    </tr>\n    <tr>\n      <th>4</th>\n      <td>93265591</td>\n      <td>MACARRONES  GRATINAR 5 Brand_2</td>\n    </tr>\n  </tbody>\n</table>\n</div>"
     },
     "execution_count": 52,
     "metadata": {},
     "output_type": "execute_result"
    }
   ],
   "source": [
    "user_df.head()"
   ]
  },
  {
   "cell_type": "code",
   "execution_count": 53,
   "metadata": {
    "pycharm": {
     "name": "#%%\n"
    }
   },
   "outputs": [],
   "source": [
    "def split_brand(brand_name_data):\n",
    "    return brand_name_data.split(' ')[-1]"
   ]
  },
  {
   "cell_type": "code",
   "execution_count": 54,
   "metadata": {
    "pycharm": {
     "name": "#%%\n"
    }
   },
   "outputs": [],
   "source": [
    "user_df['brand_name'] = user_df.brand_info.apply(split_brand)"
   ]
  },
  {
   "cell_type": "code",
   "execution_count": 55,
   "metadata": {
    "pycharm": {
     "name": "#%%\n"
    }
   },
   "outputs": [],
   "source": [
    "# user_df['brand_name'] = user_df.brand_info.apply(lambda x: x.split(' ')[-1])\n",
    "# используем lambda функцию, чтобы разрезать строку по пробелу и взять последний элемент"
   ]
  },
  {
   "cell_type": "code",
   "execution_count": 56,
   "metadata": {
    "pycharm": {
     "name": "#%%\n"
    }
   },
   "outputs": [
    {
     "data": {
      "text/plain": "     user_id                          brand_info   brand_name\n0  110000761  MARAVILLA        500 G Store_Brand  Store_Brand\n1  110000761  FIDEO CABELLIN   500 G Store_Brand  Store_Brand\n2   28491841        SPAGUETTI Nє 5 500 G Brand_1      Brand_1\n3   95931501       FIDEO FIDEUБ      500 Brand_7      Brand_7\n4   93265591      MACARRONES  GRATINAR 5 Brand_2      Brand_2",
      "text/html": "<div>\n<style scoped>\n    .dataframe tbody tr th:only-of-type {\n        vertical-align: middle;\n    }\n\n    .dataframe tbody tr th {\n        vertical-align: top;\n    }\n\n    .dataframe thead th {\n        text-align: right;\n    }\n</style>\n<table border=\"1\" class=\"dataframe\">\n  <thead>\n    <tr style=\"text-align: right;\">\n      <th></th>\n      <th>user_id</th>\n      <th>brand_info</th>\n      <th>brand_name</th>\n    </tr>\n  </thead>\n  <tbody>\n    <tr>\n      <th>0</th>\n      <td>110000761</td>\n      <td>MARAVILLA        500 G Store_Brand</td>\n      <td>Store_Brand</td>\n    </tr>\n    <tr>\n      <th>1</th>\n      <td>110000761</td>\n      <td>FIDEO CABELLIN   500 G Store_Brand</td>\n      <td>Store_Brand</td>\n    </tr>\n    <tr>\n      <th>2</th>\n      <td>28491841</td>\n      <td>SPAGUETTI Nє 5 500 G Brand_1</td>\n      <td>Brand_1</td>\n    </tr>\n    <tr>\n      <th>3</th>\n      <td>95931501</td>\n      <td>FIDEO FIDEUБ      500 Brand_7</td>\n      <td>Brand_7</td>\n    </tr>\n    <tr>\n      <th>4</th>\n      <td>93265591</td>\n      <td>MACARRONES  GRATINAR 5 Brand_2</td>\n      <td>Brand_2</td>\n    </tr>\n  </tbody>\n</table>\n</div>"
     },
     "execution_count": 56,
     "metadata": {},
     "output_type": "execute_result"
    }
   ],
   "source": [
    "user_df.head()"
   ]
  },
  {
   "cell_type": "code",
   "execution_count": 57,
   "metadata": {
    "pycharm": {
     "name": "#%%\n"
    }
   },
   "outputs": [],
   "source": [
    "users_purchases = user_df.groupby('user_id', as_index=False) \\\n",
    "    .agg({'brand_name': 'count'}) \\\n",
    "    .rename(columns={'brand_name': 'purchases'})"
   ]
  },
  {
   "cell_type": "code",
   "execution_count": 58,
   "outputs": [
    {
     "data": {
      "text/plain": "            user_id     purchases\ncount  1.176400e+04  11764.000000\nmean   7.690517e+07      4.091210\nstd    1.622210e+08      4.573143\nmin   -1.236395e+09      1.000000\n25%    1.503761e+07      1.000000\n50%    4.682179e+07      2.000000\n75%    9.311601e+07      5.000000\nmax    1.408849e+09     60.000000",
      "text/html": "<div>\n<style scoped>\n    .dataframe tbody tr th:only-of-type {\n        vertical-align: middle;\n    }\n\n    .dataframe tbody tr th {\n        vertical-align: top;\n    }\n\n    .dataframe thead th {\n        text-align: right;\n    }\n</style>\n<table border=\"1\" class=\"dataframe\">\n  <thead>\n    <tr style=\"text-align: right;\">\n      <th></th>\n      <th>user_id</th>\n      <th>purchases</th>\n    </tr>\n  </thead>\n  <tbody>\n    <tr>\n      <th>count</th>\n      <td>1.176400e+04</td>\n      <td>11764.000000</td>\n    </tr>\n    <tr>\n      <th>mean</th>\n      <td>7.690517e+07</td>\n      <td>4.091210</td>\n    </tr>\n    <tr>\n      <th>std</th>\n      <td>1.622210e+08</td>\n      <td>4.573143</td>\n    </tr>\n    <tr>\n      <th>min</th>\n      <td>-1.236395e+09</td>\n      <td>1.000000</td>\n    </tr>\n    <tr>\n      <th>25%</th>\n      <td>1.503761e+07</td>\n      <td>1.000000</td>\n    </tr>\n    <tr>\n      <th>50%</th>\n      <td>4.682179e+07</td>\n      <td>2.000000</td>\n    </tr>\n    <tr>\n      <th>75%</th>\n      <td>9.311601e+07</td>\n      <td>5.000000</td>\n    </tr>\n    <tr>\n      <th>max</th>\n      <td>1.408849e+09</td>\n      <td>60.000000</td>\n    </tr>\n  </tbody>\n</table>\n</div>"
     },
     "execution_count": 58,
     "metadata": {},
     "output_type": "execute_result"
    }
   ],
   "source": [
    "users_purchases.describe()"
   ],
   "metadata": {
    "collapsed": false,
    "pycharm": {
     "name": "#%%\n"
    }
   }
  },
  {
   "cell_type": "code",
   "execution_count": 59,
   "outputs": [
    {
     "data": {
      "text/plain": "2.0"
     },
     "execution_count": 59,
     "metadata": {},
     "output_type": "execute_result"
    }
   ],
   "source": [
    "users_purchases.purchases.median()"
   ],
   "metadata": {
    "collapsed": false,
    "pycharm": {
     "name": "#%%\n"
    }
   }
  },
  {
   "cell_type": "code",
   "execution_count": 60,
   "outputs": [],
   "source": [
    "users_purchases=users_purchases.query('purchases >= 5')"
   ],
   "metadata": {
    "collapsed": false,
    "pycharm": {
     "name": "#%%\n"
    }
   }
  },
  {
   "cell_type": "code",
   "execution_count": 61,
   "outputs": [
    {
     "data": {
      "text/plain": "user_id      28425471.0\npurchases           7.0\ndtype: float64"
     },
     "execution_count": 61,
     "metadata": {},
     "output_type": "execute_result"
    }
   ],
   "source": [
    "users_purchases.median()"
   ],
   "metadata": {
    "collapsed": false,
    "pycharm": {
     "name": "#%%\n"
    }
   }
  },
  {
   "cell_type": "code",
   "execution_count": 62,
   "outputs": [
    {
     "data": {
      "text/plain": "    user_id  purchases\n1      1031          6\n2      4241          5\n11    25971          7\n14    40911         27\n16    45181          5",
      "text/html": "<div>\n<style scoped>\n    .dataframe tbody tr th:only-of-type {\n        vertical-align: middle;\n    }\n\n    .dataframe tbody tr th {\n        vertical-align: top;\n    }\n\n    .dataframe thead th {\n        text-align: right;\n    }\n</style>\n<table border=\"1\" class=\"dataframe\">\n  <thead>\n    <tr style=\"text-align: right;\">\n      <th></th>\n      <th>user_id</th>\n      <th>purchases</th>\n    </tr>\n  </thead>\n  <tbody>\n    <tr>\n      <th>1</th>\n      <td>1031</td>\n      <td>6</td>\n    </tr>\n    <tr>\n      <th>2</th>\n      <td>4241</td>\n      <td>5</td>\n    </tr>\n    <tr>\n      <th>11</th>\n      <td>25971</td>\n      <td>7</td>\n    </tr>\n    <tr>\n      <th>14</th>\n      <td>40911</td>\n      <td>27</td>\n    </tr>\n    <tr>\n      <th>16</th>\n      <td>45181</td>\n      <td>5</td>\n    </tr>\n  </tbody>\n</table>\n</div>"
     },
     "execution_count": 62,
     "metadata": {},
     "output_type": "execute_result"
    }
   ],
   "source": [
    "users_purchases.head()"
   ],
   "metadata": {
    "collapsed": false,
    "pycharm": {
     "name": "#%%\n"
    }
   }
  },
  {
   "cell_type": "code",
   "execution_count": 63,
   "outputs": [
    {
     "data": {
      "text/plain": "   user_id   brand_name  brand_info\n1     1031      Brand_3           1\n2     1031  Store_Brand           5",
      "text/html": "<div>\n<style scoped>\n    .dataframe tbody tr th:only-of-type {\n        vertical-align: middle;\n    }\n\n    .dataframe tbody tr th {\n        vertical-align: top;\n    }\n\n    .dataframe thead th {\n        text-align: right;\n    }\n</style>\n<table border=\"1\" class=\"dataframe\">\n  <thead>\n    <tr style=\"text-align: right;\">\n      <th></th>\n      <th>user_id</th>\n      <th>brand_name</th>\n      <th>brand_info</th>\n    </tr>\n  </thead>\n  <tbody>\n    <tr>\n      <th>1</th>\n      <td>1031</td>\n      <td>Brand_3</td>\n      <td>1</td>\n    </tr>\n    <tr>\n      <th>2</th>\n      <td>1031</td>\n      <td>Store_Brand</td>\n      <td>5</td>\n    </tr>\n  </tbody>\n</table>\n</div>"
     },
     "execution_count": 63,
     "metadata": {},
     "output_type": "execute_result"
    }
   ],
   "source": [
    "user_df.groupby(['user_id', 'brand_name'], as_index=False)\\\n",
    "    .agg({'brand_info': 'count'})\\\n",
    "    .query('user_id==1031')"
   ],
   "metadata": {
    "collapsed": false,
    "pycharm": {
     "name": "#%%\n"
    }
   }
  },
  {
   "cell_type": "code",
   "execution_count": 64,
   "outputs": [],
   "source": [
    "lovely_brand_purchases_df = user_df.groupby(['user_id', 'brand_name'], as_index=False) \\\n",
    "    .agg({'brand_info': 'count'}) \\\n",
    "    .sort_values(['user_id', 'brand_info'], ascending=[False, False]) \\\n",
    "    .groupby('user_id') \\\n",
    "    .head(1) \\\n",
    "    .rename(columns={'brand_name': 'lovely_brand','brand_info': 'lovely_brand_purchases'})"
   ],
   "metadata": {
    "collapsed": false,
    "pycharm": {
     "name": "#%%\n"
    }
   }
  },
  {
   "cell_type": "code",
   "execution_count": 65,
   "outputs": [
    {
     "data": {
      "text/plain": "          user_id lovely_brand  lovely_brand_purchases\n18187  1408849249  Store_Brand                       1\n18186  1408840919  Store_Brand                       1\n18185  1408832719      Brand_4                       3\n18184  1408825059      Brand_1                       1\n18183  1408817589  Store_Brand                       2\n...           ...          ...                     ...\n6           17312      Brand_1                       1\n5           17311      Brand_4                       2\n3            4241      Brand_4                       3\n2            1031  Store_Brand                       5\n0     -1236394515      Brand_4                       1\n\n[11764 rows x 3 columns]",
      "text/html": "<div>\n<style scoped>\n    .dataframe tbody tr th:only-of-type {\n        vertical-align: middle;\n    }\n\n    .dataframe tbody tr th {\n        vertical-align: top;\n    }\n\n    .dataframe thead th {\n        text-align: right;\n    }\n</style>\n<table border=\"1\" class=\"dataframe\">\n  <thead>\n    <tr style=\"text-align: right;\">\n      <th></th>\n      <th>user_id</th>\n      <th>lovely_brand</th>\n      <th>lovely_brand_purchases</th>\n    </tr>\n  </thead>\n  <tbody>\n    <tr>\n      <th>18187</th>\n      <td>1408849249</td>\n      <td>Store_Brand</td>\n      <td>1</td>\n    </tr>\n    <tr>\n      <th>18186</th>\n      <td>1408840919</td>\n      <td>Store_Brand</td>\n      <td>1</td>\n    </tr>\n    <tr>\n      <th>18185</th>\n      <td>1408832719</td>\n      <td>Brand_4</td>\n      <td>3</td>\n    </tr>\n    <tr>\n      <th>18184</th>\n      <td>1408825059</td>\n      <td>Brand_1</td>\n      <td>1</td>\n    </tr>\n    <tr>\n      <th>18183</th>\n      <td>1408817589</td>\n      <td>Store_Brand</td>\n      <td>2</td>\n    </tr>\n    <tr>\n      <th>...</th>\n      <td>...</td>\n      <td>...</td>\n      <td>...</td>\n    </tr>\n    <tr>\n      <th>6</th>\n      <td>17312</td>\n      <td>Brand_1</td>\n      <td>1</td>\n    </tr>\n    <tr>\n      <th>5</th>\n      <td>17311</td>\n      <td>Brand_4</td>\n      <td>2</td>\n    </tr>\n    <tr>\n      <th>3</th>\n      <td>4241</td>\n      <td>Brand_4</td>\n      <td>3</td>\n    </tr>\n    <tr>\n      <th>2</th>\n      <td>1031</td>\n      <td>Store_Brand</td>\n      <td>5</td>\n    </tr>\n    <tr>\n      <th>0</th>\n      <td>-1236394515</td>\n      <td>Brand_4</td>\n      <td>1</td>\n    </tr>\n  </tbody>\n</table>\n<p>11764 rows × 3 columns</p>\n</div>"
     },
     "execution_count": 65,
     "metadata": {},
     "output_type": "execute_result"
    }
   ],
   "source": [
    "lovely_brand_purchases_df"
   ],
   "metadata": {
    "collapsed": false,
    "pycharm": {
     "name": "#%%\n"
    }
   }
  },
  {
   "cell_type": "code",
   "execution_count": 66,
   "metadata": {
    "pycharm": {
     "name": "#%%\n"
    }
   },
   "outputs": [],
   "source": [
    "users_unique_brands = user_df.groupby('user_id', as_index=False) \\\n",
    "    .agg({'brand_name': pd.Series.nunique}) \\\n",
    "    .rename(columns={'brand_name': 'unique_brands'})"
   ]
  },
  {
   "cell_type": "code",
   "execution_count": 67,
   "outputs": [
    {
     "data": {
      "text/plain": "          user_id  unique_brands\n0     -1236394515              1\n1            1031              2\n2            4241              2\n3           17311              1\n4           17312              2\n...           ...            ...\n11759  1408817589              2\n11760  1408825059              1\n11761  1408832719              1\n11762  1408840919              1\n11763  1408849249              1\n\n[11764 rows x 2 columns]",
      "text/html": "<div>\n<style scoped>\n    .dataframe tbody tr th:only-of-type {\n        vertical-align: middle;\n    }\n\n    .dataframe tbody tr th {\n        vertical-align: top;\n    }\n\n    .dataframe thead th {\n        text-align: right;\n    }\n</style>\n<table border=\"1\" class=\"dataframe\">\n  <thead>\n    <tr style=\"text-align: right;\">\n      <th></th>\n      <th>user_id</th>\n      <th>unique_brands</th>\n    </tr>\n  </thead>\n  <tbody>\n    <tr>\n      <th>0</th>\n      <td>-1236394515</td>\n      <td>1</td>\n    </tr>\n    <tr>\n      <th>1</th>\n      <td>1031</td>\n      <td>2</td>\n    </tr>\n    <tr>\n      <th>2</th>\n      <td>4241</td>\n      <td>2</td>\n    </tr>\n    <tr>\n      <th>3</th>\n      <td>17311</td>\n      <td>1</td>\n    </tr>\n    <tr>\n      <th>4</th>\n      <td>17312</td>\n      <td>2</td>\n    </tr>\n    <tr>\n      <th>...</th>\n      <td>...</td>\n      <td>...</td>\n    </tr>\n    <tr>\n      <th>11759</th>\n      <td>1408817589</td>\n      <td>2</td>\n    </tr>\n    <tr>\n      <th>11760</th>\n      <td>1408825059</td>\n      <td>1</td>\n    </tr>\n    <tr>\n      <th>11761</th>\n      <td>1408832719</td>\n      <td>1</td>\n    </tr>\n    <tr>\n      <th>11762</th>\n      <td>1408840919</td>\n      <td>1</td>\n    </tr>\n    <tr>\n      <th>11763</th>\n      <td>1408849249</td>\n      <td>1</td>\n    </tr>\n  </tbody>\n</table>\n<p>11764 rows × 2 columns</p>\n</div>"
     },
     "execution_count": 67,
     "metadata": {},
     "output_type": "execute_result"
    }
   ],
   "source": [
    "users_unique_brands"
   ],
   "metadata": {
    "collapsed": false,
    "pycharm": {
     "name": "#%%\n"
    }
   }
  },
  {
   "cell_type": "code",
   "execution_count": 68,
   "outputs": [],
   "source": [
    "??pd.DataFrame.merge"
   ],
   "metadata": {
    "collapsed": false,
    "pycharm": {
     "name": "#%%\n"
    }
   }
  },
  {
   "cell_type": "code",
   "execution_count": 72,
   "metadata": {
    "pycharm": {
     "name": "#%%\n"
    }
   },
   "outputs": [],
   "source": [
    "loyalty_df = users_purchases \\\n",
    "    .merge(users_unique_brands, on='user_id', how='inner') \\\n",
    "    .merge(lovely_brand_purchases_df, on='user_id', how='inner')"
   ]
  },
  {
   "cell_type": "code",
   "execution_count": 76,
   "metadata": {
    "pycharm": {
     "name": "#%%\n"
    }
   },
   "outputs": [
    {
     "data": {
      "text/plain": "         user_id  purchases  unique_brands lovely_brand  \\\n0           1031          6              2  Store_Brand   \n1           4241          5              2      Brand_4   \n2          25971          7              2  Store_Brand   \n3          40911         27              5      Brand_4   \n4          45181          5              4  Store_Brand   \n...          ...        ...            ...          ...   \n3378  1408767189          5              1      Brand_4   \n3379  1408783189         10              2  Store_Brand   \n3380  1408783379          6              2      Brand_1   \n3381  1408798879          8              3  Store_Brand   \n3382  1408810219          9              2      Brand_2   \n\n      lovely_brand_purchases  \n0                          5  \n1                          3  \n2                          5  \n3                         19  \n4                          2  \n...                      ...  \n3378                       5  \n3379                       8  \n3380                       4  \n3381                       4  \n3382                       6  \n\n[3383 rows x 5 columns]",
      "text/html": "<div>\n<style scoped>\n    .dataframe tbody tr th:only-of-type {\n        vertical-align: middle;\n    }\n\n    .dataframe tbody tr th {\n        vertical-align: top;\n    }\n\n    .dataframe thead th {\n        text-align: right;\n    }\n</style>\n<table border=\"1\" class=\"dataframe\">\n  <thead>\n    <tr style=\"text-align: right;\">\n      <th></th>\n      <th>user_id</th>\n      <th>purchases</th>\n      <th>unique_brands</th>\n      <th>lovely_brand</th>\n      <th>lovely_brand_purchases</th>\n    </tr>\n  </thead>\n  <tbody>\n    <tr>\n      <th>0</th>\n      <td>1031</td>\n      <td>6</td>\n      <td>2</td>\n      <td>Store_Brand</td>\n      <td>5</td>\n    </tr>\n    <tr>\n      <th>1</th>\n      <td>4241</td>\n      <td>5</td>\n      <td>2</td>\n      <td>Brand_4</td>\n      <td>3</td>\n    </tr>\n    <tr>\n      <th>2</th>\n      <td>25971</td>\n      <td>7</td>\n      <td>2</td>\n      <td>Store_Brand</td>\n      <td>5</td>\n    </tr>\n    <tr>\n      <th>3</th>\n      <td>40911</td>\n      <td>27</td>\n      <td>5</td>\n      <td>Brand_4</td>\n      <td>19</td>\n    </tr>\n    <tr>\n      <th>4</th>\n      <td>45181</td>\n      <td>5</td>\n      <td>4</td>\n      <td>Store_Brand</td>\n      <td>2</td>\n    </tr>\n    <tr>\n      <th>...</th>\n      <td>...</td>\n      <td>...</td>\n      <td>...</td>\n      <td>...</td>\n      <td>...</td>\n    </tr>\n    <tr>\n      <th>3378</th>\n      <td>1408767189</td>\n      <td>5</td>\n      <td>1</td>\n      <td>Brand_4</td>\n      <td>5</td>\n    </tr>\n    <tr>\n      <th>3379</th>\n      <td>1408783189</td>\n      <td>10</td>\n      <td>2</td>\n      <td>Store_Brand</td>\n      <td>8</td>\n    </tr>\n    <tr>\n      <th>3380</th>\n      <td>1408783379</td>\n      <td>6</td>\n      <td>2</td>\n      <td>Brand_1</td>\n      <td>4</td>\n    </tr>\n    <tr>\n      <th>3381</th>\n      <td>1408798879</td>\n      <td>8</td>\n      <td>3</td>\n      <td>Store_Brand</td>\n      <td>4</td>\n    </tr>\n    <tr>\n      <th>3382</th>\n      <td>1408810219</td>\n      <td>9</td>\n      <td>2</td>\n      <td>Brand_2</td>\n      <td>6</td>\n    </tr>\n  </tbody>\n</table>\n<p>3383 rows × 5 columns</p>\n</div>"
     },
     "execution_count": 76,
     "metadata": {},
     "output_type": "execute_result"
    }
   ],
   "source": [
    "loyalty_df"
   ]
  },
  {
   "cell_type": "code",
   "execution_count": 77,
   "metadata": {
    "pycharm": {
     "name": "#%%\n"
    }
   },
   "outputs": [],
   "source": [
    "loyal_users = loyalty_df[loyalty_df.unique_brands == 1]"
   ]
  },
  {
   "cell_type": "code",
   "execution_count": 112,
   "metadata": {
    "pycharm": {
     "name": "#%%\n"
    }
   },
   "outputs": [],
   "source": [
    "loyalty_df['loyalty_score'] = loyalty_df.lovely_brand_purchases / loyalty_df.purchases"
   ]
  },
  {
   "cell_type": "code",
   "execution_count": 141,
   "metadata": {
    "pycharm": {
     "name": "#%%\n"
    }
   },
   "outputs": [
    {
     "data": {
      "text/plain": "         user_id  purchases  unique_brands lovely_brand  \\\n13         86281         14              1      Brand_4   \n18         94961          6              1      Brand_4   \n29        132061          9              1      Brand_4   \n30        134281          6              1      Brand_4   \n35        157311         12              1      Brand_4   \n...          ...        ...            ...          ...   \n3372  1010244089          9              1  Store_Brand   \n3374  1010247239          5              1      Brand_4   \n3376  1010274559          5              1      Brand_4   \n3377  1110091379          5              1      Brand_1   \n3378  1408767189          5              1      Brand_4   \n\n      lovely_brand_purchases  \n13                        14  \n18                         6  \n29                         9  \n30                         6  \n35                        12  \n...                      ...  \n3372                       9  \n3374                       5  \n3376                       5  \n3377                       5  \n3378                       5  \n\n[911 rows x 5 columns]",
      "text/html": "<div>\n<style scoped>\n    .dataframe tbody tr th:only-of-type {\n        vertical-align: middle;\n    }\n\n    .dataframe tbody tr th {\n        vertical-align: top;\n    }\n\n    .dataframe thead th {\n        text-align: right;\n    }\n</style>\n<table border=\"1\" class=\"dataframe\">\n  <thead>\n    <tr style=\"text-align: right;\">\n      <th></th>\n      <th>user_id</th>\n      <th>purchases</th>\n      <th>unique_brands</th>\n      <th>lovely_brand</th>\n      <th>lovely_brand_purchases</th>\n    </tr>\n  </thead>\n  <tbody>\n    <tr>\n      <th>13</th>\n      <td>86281</td>\n      <td>14</td>\n      <td>1</td>\n      <td>Brand_4</td>\n      <td>14</td>\n    </tr>\n    <tr>\n      <th>18</th>\n      <td>94961</td>\n      <td>6</td>\n      <td>1</td>\n      <td>Brand_4</td>\n      <td>6</td>\n    </tr>\n    <tr>\n      <th>29</th>\n      <td>132061</td>\n      <td>9</td>\n      <td>1</td>\n      <td>Brand_4</td>\n      <td>9</td>\n    </tr>\n    <tr>\n      <th>30</th>\n      <td>134281</td>\n      <td>6</td>\n      <td>1</td>\n      <td>Brand_4</td>\n      <td>6</td>\n    </tr>\n    <tr>\n      <th>35</th>\n      <td>157311</td>\n      <td>12</td>\n      <td>1</td>\n      <td>Brand_4</td>\n      <td>12</td>\n    </tr>\n    <tr>\n      <th>...</th>\n      <td>...</td>\n      <td>...</td>\n      <td>...</td>\n      <td>...</td>\n      <td>...</td>\n    </tr>\n    <tr>\n      <th>3372</th>\n      <td>1010244089</td>\n      <td>9</td>\n      <td>1</td>\n      <td>Store_Brand</td>\n      <td>9</td>\n    </tr>\n    <tr>\n      <th>3374</th>\n      <td>1010247239</td>\n      <td>5</td>\n      <td>1</td>\n      <td>Brand_4</td>\n      <td>5</td>\n    </tr>\n    <tr>\n      <th>3376</th>\n      <td>1010274559</td>\n      <td>5</td>\n      <td>1</td>\n      <td>Brand_4</td>\n      <td>5</td>\n    </tr>\n    <tr>\n      <th>3377</th>\n      <td>1110091379</td>\n      <td>5</td>\n      <td>1</td>\n      <td>Brand_1</td>\n      <td>5</td>\n    </tr>\n    <tr>\n      <th>3378</th>\n      <td>1408767189</td>\n      <td>5</td>\n      <td>1</td>\n      <td>Brand_4</td>\n      <td>5</td>\n    </tr>\n  </tbody>\n</table>\n<p>911 rows × 5 columns</p>\n</div>"
     },
     "execution_count": 141,
     "metadata": {},
     "output_type": "execute_result"
    }
   ],
   "source": [
    "loyal_users"
   ]
  },
  {
   "cell_type": "code",
   "execution_count": 86,
   "metadata": {
    "pycharm": {
     "name": "#%%\n"
    }
   },
   "outputs": [
    {
     "data": {
      "text/plain": "<Figure size 640x480 with 1 Axes>",
      "image/png": "[encoded data removed]"
     },
     "metadata": {},
     "output_type": "display_data"
    }
   ],
   "source": [
    "ax = sns.histplot(loyalty_df.loyalty_score)"
   ]
  },
  {
   "cell_type": "code",
   "execution_count": 111,
   "outputs": [
    {
     "data": {
      "text/plain": "count    3383.000000\nmean        0.759356\nstd         0.198331\nmin         0.200000\n25%         0.600000\n50%         0.800000\n75%         1.000000\nmax         1.000000\nName: loyalty_score, dtype: float64"
     },
     "execution_count": 111,
     "metadata": {},
     "output_type": "execute_result"
    }
   ],
   "source": [
    "loyalty_df.loyalty_score.describe()"
   ],
   "metadata": {
    "collapsed": false,
    "pycharm": {
     "name": "#%%\n"
    }
   }
  },
  {
   "cell_type": "code",
   "execution_count": 117,
   "outputs": [
    {
     "data": {
      "text/plain": "767"
     },
     "execution_count": 117,
     "metadata": {},
     "output_type": "execute_result"
    }
   ],
   "source": [
    "loyalty_df.query('loyalty_score > 0.9 and lovely_brand == \"Brand_4\"').shape[0]"
   ],
   "metadata": {
    "collapsed": false,
    "pycharm": {
     "name": "#%%\n"
    }
   }
  },
  {
   "cell_type": "code",
   "execution_count": 136,
   "metadata": {
    "pycharm": {
     "name": "#%%\n"
    }
   },
   "outputs": [],
   "source": [
    "brands_loyalty = loyalty_df.groupby('lovely_brand', as_index=False) \\\n",
    "    .agg({'loyalty_score': 'median', 'user_id': 'count'})\\\n",
    "    .rename(columns={'user_id':'user_count'})\\\n",
    "    .sort_values(by='loyalty_score', ascending=False)"
   ]
  },
  {
   "cell_type": "code",
   "execution_count": 137,
   "outputs": [
    {
     "data": {
      "text/plain": "  lovely_brand  loyalty_score  user_count\n3      Brand_4       0.818182        2041\n6  Store_Brand       0.750000         715\n0      Brand_1       0.679487         410\n1      Brand_2       0.600000          88\n4      Brand_5       0.600000           5\n2      Brand_3       0.500000         115\n5      Brand_7       0.444444           9",
      "text/html": "<div>\n<style scoped>\n    .dataframe tbody tr th:only-of-type {\n        vertical-align: middle;\n    }\n\n    .dataframe tbody tr th {\n        vertical-align: top;\n    }\n\n    .dataframe thead th {\n        text-align: right;\n    }\n</style>\n<table border=\"1\" class=\"dataframe\">\n  <thead>\n    <tr style=\"text-align: right;\">\n      <th></th>\n      <th>lovely_brand</th>\n      <th>loyalty_score</th>\n      <th>user_count</th>\n    </tr>\n  </thead>\n  <tbody>\n    <tr>\n      <th>3</th>\n      <td>Brand_4</td>\n      <td>0.818182</td>\n      <td>2041</td>\n    </tr>\n    <tr>\n      <th>6</th>\n      <td>Store_Brand</td>\n      <td>0.750000</td>\n      <td>715</td>\n    </tr>\n    <tr>\n      <th>0</th>\n      <td>Brand_1</td>\n      <td>0.679487</td>\n      <td>410</td>\n    </tr>\n    <tr>\n      <th>1</th>\n      <td>Brand_2</td>\n      <td>0.600000</td>\n      <td>88</td>\n    </tr>\n    <tr>\n      <th>4</th>\n      <td>Brand_5</td>\n      <td>0.600000</td>\n      <td>5</td>\n    </tr>\n    <tr>\n      <th>2</th>\n      <td>Brand_3</td>\n      <td>0.500000</td>\n      <td>115</td>\n    </tr>\n    <tr>\n      <th>5</th>\n      <td>Brand_7</td>\n      <td>0.444444</td>\n      <td>9</td>\n    </tr>\n  </tbody>\n</table>\n</div>"
     },
     "execution_count": 137,
     "metadata": {},
     "output_type": "execute_result"
    }
   ],
   "source": [
    "brands_loyalty"
   ],
   "metadata": {
    "collapsed": false,
    "pycharm": {
     "name": "#%%\n"
    }
   }
  },
  {
   "cell_type": "code",
   "execution_count": 138,
   "metadata": {
    "pycharm": {
     "name": "#%%\n"
    }
   },
   "outputs": [
    {
     "data": {
      "text/plain": "<Figure size 640x480 with 1 Axes>",
      "image/png": "[encoded data removed]"
     },
     "metadata": {},
     "output_type": "display_data"
    }
   ],
   "source": [
    "ax=sns.barplot(x=\"lovely_brand\", y=\"loyalty_score\", data=brands_loyalty)"
   ]
  },
  {
   "cell_type": "code",
   "execution_count": 139,
   "metadata": {
    "pycharm": {
     "name": "#%%\n"
    }
   },
   "outputs": [
    {
     "data": {
      "text/plain": "<Figure size 640x480 with 1 Axes>",
      "image/png": "[encoded data removed]"
     },
     "metadata": {},
     "output_type": "display_data"
    }
   ],
   "source": [
    "ax2=sns.barplot(x=\"lovely_brand\", y=\"user_count\", data=brands_loyalty)"
   ]
  },
  {
   "cell_type": "markdown",
   "source": [
    "Вывод: Бренд 4 имеет максимальную лояльность (767 покупателей из 3383)"
   ],
   "metadata": {
    "collapsed": false,
    "pycharm": {
     "name": "#%% md\n"
    }
   }
  },
  {
   "cell_type": "code",
   "execution_count": null,
   "outputs": [],
   "source": [],
   "metadata": {
    "collapsed": false,
    "pycharm": {
     "name": "#%%\n"
    }
   }
  }
 ],
 "metadata": {
  "kernelspec": {
   "display_name": "Python 3",
   "language": "python",
   "name": "python3"
  },
  "language_info": {
   "codemirror_mode": {
    "name": "ipython",
    "version": 3
   },
   "file_extension": ".py",
   "mimetype": "text/x-python",
   "name": "python",
   "nbconvert_exporter": "python",
   "pygments_lexer": "ipython3",
   "version": "3.7.3"
  }
 },
 "nbformat": 4,
 "nbformat_minor": 4
}